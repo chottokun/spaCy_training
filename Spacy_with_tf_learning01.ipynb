{
  "nbformat": 4,
  "nbformat_minor": 0,
  "metadata": {
    "colab": {
      "provenance": [],
      "collapsed_sections": [],
      "machine_shape": "hm",
      "authorship_tag": "ABX9TyNznPpboax7i5noSquOvMYU",
      "include_colab_link": true
    },
    "kernelspec": {
      "name": "python3",
      "display_name": "Python 3"
    },
    "language_info": {
      "name": "python"
    },
    "accelerator": "GPU",
    "gpuClass": "standard"
  },
  "cells": [
    {
      "cell_type": "markdown",
      "metadata": {
        "id": "view-in-github",
        "colab_type": "text"
      },
      "source": [
        "<a href=\"https://colab.research.google.com/github/chottokun/spaCy_training/blob/main/Spacy_with_tf_learning01.ipynb\" target=\"_parent\"><img src=\"https://colab.research.google.com/assets/colab-badge.svg\" alt=\"Open In Colab\"/></a>"
      ]
    },
    {
      "cell_type": "markdown",
      "source": [
        "spaCyで東北大のBERTモデルでNER学習をする。\n",
        "\n",
        "まずは、こちらを参考に・・・  \n",
        "https://www.ogis-ri.co.jp/otc/hiroba/technical/similar-document-search/part15.html\n",
        "\n",
        "configがうまく行かないので  \n",
        "https://github.com/megagonlabs/UD_Japanese-GSD/blob/master/spacy/config/ja_gsd_bert_v2.cfg  \n",
        "こちらを参考に作り直した。  \n",
        "\n",
        "先人に感謝  \n",
        "https://github.com/megagonlabs/UD_Japanese-GSD/blob/master/leader_board.md  \n",
        "\n"
      ],
      "metadata": {
        "id": "Fm0hcmW5wS2n"
      }
    },
    {
      "cell_type": "code",
      "source": [
        "#in colab cell\n",
        "!nvcc --version"
      ],
      "metadata": {
        "colab": {
          "base_uri": "https://localhost:8080/"
        },
        "id": "zb52loAZzVsa",
        "outputId": "ca673216-feaf-485b-df8f-d93f51edfa08"
      },
      "execution_count": 1,
      "outputs": [
        {
          "output_type": "stream",
          "name": "stdout",
          "text": [
            "nvcc: NVIDIA (R) Cuda compiler driver\n",
            "Copyright (c) 2005-2021 NVIDIA Corporation\n",
            "Built on Sun_Feb_14_21:12:58_PST_2021\n",
            "Cuda compilation tools, release 11.2, V11.2.152\n",
            "Build cuda_11.2.r11.2/compiler.29618528_0\n"
          ]
        }
      ]
    },
    {
      "cell_type": "code",
      "execution_count": 2,
      "metadata": {
        "colab": {
          "base_uri": "https://localhost:8080/"
        },
        "id": "P1NlVXb1qGMt",
        "outputId": "3b4aa11c-dec5-4c8a-fea6-cfe151f75858"
      },
      "outputs": [
        {
          "output_type": "stream",
          "name": "stdout",
          "text": [
            "Looking in indexes: https://pypi.org/simple, https://us-python.pkg.dev/colab-wheels/public/simple/\n",
            "Requirement already satisfied: spacy[cuda112,ja,lookups,transformers] in /usr/local/lib/python3.7/dist-packages (3.4.2)\n",
            "Requirement already satisfied: srsly<3.0.0,>=2.4.3 in /usr/local/lib/python3.7/dist-packages (from spacy[cuda112,ja,lookups,transformers]) (2.4.5)\n",
            "Requirement already satisfied: cymem<2.1.0,>=2.0.2 in /usr/local/lib/python3.7/dist-packages (from spacy[cuda112,ja,lookups,transformers]) (2.0.7)\n",
            "Requirement already satisfied: tqdm<5.0.0,>=4.38.0 in /usr/local/lib/python3.7/dist-packages (from spacy[cuda112,ja,lookups,transformers]) (4.64.1)\n",
            "Requirement already satisfied: pydantic!=1.8,!=1.8.1,<1.11.0,>=1.7.4 in /usr/local/lib/python3.7/dist-packages (from spacy[cuda112,ja,lookups,transformers]) (1.10.2)\n",
            "Requirement already satisfied: spacy-loggers<2.0.0,>=1.0.0 in /usr/local/lib/python3.7/dist-packages (from spacy[cuda112,ja,lookups,transformers]) (1.0.3)\n",
            "Requirement already satisfied: wasabi<1.1.0,>=0.9.1 in /usr/local/lib/python3.7/dist-packages (from spacy[cuda112,ja,lookups,transformers]) (0.10.1)\n",
            "Requirement already satisfied: requests<3.0.0,>=2.13.0 in /usr/local/lib/python3.7/dist-packages (from spacy[cuda112,ja,lookups,transformers]) (2.23.0)\n",
            "Requirement already satisfied: spacy-legacy<3.1.0,>=3.0.10 in /usr/local/lib/python3.7/dist-packages (from spacy[cuda112,ja,lookups,transformers]) (3.0.10)\n",
            "Requirement already satisfied: langcodes<4.0.0,>=3.2.0 in /usr/local/lib/python3.7/dist-packages (from spacy[cuda112,ja,lookups,transformers]) (3.3.0)\n",
            "Requirement already satisfied: pathy>=0.3.5 in /usr/local/lib/python3.7/dist-packages (from spacy[cuda112,ja,lookups,transformers]) (0.6.2)\n",
            "Requirement already satisfied: typing-extensions<4.2.0,>=3.7.4 in /usr/local/lib/python3.7/dist-packages (from spacy[cuda112,ja,lookups,transformers]) (4.1.1)\n",
            "Requirement already satisfied: murmurhash<1.1.0,>=0.28.0 in /usr/local/lib/python3.7/dist-packages (from spacy[cuda112,ja,lookups,transformers]) (1.0.9)\n",
            "Requirement already satisfied: catalogue<2.1.0,>=2.0.6 in /usr/local/lib/python3.7/dist-packages (from spacy[cuda112,ja,lookups,transformers]) (2.0.8)\n",
            "Requirement already satisfied: thinc<8.2.0,>=8.1.0 in /usr/local/lib/python3.7/dist-packages (from spacy[cuda112,ja,lookups,transformers]) (8.1.5)\n",
            "Requirement already satisfied: preshed<3.1.0,>=3.0.2 in /usr/local/lib/python3.7/dist-packages (from spacy[cuda112,ja,lookups,transformers]) (3.0.8)\n",
            "Requirement already satisfied: numpy>=1.15.0 in /usr/local/lib/python3.7/dist-packages (from spacy[cuda112,ja,lookups,transformers]) (1.21.6)\n",
            "Requirement already satisfied: typer<0.5.0,>=0.3.0 in /usr/local/lib/python3.7/dist-packages (from spacy[cuda112,ja,lookups,transformers]) (0.4.2)\n",
            "Requirement already satisfied: jinja2 in /usr/local/lib/python3.7/dist-packages (from spacy[cuda112,ja,lookups,transformers]) (2.11.3)\n",
            "Requirement already satisfied: setuptools in /usr/local/lib/python3.7/dist-packages (from spacy[cuda112,ja,lookups,transformers]) (57.4.0)\n",
            "Requirement already satisfied: packaging>=20.0 in /usr/local/lib/python3.7/dist-packages (from spacy[cuda112,ja,lookups,transformers]) (21.3)\n",
            "Collecting cupy-cuda112<12.0.0,>=5.0.0b4\n",
            "  Downloading cupy_cuda112-10.6.0-cp37-cp37m-manylinux1_x86_64.whl (77.5 MB)\n",
            "\u001b[K     |████████████████████████████████| 77.5 MB 1.6 MB/s \n",
            "\u001b[?25hCollecting sudachipy!=0.6.1,>=0.5.2\n",
            "  Downloading SudachiPy-0.6.6-cp37-cp37m-manylinux_2_5_x86_64.manylinux1_x86_64.manylinux_2_12_x86_64.manylinux2010_x86_64.whl (2.2 MB)\n",
            "\u001b[K     |████████████████████████████████| 2.2 MB 51.3 MB/s \n",
            "\u001b[?25hCollecting sudachidict-core>=20211220\n",
            "  Downloading SudachiDict-core-20221021.tar.gz (9.0 kB)\n",
            "Collecting spacy-transformers<1.2.0,>=1.1.2\n",
            "  Downloading spacy_transformers-1.1.8-py2.py3-none-any.whl (53 kB)\n",
            "\u001b[K     |████████████████████████████████| 53 kB 2.2 MB/s \n",
            "\u001b[?25hCollecting spacy-lookups-data<1.1.0,>=1.0.3\n",
            "  Downloading spacy_lookups_data-1.0.3-py2.py3-none-any.whl (98.5 MB)\n",
            "\u001b[K     |████████████████████████████████| 98.5 MB 83 kB/s \n",
            "\u001b[?25hRequirement already satisfied: zipp>=0.5 in /usr/local/lib/python3.7/dist-packages (from catalogue<2.1.0,>=2.0.6->spacy[cuda112,ja,lookups,transformers]) (3.9.0)\n",
            "Requirement already satisfied: fastrlock>=0.5 in /usr/local/lib/python3.7/dist-packages (from cupy-cuda112<12.0.0,>=5.0.0b4->spacy[cuda112,ja,lookups,transformers]) (0.8)\n",
            "Requirement already satisfied: pyparsing!=3.0.5,>=2.0.2 in /usr/local/lib/python3.7/dist-packages (from packaging>=20.0->spacy[cuda112,ja,lookups,transformers]) (3.0.9)\n",
            "Requirement already satisfied: smart-open<6.0.0,>=5.2.1 in /usr/local/lib/python3.7/dist-packages (from pathy>=0.3.5->spacy[cuda112,ja,lookups,transformers]) (5.2.1)\n",
            "Requirement already satisfied: certifi>=2017.4.17 in /usr/local/lib/python3.7/dist-packages (from requests<3.0.0,>=2.13.0->spacy[cuda112,ja,lookups,transformers]) (2022.9.24)\n",
            "Requirement already satisfied: idna<3,>=2.5 in /usr/local/lib/python3.7/dist-packages (from requests<3.0.0,>=2.13.0->spacy[cuda112,ja,lookups,transformers]) (2.10)\n",
            "Requirement already satisfied: urllib3!=1.25.0,!=1.25.1,<1.26,>=1.21.1 in /usr/local/lib/python3.7/dist-packages (from requests<3.0.0,>=2.13.0->spacy[cuda112,ja,lookups,transformers]) (1.24.3)\n",
            "Requirement already satisfied: chardet<4,>=3.0.2 in /usr/local/lib/python3.7/dist-packages (from requests<3.0.0,>=2.13.0->spacy[cuda112,ja,lookups,transformers]) (3.0.4)\n",
            "Collecting transformers<4.22.0,>=3.4.0\n",
            "  Downloading transformers-4.21.3-py3-none-any.whl (4.7 MB)\n",
            "\u001b[K     |████████████████████████████████| 4.7 MB 54.0 MB/s \n",
            "\u001b[?25hRequirement already satisfied: torch>=1.6.0 in /usr/local/lib/python3.7/dist-packages (from spacy-transformers<1.2.0,>=1.1.2->spacy[cuda112,ja,lookups,transformers]) (1.12.1+cu113)\n",
            "Collecting spacy-alignments<1.0.0,>=0.7.2\n",
            "  Downloading spacy_alignments-0.8.6-cp37-cp37m-manylinux_2_17_x86_64.manylinux2014_x86_64.whl (1.1 MB)\n",
            "\u001b[K     |████████████████████████████████| 1.1 MB 67.1 MB/s \n",
            "\u001b[?25hRequirement already satisfied: blis<0.8.0,>=0.7.8 in /usr/local/lib/python3.7/dist-packages (from thinc<8.2.0,>=8.1.0->spacy[cuda112,ja,lookups,transformers]) (0.7.9)\n",
            "Requirement already satisfied: confection<1.0.0,>=0.0.1 in /usr/local/lib/python3.7/dist-packages (from thinc<8.2.0,>=8.1.0->spacy[cuda112,ja,lookups,transformers]) (0.0.3)\n",
            "Requirement already satisfied: importlib-metadata in /usr/local/lib/python3.7/dist-packages (from transformers<4.22.0,>=3.4.0->spacy-transformers<1.2.0,>=1.1.2->spacy[cuda112,ja,lookups,transformers]) (4.13.0)\n",
            "Requirement already satisfied: regex!=2019.12.17 in /usr/local/lib/python3.7/dist-packages (from transformers<4.22.0,>=3.4.0->spacy-transformers<1.2.0,>=1.1.2->spacy[cuda112,ja,lookups,transformers]) (2022.6.2)\n",
            "Requirement already satisfied: filelock in /usr/local/lib/python3.7/dist-packages (from transformers<4.22.0,>=3.4.0->spacy-transformers<1.2.0,>=1.1.2->spacy[cuda112,ja,lookups,transformers]) (3.8.0)\n",
            "Collecting huggingface-hub<1.0,>=0.1.0\n",
            "  Downloading huggingface_hub-0.10.1-py3-none-any.whl (163 kB)\n",
            "\u001b[K     |████████████████████████████████| 163 kB 90.3 MB/s \n",
            "\u001b[?25hRequirement already satisfied: pyyaml>=5.1 in /usr/local/lib/python3.7/dist-packages (from transformers<4.22.0,>=3.4.0->spacy-transformers<1.2.0,>=1.1.2->spacy[cuda112,ja,lookups,transformers]) (6.0)\n",
            "Collecting tokenizers!=0.11.3,<0.13,>=0.11.1\n",
            "  Downloading tokenizers-0.12.1-cp37-cp37m-manylinux_2_12_x86_64.manylinux2010_x86_64.whl (6.6 MB)\n",
            "\u001b[K     |████████████████████████████████| 6.6 MB 80.0 MB/s \n",
            "\u001b[?25hRequirement already satisfied: click<9.0.0,>=7.1.1 in /usr/local/lib/python3.7/dist-packages (from typer<0.5.0,>=0.3.0->spacy[cuda112,ja,lookups,transformers]) (7.1.2)\n",
            "Requirement already satisfied: MarkupSafe>=0.23 in /usr/local/lib/python3.7/dist-packages (from jinja2->spacy[cuda112,ja,lookups,transformers]) (2.0.1)\n",
            "Building wheels for collected packages: sudachidict-core\n",
            "  Building wheel for sudachidict-core (setup.py) ... \u001b[?25l\u001b[?25hdone\n",
            "  Created wheel for sudachidict-core: filename=SudachiDict_core-20221021-py3-none-any.whl size=71574782 sha256=0e69241b6cb9c5a1398789072cb7006440172af13fae6e65a2e2027662609910\n",
            "  Stored in directory: /root/.cache/pip/wheels/66/a9/e1/bde612c31f0ae6877e7e39f278076befd399c488cba80292b6\n",
            "Successfully built sudachidict-core\n",
            "Installing collected packages: tokenizers, huggingface-hub, transformers, sudachipy, spacy-alignments, sudachidict-core, spacy-transformers, spacy-lookups-data, cupy-cuda112\n",
            "Successfully installed cupy-cuda112-10.6.0 huggingface-hub-0.10.1 spacy-alignments-0.8.6 spacy-lookups-data-1.0.3 spacy-transformers-1.1.8 sudachidict-core-20221021 sudachipy-0.6.6 tokenizers-0.12.1 transformers-4.21.3\n",
            "Reading package lists... Done\n",
            "Building dependency tree       \n",
            "Reading state information... Done\n",
            "The following package was automatically installed and is no longer required:\n",
            "  libnvidia-common-460\n",
            "Use 'apt autoremove' to remove it.\n",
            "The following additional packages will be installed:\n",
            "  libmecab2 mecab-ipadic mecab-jumandic mecab-jumandic-utf8 mecab-utils\n",
            "The following NEW packages will be installed:\n",
            "  libmecab2 mecab mecab-ipadic mecab-ipadic-utf8 mecab-jumandic\n",
            "  mecab-jumandic-utf8 mecab-utils\n",
            "0 upgraded, 7 newly installed, 0 to remove and 27 not upgraded.\n",
            "Need to get 28.7 MB of archives.\n",
            "After this operation, 273 MB of additional disk space will be used.\n",
            "Get:1 http://archive.ubuntu.com/ubuntu bionic/universe amd64 libmecab2 amd64 0.996-5 [257 kB]\n",
            "Get:2 http://archive.ubuntu.com/ubuntu bionic/universe amd64 mecab-utils amd64 0.996-5 [4,856 B]\n",
            "Get:3 http://archive.ubuntu.com/ubuntu bionic/universe amd64 mecab-jumandic-utf8 all 7.0-20130310-4 [16.2 MB]\n",
            "Get:4 http://archive.ubuntu.com/ubuntu bionic/universe amd64 mecab-jumandic all 7.0-20130310-4 [2,212 B]\n",
            "Get:5 http://archive.ubuntu.com/ubuntu bionic/universe amd64 mecab-ipadic all 2.7.0-20070801+main-1 [12.1 MB]\n",
            "Get:6 http://archive.ubuntu.com/ubuntu bionic/universe amd64 mecab amd64 0.996-5 [132 kB]\n",
            "Get:7 http://archive.ubuntu.com/ubuntu bionic/universe amd64 mecab-ipadic-utf8 all 2.7.0-20070801+main-1 [3,522 B]\n",
            "Fetched 28.7 MB in 4s (7,494 kB/s)\n",
            "Selecting previously unselected package libmecab2:amd64.\n",
            "(Reading database ... 123942 files and directories currently installed.)\n",
            "Preparing to unpack .../0-libmecab2_0.996-5_amd64.deb ...\n",
            "Unpacking libmecab2:amd64 (0.996-5) ...\n",
            "Selecting previously unselected package mecab-utils.\n",
            "Preparing to unpack .../1-mecab-utils_0.996-5_amd64.deb ...\n",
            "Unpacking mecab-utils (0.996-5) ...\n",
            "Selecting previously unselected package mecab-jumandic-utf8.\n",
            "Preparing to unpack .../2-mecab-jumandic-utf8_7.0-20130310-4_all.deb ...\n",
            "Unpacking mecab-jumandic-utf8 (7.0-20130310-4) ...\n",
            "Selecting previously unselected package mecab-jumandic.\n",
            "Preparing to unpack .../3-mecab-jumandic_7.0-20130310-4_all.deb ...\n",
            "Unpacking mecab-jumandic (7.0-20130310-4) ...\n",
            "Selecting previously unselected package mecab-ipadic.\n",
            "Preparing to unpack .../4-mecab-ipadic_2.7.0-20070801+main-1_all.deb ...\n",
            "Unpacking mecab-ipadic (2.7.0-20070801+main-1) ...\n",
            "Selecting previously unselected package mecab.\n",
            "Preparing to unpack .../5-mecab_0.996-5_amd64.deb ...\n",
            "Unpacking mecab (0.996-5) ...\n",
            "Selecting previously unselected package mecab-ipadic-utf8.\n",
            "Preparing to unpack .../6-mecab-ipadic-utf8_2.7.0-20070801+main-1_all.deb ...\n",
            "Unpacking mecab-ipadic-utf8 (2.7.0-20070801+main-1) ...\n",
            "Setting up libmecab2:amd64 (0.996-5) ...\n",
            "Setting up mecab-utils (0.996-5) ...\n",
            "Setting up mecab-ipadic (2.7.0-20070801+main-1) ...\n",
            "Compiling IPA dictionary for Mecab.  This takes long time...\n",
            "reading /usr/share/mecab/dic/ipadic/unk.def ... 40\n",
            "emitting double-array: 100% |###########################################| \n",
            "/usr/share/mecab/dic/ipadic/model.def is not found. skipped.\n",
            "reading /usr/share/mecab/dic/ipadic/Noun.proper.csv ... 27327\n",
            "reading /usr/share/mecab/dic/ipadic/Noun.number.csv ... 42\n",
            "reading /usr/share/mecab/dic/ipadic/Auxil.csv ... 199\n",
            "reading /usr/share/mecab/dic/ipadic/Others.csv ... 2\n",
            "reading /usr/share/mecab/dic/ipadic/Noun.csv ... 60477\n",
            "reading /usr/share/mecab/dic/ipadic/Noun.place.csv ... 72999\n",
            "reading /usr/share/mecab/dic/ipadic/Symbol.csv ... 208\n",
            "reading /usr/share/mecab/dic/ipadic/Conjunction.csv ... 171\n",
            "reading /usr/share/mecab/dic/ipadic/Adj.csv ... 27210\n",
            "reading /usr/share/mecab/dic/ipadic/Noun.name.csv ... 34202\n",
            "reading /usr/share/mecab/dic/ipadic/Noun.org.csv ... 16668\n",
            "reading /usr/share/mecab/dic/ipadic/Interjection.csv ... 252\n",
            "reading /usr/share/mecab/dic/ipadic/Noun.others.csv ... 151\n",
            "reading /usr/share/mecab/dic/ipadic/Noun.nai.csv ... 42\n",
            "reading /usr/share/mecab/dic/ipadic/Adnominal.csv ... 135\n",
            "reading /usr/share/mecab/dic/ipadic/Postp.csv ... 146\n",
            "reading /usr/share/mecab/dic/ipadic/Verb.csv ... 130750\n",
            "reading /usr/share/mecab/dic/ipadic/Noun.adjv.csv ... 3328\n",
            "reading /usr/share/mecab/dic/ipadic/Filler.csv ... 19\n",
            "reading /usr/share/mecab/dic/ipadic/Noun.adverbal.csv ... 795\n",
            "reading /usr/share/mecab/dic/ipadic/Noun.verbal.csv ... 12146\n",
            "reading /usr/share/mecab/dic/ipadic/Postp-col.csv ... 91\n",
            "reading /usr/share/mecab/dic/ipadic/Suffix.csv ... 1393\n",
            "reading /usr/share/mecab/dic/ipadic/Noun.demonst.csv ... 120\n",
            "reading /usr/share/mecab/dic/ipadic/Adverb.csv ... 3032\n",
            "reading /usr/share/mecab/dic/ipadic/Prefix.csv ... 221\n",
            "emitting double-array: 100% |###########################################| \n",
            "reading /usr/share/mecab/dic/ipadic/matrix.def ... 1316x1316\n",
            "emitting matrix      : 100% |###########################################| \n",
            "\n",
            "done!\n",
            "update-alternatives: using /var/lib/mecab/dic/ipadic to provide /var/lib/mecab/dic/debian (mecab-dictionary) in auto mode\n",
            "Setting up mecab-jumandic-utf8 (7.0-20130310-4) ...\n",
            "Compiling Juman dictionary for Mecab.\n",
            "reading /usr/share/mecab/dic/juman/unk.def ... 37\n",
            "emitting double-array: 100% |###########################################| \n",
            "reading /usr/share/mecab/dic/juman/Noun.koyuu.csv ... 7964\n",
            "reading /usr/share/mecab/dic/juman/ContentW.csv ... 551145\n",
            "reading /usr/share/mecab/dic/juman/Assert.csv ... 34\n",
            "reading /usr/share/mecab/dic/juman/AuxV.csv ... 593\n",
            "reading /usr/share/mecab/dic/juman/Postp.csv ... 108\n",
            "reading /usr/share/mecab/dic/juman/Emoticon.csv ... 972\n",
            "reading /usr/share/mecab/dic/juman/Wikipedia.csv ... 167709\n",
            "reading /usr/share/mecab/dic/juman/Noun.suusi.csv ... 49\n",
            "reading /usr/share/mecab/dic/juman/Demonstrative.csv ... 97\n",
            "reading /usr/share/mecab/dic/juman/Auto.csv ... 18931\n",
            "reading /usr/share/mecab/dic/juman/Special.csv ... 158\n",
            "reading /usr/share/mecab/dic/juman/Noun.hukusi.csv ... 81\n",
            "reading /usr/share/mecab/dic/juman/Rengo.csv ... 1118\n",
            "reading /usr/share/mecab/dic/juman/Suffix.csv ... 2128\n",
            "reading /usr/share/mecab/dic/juman/Noun.keishiki.csv ... 8\n",
            "reading /usr/share/mecab/dic/juman/Prefix.csv ... 90\n",
            "emitting double-array: 100% |###########################################| \n",
            "reading /usr/share/mecab/dic/juman/matrix.def ... 1876x1876\n",
            "emitting matrix      : 100% |###########################################| \n",
            "\n",
            "done!\n",
            "Setting up mecab-ipadic-utf8 (2.7.0-20070801+main-1) ...\n",
            "Compiling IPA dictionary for Mecab.  This takes long time...\n",
            "reading /usr/share/mecab/dic/ipadic/unk.def ... 40\n",
            "emitting double-array: 100% |###########################################| \n",
            "/usr/share/mecab/dic/ipadic/model.def is not found. skipped.\n",
            "reading /usr/share/mecab/dic/ipadic/Noun.proper.csv ... 27327\n",
            "reading /usr/share/mecab/dic/ipadic/Noun.number.csv ... 42\n",
            "reading /usr/share/mecab/dic/ipadic/Auxil.csv ... 199\n",
            "reading /usr/share/mecab/dic/ipadic/Others.csv ... 2\n",
            "reading /usr/share/mecab/dic/ipadic/Noun.csv ... 60477\n",
            "reading /usr/share/mecab/dic/ipadic/Noun.place.csv ... 72999\n",
            "reading /usr/share/mecab/dic/ipadic/Symbol.csv ... 208\n",
            "reading /usr/share/mecab/dic/ipadic/Conjunction.csv ... 171\n",
            "reading /usr/share/mecab/dic/ipadic/Adj.csv ... 27210\n",
            "reading /usr/share/mecab/dic/ipadic/Noun.name.csv ... 34202\n",
            "reading /usr/share/mecab/dic/ipadic/Noun.org.csv ... 16668\n",
            "reading /usr/share/mecab/dic/ipadic/Interjection.csv ... 252\n",
            "reading /usr/share/mecab/dic/ipadic/Noun.others.csv ... 151\n",
            "reading /usr/share/mecab/dic/ipadic/Noun.nai.csv ... 42\n",
            "reading /usr/share/mecab/dic/ipadic/Adnominal.csv ... 135\n",
            "reading /usr/share/mecab/dic/ipadic/Postp.csv ... 146\n",
            "reading /usr/share/mecab/dic/ipadic/Verb.csv ... 130750\n",
            "reading /usr/share/mecab/dic/ipadic/Noun.adjv.csv ... 3328\n",
            "reading /usr/share/mecab/dic/ipadic/Filler.csv ... 19\n",
            "reading /usr/share/mecab/dic/ipadic/Noun.adverbal.csv ... 795\n",
            "reading /usr/share/mecab/dic/ipadic/Noun.verbal.csv ... 12146\n",
            "reading /usr/share/mecab/dic/ipadic/Postp-col.csv ... 91\n",
            "reading /usr/share/mecab/dic/ipadic/Suffix.csv ... 1393\n",
            "reading /usr/share/mecab/dic/ipadic/Noun.demonst.csv ... 120\n",
            "reading /usr/share/mecab/dic/ipadic/Adverb.csv ... 3032\n",
            "reading /usr/share/mecab/dic/ipadic/Prefix.csv ... 221\n",
            "emitting double-array: 100% |###########################################| \n",
            "reading /usr/share/mecab/dic/ipadic/matrix.def ... 1316x1316\n",
            "emitting matrix      : 100% |###########################################| \n",
            "\n",
            "done!\n",
            "update-alternatives: using /var/lib/mecab/dic/ipadic-utf8 to provide /var/lib/mecab/dic/debian (mecab-dictionary) in auto mode\n",
            "Setting up mecab (0.996-5) ...\n",
            "Compiling IPA dictionary for Mecab.  This takes long time...\n",
            "reading /usr/share/mecab/dic/ipadic/unk.def ... 40\n",
            "emitting double-array: 100% |###########################################| \n",
            "/usr/share/mecab/dic/ipadic/model.def is not found. skipped.\n",
            "reading /usr/share/mecab/dic/ipadic/Noun.proper.csv ... 27327\n",
            "reading /usr/share/mecab/dic/ipadic/Noun.number.csv ... 42\n",
            "reading /usr/share/mecab/dic/ipadic/Auxil.csv ... 199\n",
            "reading /usr/share/mecab/dic/ipadic/Others.csv ... 2\n",
            "reading /usr/share/mecab/dic/ipadic/Noun.csv ... 60477\n",
            "reading /usr/share/mecab/dic/ipadic/Noun.place.csv ... 72999\n",
            "reading /usr/share/mecab/dic/ipadic/Symbol.csv ... 208\n",
            "reading /usr/share/mecab/dic/ipadic/Conjunction.csv ... 171\n",
            "reading /usr/share/mecab/dic/ipadic/Adj.csv ... 27210\n",
            "reading /usr/share/mecab/dic/ipadic/Noun.name.csv ... 34202\n",
            "reading /usr/share/mecab/dic/ipadic/Noun.org.csv ... 16668\n",
            "reading /usr/share/mecab/dic/ipadic/Interjection.csv ... 252\n",
            "reading /usr/share/mecab/dic/ipadic/Noun.others.csv ... 151\n",
            "reading /usr/share/mecab/dic/ipadic/Noun.nai.csv ... 42\n",
            "reading /usr/share/mecab/dic/ipadic/Adnominal.csv ... 135\n",
            "reading /usr/share/mecab/dic/ipadic/Postp.csv ... 146\n",
            "reading /usr/share/mecab/dic/ipadic/Verb.csv ... 130750\n",
            "reading /usr/share/mecab/dic/ipadic/Noun.adjv.csv ... 3328\n",
            "reading /usr/share/mecab/dic/ipadic/Filler.csv ... 19\n",
            "reading /usr/share/mecab/dic/ipadic/Noun.adverbal.csv ... 795\n",
            "reading /usr/share/mecab/dic/ipadic/Noun.verbal.csv ... 12146\n",
            "reading /usr/share/mecab/dic/ipadic/Postp-col.csv ... 91\n",
            "reading /usr/share/mecab/dic/ipadic/Suffix.csv ... 1393\n",
            "reading /usr/share/mecab/dic/ipadic/Noun.demonst.csv ... 120\n",
            "reading /usr/share/mecab/dic/ipadic/Adverb.csv ... 3032\n",
            "reading /usr/share/mecab/dic/ipadic/Prefix.csv ... 221\n",
            "emitting double-array: 100% |###########################################| \n",
            "reading /usr/share/mecab/dic/ipadic/matrix.def ... 1316x1316\n",
            "emitting matrix      : 100% |###########################################| \n",
            "\n",
            "done!\n",
            "Setting up mecab-jumandic (7.0-20130310-4) ...\n",
            "Processing triggers for man-db (2.8.3-2ubuntu0.1) ...\n",
            "Processing triggers for libc-bin (2.27-3ubuntu1.6) ...\n",
            "Looking in indexes: https://pypi.org/simple, https://us-python.pkg.dev/colab-wheels/public/simple/\n",
            "Collecting mecab-python3\n",
            "  Downloading mecab_python3-1.0.5-cp37-cp37m-manylinux_2_17_x86_64.manylinux2014_x86_64.whl (574 kB)\n",
            "\u001b[K     |████████████████████████████████| 574 kB 4.1 MB/s \n",
            "\u001b[?25hCollecting fugashi\n",
            "  Downloading fugashi-1.2.0-cp37-cp37m-manylinux_2_17_x86_64.manylinux2014_x86_64.whl (583 kB)\n",
            "\u001b[K     |████████████████████████████████| 583 kB 12.7 MB/s \n",
            "\u001b[?25hCollecting ipadic\n",
            "  Downloading ipadic-1.0.0.tar.gz (13.4 MB)\n",
            "\u001b[K     |████████████████████████████████| 13.4 MB 27.1 MB/s \n",
            "\u001b[?25hBuilding wheels for collected packages: ipadic\n",
            "  Building wheel for ipadic (setup.py) ... \u001b[?25l\u001b[?25hdone\n",
            "  Created wheel for ipadic: filename=ipadic-1.0.0-py3-none-any.whl size=13556723 sha256=605b9e04a96e4e29f5caac923b0aa373602970b59164fcf66ddd1ba35bbc1e82\n",
            "  Stored in directory: /root/.cache/pip/wheels/33/8b/99/cf0d27191876637cd3639a560f93aa982d7855ce826c94348b\n",
            "Successfully built ipadic\n",
            "Installing collected packages: mecab-python3, ipadic, fugashi\n",
            "Successfully installed fugashi-1.2.0 ipadic-1.0.0 mecab-python3-1.0.5\n",
            "Looking in indexes: https://pypi.org/simple, https://us-python.pkg.dev/colab-wheels/public/simple/\n",
            "Collecting unidic-lite\n",
            "  Downloading unidic-lite-1.0.8.tar.gz (47.4 MB)\n",
            "\u001b[K     |████████████████████████████████| 47.4 MB 1.4 MB/s \n",
            "\u001b[?25hBuilding wheels for collected packages: unidic-lite\n",
            "  Building wheel for unidic-lite (setup.py) ... \u001b[?25l\u001b[?25hdone\n",
            "  Created wheel for unidic-lite: filename=unidic_lite-1.0.8-py3-none-any.whl size=47658836 sha256=ed04125b2ae2efb7b2bc9394b19650cdc1f9d4b826d00bef53d30a6447802b44\n",
            "  Stored in directory: /root/.cache/pip/wheels/de/69/b1/112140b599f2b13f609d485a99e357ba68df194d2079c5b1a2\n",
            "Successfully built unidic-lite\n",
            "Installing collected packages: unidic-lite\n",
            "Successfully installed unidic-lite-1.0.8\n"
          ]
        }
      ],
      "source": [
        "!pip install -U spacy[cuda112,transformers,lookups,ja]\n",
        "!apt-get install mecab mecab-ipadic-utf8\n",
        "!pip install mecab-python3 fugashi ipadic\n",
        "!pip install unidic-lite"
      ]
    },
    {
      "cell_type": "code",
      "source": [
        "!git clone -b feature/bert_base_japanese_v2 https://github.com/megagonlabs/UD_Japanese-GSD"
      ],
      "metadata": {
        "colab": {
          "base_uri": "https://localhost:8080/"
        },
        "id": "mbQRMykWshol",
        "outputId": "71becc77-dcce-4bf2-f0a6-8536c647b4de"
      },
      "execution_count": 3,
      "outputs": [
        {
          "output_type": "stream",
          "name": "stdout",
          "text": [
            "Cloning into 'UD_Japanese-GSD'...\n",
            "remote: Enumerating objects: 693, done.\u001b[K\n",
            "remote: Counting objects: 100% (18/18), done.\u001b[K\n",
            "remote: Compressing objects: 100% (11/11), done.\u001b[K\n",
            "remote: Total 693 (delta 7), reused 13 (delta 7), pack-reused 675\u001b[K\n",
            "Receiving objects: 100% (693/693), 73.31 MiB | 20.65 MiB/s, done.\n",
            "Resolving deltas: 100% (403/403), done.\n"
          ]
        }
      ]
    },
    {
      "cell_type": "code",
      "source": [
        "!mkdir -p corpus\n",
        "!python -m spacy convert ./UD_Japanese-GSD/ja_gsd-ud-train.ne.conllu ./corpus\n",
        "!python -m spacy convert ./UD_Japanese-GSD/ja_gsd-ud-dev.ne.conllu ./corpus\n",
        "!python -m spacy convert ./UD_Japanese-GSD/ja_gsd-ud-test.ne.conllu ./corpus\n",
        "\n",
        "!ls ./corpus"
      ],
      "metadata": {
        "colab": {
          "base_uri": "https://localhost:8080/"
        },
        "id": "Vx5734KCvoWt",
        "outputId": "06a2f723-73f5-4eba-8e85-98a6890c88bf"
      },
      "execution_count": 4,
      "outputs": [
        {
          "output_type": "stream",
          "name": "stdout",
          "text": [
            "\u001b[38;5;4mℹ Grouping every 1 sentences into a document.\u001b[0m\n",
            "\u001b[38;5;3m⚠ To generate better training data, you may want to group sentences\n",
            "into documents with `-n 10`.\u001b[0m\n",
            "\u001b[38;5;2m✔ Generated output file (7050 documents):\n",
            "corpus/ja_gsd-ud-train.ne.spacy\u001b[0m\n",
            "\u001b[38;5;4mℹ Grouping every 1 sentences into a document.\u001b[0m\n",
            "\u001b[38;5;3m⚠ To generate better training data, you may want to group sentences\n",
            "into documents with `-n 10`.\u001b[0m\n",
            "\u001b[38;5;2m✔ Generated output file (507 documents):\n",
            "corpus/ja_gsd-ud-dev.ne.spacy\u001b[0m\n",
            "\u001b[38;5;4mℹ Grouping every 1 sentences into a document.\u001b[0m\n",
            "\u001b[38;5;3m⚠ To generate better training data, you may want to group sentences\n",
            "into documents with `-n 10`.\u001b[0m\n",
            "\u001b[38;5;2m✔ Generated output file (543 documents):\n",
            "corpus/ja_gsd-ud-test.ne.spacy\u001b[0m\n",
            "ja_gsd-ud-dev.ne.spacy\tja_gsd-ud-test.ne.spacy  ja_gsd-ud-train.ne.spacy\n"
          ]
        }
      ]
    },
    {
      "cell_type": "code",
      "source": [
        "import spacy\n",
        "from spacy.tokens import Doc, DocBin\n",
        "\n",
        "nlp = spacy.blank(\"ja\") \n",
        "\n",
        "train_data = DocBin()\n",
        "train_data.from_disk(path=\"./corpus/ja_gsd-ud-train.ne.spacy\")\n",
        "\n",
        "docs = list(train_data.get_docs(nlp.vocab))\n",
        "\n",
        "for token in docs[2]:\n",
        "  print(\"text=%s head=%d dep=%s ent_type=%s ent_job=%s\" % (token, token.head.i, token.dep_, token.ent_type_, token.ent_iob_))"
      ],
      "metadata": {
        "colab": {
          "base_uri": "https://localhost:8080/"
        },
        "id": "SjqCSr0K2Oq6",
        "outputId": "d990dd56-eca6-4197-d0c6-b2747d11c694"
      },
      "execution_count": 5,
      "outputs": [
        {
          "output_type": "stream",
          "name": "stdout",
          "text": [
            "text=手 head=2 dep=obl ent_type= ent_job=O\n",
            "text=に head=0 dep=case ent_type= ent_job=O\n",
            "text=持っ head=6 dep=acl ent_type= ent_job=O\n",
            "text=た head=2 dep=aux ent_type= ent_job=O\n",
            "text=特殊 head=6 dep=acl ent_type= ent_job=O\n",
            "text=な head=4 dep=aux ent_type= ent_job=O\n",
            "text=刃物 head=8 dep=obj ent_type= ent_job=O\n",
            "text=を head=6 dep=case ent_type= ent_job=O\n",
            "text=使っ head=12 dep=acl ent_type= ent_job=O\n",
            "text=た head=8 dep=aux ent_type= ent_job=O\n",
            "text=アクロバティック head=12 dep=acl ent_type= ent_job=O\n",
            "text=な head=10 dep=aux ent_type= ent_job=O\n",
            "text=体術 head=22 dep=nmod ent_type= ent_job=O\n",
            "text=や head=12 dep=case ent_type= ent_job=O\n",
            "text=、 head=12 dep=punct ent_type= ent_job=O\n",
            "text=揚羽 head=18 dep=obl ent_type=PERSON ent_job=B\n",
            "text=と head=15 dep=case ent_type= ent_job=O\n",
            "text=薄羽 head=18 dep=compound ent_type=PERSON ent_job=B\n",
            "text=同様 head=24 dep=advcl ent_type= ent_job=O\n",
            "text=に head=18 dep=aux ent_type= ent_job=O\n",
            "text=クナイ head=22 dep=nmod ent_type= ent_job=O\n",
            "text=や head=20 dep=case ent_type= ent_job=O\n",
            "text=忍具 head=24 dep=obj ent_type= ent_job=O\n",
            "text=を head=22 dep=case ent_type= ent_job=O\n",
            "text=使っ head=26 dep=advcl ent_type= ent_job=O\n",
            "text=て head=24 dep=mark ent_type= ent_job=O\n",
            "text=攻撃 head=26 dep=ROOT ent_type= ent_job=O\n",
            "text=し head=26 dep=aux ent_type= ent_job=O\n",
            "text=て head=26 dep=mark ent_type= ent_job=O\n",
            "text=くる head=28 dep=fixed ent_type= ent_job=O\n",
            "text=。 head=26 dep=punct ent_type= ent_job=O\n"
          ]
        }
      ]
    },
    {
      "cell_type": "code",
      "source": [
        "%%bash\n",
        "cat << EOF > base_config.cfg\n",
        "[paths]\n",
        "train = null                      \n",
        "dev = null                 \n",
        "vectors = null\n",
        "init_tok2vec = null\n",
        "\n",
        "[system]\n",
        "gpu_allocator = \"pytorch\"\n",
        "seed = 0\n",
        "\n",
        "[nlp]\n",
        "lang = \"ja\"\n",
        "pipeline = [\"transformer\",\"parser\",\"ner\", \"morphologizer\"]\n",
        "batch_size = 128\n",
        "disabled = []\n",
        "before_creation = null\n",
        "after_creation = null\n",
        "after_pipeline_creation = null\n",
        "\n",
        "[nlp.tokenizer]\n",
        "@tokenizers = \"spacy.ja.JapaneseTokenizer\"\n",
        "split_mode = \"A\"\n",
        "\n",
        "[components]\n",
        "\n",
        "[components.morphologizer]\n",
        "factory = \"morphologizer\"\n",
        "\n",
        "[components.morphologizer.model]\n",
        "@architectures = \"spacy.Tagger.v1\"\n",
        "nO = null\n",
        "\n",
        "[components.morphologizer.model.tok2vec]\n",
        "@architectures = \"spacy-transformers.TransformerListener.v1\"\n",
        "grad_factor = 1.0\n",
        "\n",
        "[components.morphologizer.model.tok2vec.pooling]\n",
        "@layers = \"reduce_mean.v1\"\n",
        "\n",
        "[components.ner]\n",
        "factory = \"ner\"\n",
        "moves = null\n",
        "update_with_oracle_cut_size = 100\n",
        "\n",
        "[components.ner.model]\n",
        "@architectures = \"spacy.TransitionBasedParser.v2\"\n",
        "state_type = \"ner\"\n",
        "extra_state_tokens = false\n",
        "hidden_width = 64\n",
        "maxout_pieces = 2\n",
        "use_upper = false\n",
        "nO = null\n",
        "\n",
        "[components.ner.model.tok2vec]\n",
        "@architectures = \"spacy-transformers.TransformerListener.v1\"\n",
        "grad_factor = 1.0\n",
        "pooling = {\"@layers\":\"reduce_mean.v1\"}\n",
        "upstream = \"*\"\n",
        "\n",
        "[components.parser]\n",
        "factory = \"parser\"\n",
        "learn_tokens = false\n",
        "min_action_freq = 30\n",
        "moves = null\n",
        "update_with_oracle_cut_size = 100\n",
        "\n",
        "[components.parser.model]\n",
        "@architectures = \"spacy.TransitionBasedParser.v2\"\n",
        "state_type = \"parser\"\n",
        "extra_state_tokens = false\n",
        "hidden_width = 128\n",
        "maxout_pieces = 3\n",
        "use_upper = false\n",
        "nO = null\n",
        "\n",
        "[components.parser.model.tok2vec]\n",
        "@architectures = \"spacy-transformers.TransformerListener.v1\"\n",
        "grad_factor = 1.0\n",
        "pooling = {\"@layers\":\"reduce_mean.v1\"}\n",
        "upstream = \"*\"\n",
        "\n",
        "[components.transformer]\n",
        "factory = \"transformer\"\n",
        "max_batch_items = 4096\n",
        "set_extra_annotations = {\"@annotation_setters\":\"spacy-transformers.null_annotation_setter.v1\"}\n",
        "\n",
        "[components.transformer.model]\n",
        "@architectures = \"spacy-transformers.TransformerModel.v1\"\n",
        "name = \"cl-tohoku/bert-base-japanese-v2\"\n",
        "\n",
        "[components.transformer.model.get_spans]\n",
        "@span_getters = \"spacy-transformers.strided_spans.v1\"\n",
        "window = 128\n",
        "stride = 96\n",
        "\n",
        "[components.transformer.model.tokenizer_config]\n",
        "use_fast = false\n",
        "mecab_kwargs = {\"mecab_dic\":\"unidic_lite\"}\n",
        "\n",
        "[corpora]\n",
        "\n",
        "[corpora.dev]\n",
        "@readers = \"spacy.Corpus.v1\"\n",
        "path = \\${paths.dev}\n",
        "max_length = 0\n",
        "gold_preproc = false\n",
        "limit = 0\n",
        "augmenter = null\n",
        "\n",
        "[corpora.train]\n",
        "@readers = \"spacy.Corpus.v1\"\n",
        "path = \\${paths.train}\n",
        "max_length = 500\n",
        "gold_preproc = false\n",
        "limit = 0\n",
        "augmenter = null\n",
        "\n",
        "[training]\n",
        "accumulate_gradient = 3\n",
        "dev_corpus = \"corpora.dev\"\n",
        "train_corpus = \"corpora.train\"\n",
        "seed = \\${system.seed}\n",
        "gpu_allocator = \\${system.gpu_allocator}\n",
        "dropout = 0.1\n",
        "patience = 0\n",
        "max_epochs = 0\n",
        "max_steps = 20000\n",
        "eval_frequency = 200\n",
        "frozen_components = []\n",
        "before_to_disk = null\n",
        "\n",
        "[training.batcher]\n",
        "@batchers = \"spacy.batch_by_padded.v1\"\n",
        "discard_oversize = true\n",
        "size = 2000\n",
        "buffer = 256\n",
        "get_length = null\n",
        "\n",
        "[training.logger]\n",
        "@loggers = \"spacy.ConsoleLogger.v1\"\n",
        "\n",
        "[training.optimizer]\n",
        "@optimizers = \"Adam.v1\"\n",
        "beta1 = 0.9\n",
        "beta2 = 0.999\n",
        "L2_is_weight_decay = true\n",
        "L2 = 0.01\n",
        "grad_clip = 1.0\n",
        "use_averages = false\n",
        "eps = 0.00000001\n",
        "\n",
        "[training.optimizer.learn_rate]\n",
        "@schedules = \"warmup_linear.v1\"\n",
        "warmup_steps = 250\n",
        "total_steps = 20000\n",
        "initial_rate = 0.00005\n",
        "\n",
        "[training.score_weights]\n",
        "dep_las_per_type = null\n",
        "sents_p = null\n",
        "sents_r = null\n",
        "ents_per_type = null\n",
        "dep_uas = 0.17\n",
        "dep_las = 0.17\n",
        "sents_f = 0.0\n",
        "ents_f = 0.33\n",
        "ents_p = 0.0\n",
        "ents_r = 0.0\n",
        "tag_acc = 0.33\n",
        "\n",
        "[pretraining]\n",
        "\n",
        "[initialize]\n",
        "vectors = null\n",
        "init_tok2vec = \\${paths.init_tok2vec}\n",
        "vocab_data = null\n",
        "lookups = null\n",
        "before_init = null\n",
        "after_init = null\n",
        "\n",
        "[initialize.components]\n",
        "\n",
        "[initialize.tokenizer]\n",
        "EOF"
      ],
      "metadata": {
        "id": "rlEkzVQcoQBU"
      },
      "execution_count": 6,
      "outputs": []
    },
    {
      "cell_type": "code",
      "source": [
        "!python -m spacy init fill-config base_config.cfg config.cfg"
      ],
      "metadata": {
        "colab": {
          "base_uri": "https://localhost:8080/"
        },
        "id": "WUfaAkNXv3U8",
        "outputId": "08b9d280-3edd-48d5-978c-b054728cf79f"
      },
      "execution_count": 7,
      "outputs": [
        {
          "output_type": "stream",
          "name": "stdout",
          "text": [
            "\u001b[38;5;2m✔ Auto-filled config with all values\u001b[0m\n",
            "\u001b[38;5;2m✔ Saved config\u001b[0m\n",
            "config.cfg\n",
            "You can now add your data and train your pipeline:\n",
            "python -m spacy train config.cfg --paths.train ./train.spacy --paths.dev ./dev.spacy\n"
          ]
        }
      ]
    },
    {
      "cell_type": "code",
      "source": [
        "# corpus/ja_gsd-ud-test.ne.spacy\n",
        "# ja_gsd-ud-dev.ne.spacy\tja_gsd-ud-test.ne.spacy  ja_gsd-ud-train.ne.spacy"
      ],
      "metadata": {
        "id": "tojaevS0-7XR"
      },
      "execution_count": 8,
      "outputs": []
    },
    {
      "cell_type": "code",
      "source": [
        "!python -m spacy train config.cfg --gpu-id 0 --output ./ja_ud_japanese_gsd_2.6_ne_trf \\\n",
        "  --paths.train ./corpus/ja_gsd-ud-train.ne.spacy --paths.dev ./corpus/ja_gsd-ud-dev.ne.spacy"
      ],
      "metadata": {
        "colab": {
          "base_uri": "https://localhost:8080/"
        },
        "id": "XnVqF21lv35V",
        "outputId": "f307cec5-65c4-4a84-ca60-2b9d33f03df0"
      },
      "execution_count": 9,
      "outputs": [
        {
          "output_type": "stream",
          "name": "stdout",
          "text": [
            "\u001b[38;5;2m✔ Created output directory: ja_ud_japanese_gsd_2.6_ne_trf\u001b[0m\n",
            "\u001b[38;5;4mℹ Saving to output directory: ja_ud_japanese_gsd_2.6_ne_trf\u001b[0m\n",
            "\u001b[38;5;4mℹ Using GPU: 0\u001b[0m\n",
            "\u001b[1m\n",
            "=========================== Initializing pipeline ===========================\u001b[0m\n",
            "[2022-10-28 11:47:18,534] [INFO] Set up nlp object from config\n",
            "INFO:spacy:Set up nlp object from config\n",
            "[2022-10-28 11:47:18,546] [INFO] Pipeline: ['transformer', 'parser', 'ner', 'morphologizer']\n",
            "INFO:spacy:Pipeline: ['transformer', 'parser', 'ner', 'morphologizer']\n",
            "[2022-10-28 11:47:18,553] [INFO] Created vocabulary\n",
            "INFO:spacy:Created vocabulary\n",
            "[2022-10-28 11:47:18,554] [INFO] Finished initializing nlp object\n",
            "INFO:spacy:Finished initializing nlp object\n",
            "Downloading tokenizer_config.json: 100% 174/174 [00:00<00:00, 191kB/s]\n",
            "Downloading config.json: 100% 517/517 [00:00<00:00, 535kB/s]\n",
            "Downloading vocab.txt: 100% 230k/230k [00:00<00:00, 321kB/s]\n",
            "Downloading pytorch_model.bin: 100% 427M/427M [00:24<00:00, 18.6MB/s]\n",
            "Some weights of the model checkpoint at cl-tohoku/bert-base-japanese-v2 were not used when initializing BertModel: ['cls.predictions.bias', 'cls.predictions.transform.LayerNorm.bias', 'cls.predictions.transform.dense.weight', 'cls.predictions.decoder.weight', 'cls.predictions.decoder.bias', 'cls.predictions.transform.dense.bias', 'cls.predictions.transform.LayerNorm.weight', 'cls.seq_relationship.weight', 'cls.seq_relationship.bias']\n",
            "- This IS expected if you are initializing BertModel from the checkpoint of a model trained on another task or with another architecture (e.g. initializing a BertForSequenceClassification model from a BertForPreTraining model).\n",
            "- This IS NOT expected if you are initializing BertModel from the checkpoint of a model that you expect to be exactly identical (initializing a BertForSequenceClassification model from a BertForSequenceClassification model).\n",
            "[2022-10-28 11:48:43,968] [INFO] Initialized pipeline components: ['transformer', 'parser', 'ner', 'morphologizer']\n",
            "INFO:spacy:Initialized pipeline components: ['transformer', 'parser', 'ner', 'morphologizer']\n",
            "\u001b[38;5;2m✔ Initialized pipeline\u001b[0m\n",
            "\u001b[1m\n",
            "============================= Training pipeline =============================\u001b[0m\n",
            "\u001b[38;5;4mℹ Pipeline: ['transformer', 'parser', 'ner', 'morphologizer']\u001b[0m\n",
            "\u001b[38;5;4mℹ Initial learn rate: 0.0\u001b[0m\n",
            "E    #       LOSS TRANS...  LOSS PARSER  LOSS NER  LOSS MORPH...  DEP_UAS  DEP_LAS  SENTS_F  ENTS_F  ENTS_P  ENTS_R  POS_ACC  MORPH_MICRO_F  TAG_ACC  SCORE \n",
            "---  ------  -------------  -----------  --------  -------------  -------  -------  -------  ------  ------  ------  -------  -------------  -------  ------\n",
            "  0       0         249.77       135.28     62.73          69.16     4.54     4.19     0.03    0.00    0.00    0.00    30.03           0.00     0.00    0.08\n",
            "  1     200      436737.98    279278.27  70719.25      213596.14    87.47    81.44    82.98   13.82   19.11   10.82    78.79           0.00     0.00    0.37\n",
            "  3     400      128295.81     54224.97  20713.28       51871.07    92.43    90.29    99.41   57.20   59.92   54.72    97.00          31.82     0.00    0.58\n",
            "  4     600       59971.11     29969.34  11536.89        7585.87    92.99    91.33    99.31   74.45   76.02   72.96    97.92          47.42     0.00    0.66\n",
            "  6     800       43382.11     20599.39   6779.60        3581.81    93.59    92.25    99.02   77.91   78.87   76.98    98.01          48.98     0.00    0.67\n",
            "  7    1000       29845.55     14500.64   4164.24        2068.38    93.88    92.60    99.31   83.29   85.15   81.51    97.99          49.75     0.00    0.68\n",
            "  9    1200       23021.37     10650.70   2839.34        1302.69    94.10    92.91    99.11   83.22   83.80   82.64    97.94          49.75     0.00    0.68\n",
            " 10    1400       17183.27      7646.50   1806.57         833.10    93.97    92.64    99.21   85.30   85.95   84.65    97.99          48.98     0.00    0.68\n",
            " 12    1600       13632.57      5787.93   1333.96         637.97    94.42    93.17    99.21   84.26   85.02   83.52    98.10          49.75     0.00    0.68\n",
            " 13    1800       10436.35      4207.14    918.32         425.53    93.93    92.69    99.21   83.73   83.94   83.52    98.11          49.75     0.00    0.68\n",
            " 15    2000        9139.08      3453.74    717.66         391.22    93.86    92.63    98.33   83.98   85.23   82.77    98.03          48.98     0.00    0.68\n",
            " 16    2200        7354.17      2765.62    555.33         355.19    94.13    92.89    99.12   84.29   84.56   84.03    98.09          49.75     0.00    0.68\n",
            " 18    2400        5867.82      2133.72    357.77         283.90    94.23    93.11    98.82   84.10   84.69   83.52    98.05          49.75     0.00    0.68\n",
            " 20    2600        5380.66      1798.64    292.31         247.84    93.84    92.76    98.53   83.05   83.21   82.89    98.09          49.75     0.00    0.68\n",
            " 21    2800        4665.08      1549.98    273.87         202.36    93.89    92.88    99.02   83.64   84.01   83.27    98.13          49.75     0.00    0.68\n",
            " 23    3000        4106.07      1294.23    209.01         182.64    93.90    92.86    97.46   85.33   86.55   84.15    98.10          49.75     0.00    0.68\n",
            " 24    3200        4139.00      1255.32    192.84         183.53    93.84    92.86    98.53   84.87   85.08   84.65    98.24          49.75     0.00    0.68\n",
            " 26    3400        3852.60      1111.27    152.53         154.25    94.05    92.98    99.12   83.42   83.31   83.52    98.13          49.75     0.00    0.68\n",
            " 27    3600        3105.73       861.94    154.53         158.77    93.92    92.86    98.53   83.01   82.75   83.27    98.12          49.75     0.00    0.68\n",
            " 29    3800        3120.90       886.31    130.60         149.80    94.06    93.02    98.82   83.02   83.02   83.02    98.13          49.75     0.00    0.68\n",
            " 30    4000        2945.09       782.10    113.36         120.30    93.82    92.78    98.82   84.88   85.37   84.40    98.10          49.75     0.00    0.68\n",
            " 32    4200        2568.42       675.29     92.61         137.42    94.20    93.19    98.33   85.26   86.53   84.03    98.20          49.75     0.00    0.68\n",
            " 33    4400        2717.55       663.20     97.28         111.38    93.99    92.95    98.82   85.71   86.15   85.28    98.11          49.75     0.00    0.68\n",
            " 35    4600        2629.20       623.84    106.08         131.18    93.90    92.84    98.33   85.05   85.32   84.78    98.14          49.75     0.00    0.68\n",
            " 37    4800        2457.98       549.87     98.50         131.08    94.06    92.98    98.82   84.95   86.55   83.40    98.13          49.75     0.00    0.68\n",
            " 38    5000        1863.89       394.00    104.29         110.01    94.11    93.01    98.53   84.91   86.35   83.52    98.19          49.75     0.00    0.68\n",
            " 40    5200        2123.78       445.26    138.95         104.64    93.79    92.71    98.72   85.00   86.27   83.77    98.10          49.75     0.00    0.68\n",
            " 41    5400        1651.16       379.35     80.35         110.35    94.00    93.02    98.53   84.65   85.03   84.28    98.13          49.75     0.00    0.68\n",
            " 43    5600        2118.84       395.96    128.11          95.37    94.01    92.97    98.53   84.96   84.64   85.28    98.06          49.75     0.00    0.68\n",
            " 44    5800        1865.95       325.05    122.98         111.68    93.80    92.76    99.02   84.06   85.25   82.89    98.15          49.75     0.00    0.68\n",
            " 46    6000        1405.60       273.09     98.17          78.03    93.74    92.73    98.72   85.26   86.53   84.03    98.13          49.75     0.00    0.68\n",
            " 47    6200        1484.34       262.15     95.59         110.93    94.01    92.94    98.82   85.64   87.73   83.65    98.18          48.98     0.00    0.68\n",
            " 49    6400        1527.94       263.01     96.91         100.07    93.91    92.82    98.82   84.51   85.66   83.40    98.18          49.75     0.00    0.68\n",
            " 51    6600        1428.34       260.85     63.95          93.50    93.92    92.89    98.82   85.30   85.57   85.03    98.18          49.75     0.00    0.68\n",
            " 52    6800        1092.64       211.62     42.51         102.47    93.95    92.85    98.72   84.81   84.97   84.65    98.09          49.75     0.00    0.68\n",
            "tcmalloc: large alloc 1342185472 bytes == 0x150efa000 @  0x7f2449b8c1e7 0x4b2590 0x564796 0x5657be 0x7f22fbb09cd4 0x7f22f97d5249 0x7f22f97d468b 0x7f22f897b61a 0x7f22f898c139 0x7f22f891e469 0x7f22f89377ab 0x4d32c7 0x591e56 0x50e18c 0x5b575e 0x58ff2e 0x50d482 0x4d00fb 0x50cb8d 0x5b575e 0x58ff2e 0x50d482 0x5b575e 0x58ff2e 0x50d482 0x5b4ee6 0x4bad0a 0x50e18c 0x5b575e 0x4bad0a 0x50e18c\n",
            " 54    7000        1435.47       236.75     78.12          82.60    93.99    92.98    98.82   84.96   85.01   84.91    98.15          49.75     0.00    0.68\n",
            " 55    7200        1175.96       213.33     54.32          84.90    93.79    92.70    98.24   84.91   86.35   83.52    98.08          49.75     0.00    0.68\n",
            " 57    7400        1083.13       205.56     44.33          77.91    93.70    92.68    98.14   85.35   86.45   84.28    98.11          49.75     0.00    0.68\n",
            " 58    7600        1128.43       200.28     50.23          71.01    93.77    92.78    98.53   86.09   86.15   86.04    98.09          49.75     0.00    0.68\n",
            " 60    7800        1127.58       182.97     51.82          69.47    93.64    92.69    97.37   85.53   86.30   84.78    98.10          49.75     0.00    0.68\n",
            " 61    8000        1207.56       188.18     58.27          80.11    94.19    93.18    98.24   85.37   85.97   84.78    98.16          49.75     0.00    0.68\n",
            " 63    8200         945.53       143.27     45.80          76.57    93.89    92.87    97.07   85.39   86.26   84.53    98.14          49.75     0.00    0.68\n",
            " 64    8400        1186.45       178.96     51.69          52.83    94.14    93.19    98.82   85.64   86.92   84.40    98.15          49.75     0.00    0.68\n",
            " 66    8600         651.47       114.82     42.71          70.63    93.91    92.90    98.24   84.84   85.55   84.15    98.11          49.75     0.00    0.68\n",
            " 68    8800         759.76       108.09     42.09          68.43    94.20    93.27    97.46   84.98   86.36   83.65    98.17          49.75     0.00    0.68\n",
            " 69    9000         902.93       143.54     30.06          72.27    93.91    92.92    97.85   85.20   86.42   84.03    98.12          49.75     0.00    0.68\n",
            " 71    9200         889.14       130.49     40.59          54.02    93.83    92.79    95.90   85.22   86.32   84.15    98.15          49.75     0.00    0.68\n",
            " 72    9400         888.04       142.26     30.71          65.32    93.72    92.76    97.17   85.62   85.84   85.41    98.13          49.75     0.00    0.68\n",
            " 74    9600         754.02       115.44     22.45          70.14    93.89    92.91    98.14   85.46   85.52   85.41    98.19          49.75     0.00    0.68\n",
            " 75    9800         714.54       106.04     28.97          59.91    94.04    93.06    98.14   85.26   86.53   84.03    98.23          49.75     0.00    0.68\n",
            " 77   10000         851.15       125.39     27.29          81.51    94.09    93.03    98.82   85.75   87.14   84.40    98.19          49.75     0.00    0.68\n",
            " 78   10200         722.75       103.50     21.96          59.43    93.97    92.97    98.24   85.86   86.19   85.53    98.18          49.75     0.00    0.68\n",
            " 80   10400         455.29        60.41     25.07          61.27    93.99    92.91    99.02   84.83   84.89   84.78    98.22          49.75     0.00    0.68\n",
            " 81   10600         566.23        79.97     19.12          59.01    93.84    92.82    98.53   85.17   85.82   84.53    98.21          49.75     0.00    0.68\n",
            " 83   10800         891.62        77.84     20.41          66.18    93.84    92.87    98.43   85.33   86.15   84.53    98.15          49.75     0.00    0.68\n",
            " 85   11000         393.51        53.48     30.81          54.05    93.80    92.84    98.82   85.46   85.90   85.03    98.20          49.75     0.00    0.68\n",
            " 86   11200         461.42        57.16     27.85          53.62    93.82    92.86    98.04   85.02   86.18   83.90    98.15          49.75     0.00    0.68\n",
            " 88   11400         341.01        45.69     29.23          48.14    94.01    93.09    98.53   85.28   86.43   84.15    98.17          49.75     0.00    0.68\n",
            " 89   11600         349.13        45.80     22.55          42.16    94.08    93.09    98.82   85.64   86.92   84.40    98.18          49.75     0.00    0.68\n",
            " 91   11800         402.50        39.19     27.81          62.09    93.95    93.03    98.82   85.91   86.68   85.16    98.17          49.75     0.00    0.68\n",
            " 92   12000         376.84        44.17     19.25          58.70    93.87    92.93    98.43   85.71   86.93   84.53    98.21          49.75     0.00    0.68\n",
            " 94   12200         263.48        27.63     12.24          58.10    94.00    93.07    98.82   85.24   85.84   84.65    98.19          49.75     0.00    0.68\n",
            " 95   12400         355.15        35.55     34.79          51.37    93.97    93.01    98.53   85.10   85.42   84.78    98.16          49.75     0.00    0.68\n",
            " 97   12600         192.15        20.04     21.68          50.40    93.88    92.96    98.43   85.95   87.29   84.65    98.20          49.75     0.00    0.68\n",
            " 98   12800         278.53        32.65     26.17          57.69    93.97    92.94    97.85   84.73   86.10   83.40    98.11          49.75     0.00    0.68\n",
            "100   13000         356.44        42.19     25.73          52.48    93.94    92.95    97.85   86.33   87.68   85.03    98.15          49.75     0.00    0.68\n",
            "102   13200         317.21        27.27     36.94          47.76    93.96    92.92    98.43   86.09   86.53   85.66    98.17          49.75     0.00    0.68\n",
            "103   13400         328.40        30.53     26.94          56.48    93.76    92.80    97.75   85.53   85.91   85.16    98.15          49.75     0.00    0.68\n",
            "105   13600         244.67        23.32     21.53          39.24    93.88    92.91    98.53   85.21   86.03   84.40    98.17          49.75     0.00    0.68\n",
            "106   13800         374.58        37.37     15.28          47.47    93.94    92.96    98.53   85.73   87.24   84.28    98.21          49.75     0.00    0.68\n",
            "108   14000         221.42        24.56     18.11          53.99    94.01    93.08    98.24   85.33   86.55   84.15    98.21          49.75     0.00    0.68\n",
            "109   14200         127.45        11.53     13.54          48.76    93.95    93.01    98.43   84.78   86.22   83.40    98.17          49.75     0.00    0.68\n",
            "111   14400         100.80        11.33     18.81          41.98    93.94    93.00    98.24   85.17   85.82   84.53    98.16          49.75     0.00    0.68\n",
            "112   14600          94.71         9.64     17.66          47.07    93.94    93.00    98.43   84.88   85.37   84.40    98.11          49.75     0.00    0.68\n",
            "114   14800         128.83        12.90     13.80          36.97    93.96    93.04    97.94   85.15   86.30   84.03    98.16          49.75     0.00    0.68\n",
            "tcmalloc: large alloc 2684362752 bytes == 0x7f201cffe000 @  0x7f2449b8c1e7 0x4b2590 0x564796 0x5657be 0x7f22fbb09cd4 0x7f22f97d5229 0x7f22f97d468b 0x7f22f897b61a 0x7f22f898c139 0x7f22f891e469 0x7f22f89377ab 0x4d32c7 0x591e56 0x50e18c 0x5b575e 0x58ff2e 0x50d482 0x4d00fb 0x50cb8d 0x5b575e 0x58ff2e 0x50d482 0x5b575e 0x58ff2e 0x50d482 0x5b4ee6 0x4bad0a 0x50e18c 0x5b575e 0x4bad0a 0x50e18c\n",
            "115   15000         107.16        10.84     19.15          44.01    93.96    93.06    97.85   85.08   85.90   84.28    98.14          49.75     0.00    0.68\n",
            "117   15200         111.63        14.19     16.73          48.29    93.99    93.09    98.53   84.59   85.29   83.90    98.18          49.75     0.00    0.68\n",
            "118   15400         134.46        10.86     15.31          41.96    93.92    93.04    98.53   85.37   85.97   84.78    98.17          49.75     0.00    0.68\n",
            "120   15600         293.34        20.95     19.67          46.53    93.75    92.85    98.72   85.59   86.41   84.78    98.21          49.75     0.00    0.68\n",
            "122   15800         123.68        14.18     12.92          41.57    93.95    93.03    98.24   85.90   86.78   85.03    98.21          49.75     0.00    0.68\n",
            "123   16000         157.19        15.18     16.73          49.63    93.83    92.91    97.46   85.70   86.63   84.78    98.18          49.75     0.00    0.68\n",
            "125   16200          90.40        10.52     15.96          40.93    93.93    92.98    98.53   85.84   87.06   84.65    98.18          49.75     0.00    0.68\n",
            "126   16400          78.23         9.15     14.83          42.13    93.93    93.03    97.65   85.97   87.19   84.78    98.18          49.75     0.00    0.68\n",
            "128   16600          49.28         5.36     14.58          50.85    93.93    93.00    98.53   85.73   86.84   84.65    98.16          49.75     0.00    0.68\n",
            "129   16800          41.18         6.30     13.95          35.15    93.95    93.02    98.14   85.91   86.68   85.16    98.19          49.75     0.00    0.68\n",
            "131   17000          22.79         0.72     19.02          47.68    93.93    93.01    98.24   85.39   86.26   84.53    98.19          49.75     0.00    0.68\n",
            "132   17200          31.02         3.11     14.80          43.01    94.02    93.09    98.53   85.42   86.47   84.40    98.17          49.75     0.00    0.68\n",
            "134   17400          28.64         4.39     15.55          44.36    94.02    93.10    98.82   85.64   86.13   85.16    98.15          49.75     0.00    0.68\n",
            "135   17600          46.05         3.50     17.06          40.50    93.91    92.99    98.24   85.01   85.88   84.15    98.16          49.75     0.00    0.68\n",
            "137   17800          73.36         7.13     17.17          46.31    94.01    93.08    98.53   85.24   86.23   84.28    98.19          49.75     0.00    0.68\n",
            "138   18000          72.78         8.43     12.68          35.87    94.05    93.12    98.53   85.55   86.60   84.53    98.17          49.75     0.00    0.68\n",
            "140   18200          13.38         0.57     15.73          39.45    93.98    93.03    98.24   85.91   86.68   85.16    98.18          49.75     0.00    0.68\n",
            "142   18400         108.53        11.95     18.84          47.17    93.96    93.04    98.53   85.26   86.14   84.40    98.17          49.75     0.00    0.68\n",
            "143   18600          27.92         3.95     10.81          33.28    93.93    93.03    98.24   85.35   86.06   84.65    98.19          49.75     0.00    0.68\n",
            "145   18800          58.50         6.29     16.78          46.45    94.02    93.09    98.24   85.93   86.59   85.28    98.16          49.75     0.00    0.68\n",
            "146   19000         302.76        17.64     12.31          37.84    93.98    93.09    97.75   85.59   86.41   84.78    98.17          49.75     0.00    0.68\n",
            "148   19200          24.58         3.40     15.83          41.15    93.95    93.03    97.75   85.46   86.28   84.65    98.17          49.75     0.00    0.68\n",
            "149   19400          20.76         1.39     15.59          40.74    94.01    93.11    97.75   85.71   86.54   84.91    98.16          49.75     0.00    0.68\n",
            "151   19600          32.94         5.07     13.82          39.67    94.06    93.17    97.75   85.90   86.78   85.03    98.16          49.75     0.00    0.68\n",
            "152   19800          22.01         0.12     18.43          40.73    94.09    93.21    97.75   85.95   86.89   85.03    98.17          49.75     0.00    0.68\n",
            "154   20000          27.35         3.56     14.63          37.45    94.04    93.14    97.75   85.95   86.89   85.03    98.17          49.75     0.00    0.68\n",
            "\u001b[38;5;2m✔ Saved pipeline to output directory\u001b[0m\n",
            "ja_ud_japanese_gsd_2.6_ne_trf/model-last\n"
          ]
        }
      ]
    },
    {
      "cell_type": "code",
      "source": [
        "!ls ja_ud_japanese_gsd_2.6_ne_trf/\n",
        "# model-best  model-last"
      ],
      "metadata": {
        "colab": {
          "base_uri": "https://localhost:8080/"
        },
        "id": "0rv7xf7Pv69X",
        "outputId": "83d58a96-fad6-4f0d-8c63-49a8f69bbb0e"
      },
      "execution_count": 10,
      "outputs": [
        {
          "output_type": "stream",
          "name": "stdout",
          "text": [
            "model-best  model-last\n"
          ]
        }
      ]
    },
    {
      "cell_type": "code",
      "source": [
        "!mkdir -p ./package\n",
        "!python -m spacy package ./ja_ud_japanese_gsd_2.6_ne_trf/model-best ./package --name udjagsd26ne_trf --version 0.0.1"
      ],
      "metadata": {
        "colab": {
          "base_uri": "https://localhost:8080/"
        },
        "id": "aLUfHf_oM7Bc",
        "outputId": "41ca4785-eb76-426b-e834-c2300474a75a"
      },
      "execution_count": 11,
      "outputs": [
        {
          "output_type": "stream",
          "name": "stdout",
          "text": [
            "\u001b[38;5;4mℹ Building package artifacts: sdist\u001b[0m\n",
            "\u001b[38;5;2m✔ Including 1 package requirement(s) from meta and config\u001b[0m\n",
            "spacy-transformers>=1.1.8,<1.2.0\n",
            "\u001b[38;5;2m✔ Loaded meta.json from file\u001b[0m\n",
            "ja_ud_japanese_gsd_2.6_ne_trf/model-best/meta.json\n",
            "\u001b[38;5;2m✔ Generated README.md from meta.json\u001b[0m\n",
            "\u001b[38;5;2m✔ Successfully created package directory 'ja_udjagsd26ne_trf-0.0.1'\u001b[0m\n",
            "package/ja_udjagsd26ne_trf-0.0.1\n",
            "running sdist\n",
            "running egg_info\n",
            "creating ja_udjagsd26ne_trf.egg-info\n",
            "writing ja_udjagsd26ne_trf.egg-info/PKG-INFO\n",
            "writing dependency_links to ja_udjagsd26ne_trf.egg-info/dependency_links.txt\n",
            "writing entry points to ja_udjagsd26ne_trf.egg-info/entry_points.txt\n",
            "writing requirements to ja_udjagsd26ne_trf.egg-info/requires.txt\n",
            "writing top-level names to ja_udjagsd26ne_trf.egg-info/top_level.txt\n",
            "writing manifest file 'ja_udjagsd26ne_trf.egg-info/SOURCES.txt'\n",
            "reading manifest file 'ja_udjagsd26ne_trf.egg-info/SOURCES.txt'\n",
            "reading manifest template 'MANIFEST.in'\n",
            "warning: no files found matching 'LICENSE'\n",
            "warning: no files found matching 'LICENSES_SOURCES'\n",
            "writing manifest file 'ja_udjagsd26ne_trf.egg-info/SOURCES.txt'\n",
            "running check\n",
            "warning: check: missing required meta-data: url\n",
            "\n",
            "warning: check: missing meta-data: either (author and author_email) or (maintainer and maintainer_email) must be supplied\n",
            "\n",
            "creating ja_udjagsd26ne_trf-0.0.1\n",
            "creating ja_udjagsd26ne_trf-0.0.1/ja_udjagsd26ne_trf\n",
            "creating ja_udjagsd26ne_trf-0.0.1/ja_udjagsd26ne_trf.egg-info\n",
            "creating ja_udjagsd26ne_trf-0.0.1/ja_udjagsd26ne_trf/ja_udjagsd26ne_trf-0.0.1\n",
            "creating ja_udjagsd26ne_trf-0.0.1/ja_udjagsd26ne_trf/ja_udjagsd26ne_trf-0.0.1/morphologizer\n",
            "creating ja_udjagsd26ne_trf-0.0.1/ja_udjagsd26ne_trf/ja_udjagsd26ne_trf-0.0.1/ner\n",
            "creating ja_udjagsd26ne_trf-0.0.1/ja_udjagsd26ne_trf/ja_udjagsd26ne_trf-0.0.1/parser\n",
            "creating ja_udjagsd26ne_trf-0.0.1/ja_udjagsd26ne_trf/ja_udjagsd26ne_trf-0.0.1/tokenizer\n",
            "creating ja_udjagsd26ne_trf-0.0.1/ja_udjagsd26ne_trf/ja_udjagsd26ne_trf-0.0.1/transformer\n",
            "creating ja_udjagsd26ne_trf-0.0.1/ja_udjagsd26ne_trf/ja_udjagsd26ne_trf-0.0.1/vocab\n",
            "copying files to ja_udjagsd26ne_trf-0.0.1...\n",
            "copying MANIFEST.in -> ja_udjagsd26ne_trf-0.0.1\n",
            "copying README.md -> ja_udjagsd26ne_trf-0.0.1\n",
            "copying meta.json -> ja_udjagsd26ne_trf-0.0.1\n",
            "copying setup.py -> ja_udjagsd26ne_trf-0.0.1\n",
            "copying ja_udjagsd26ne_trf/__init__.py -> ja_udjagsd26ne_trf-0.0.1/ja_udjagsd26ne_trf\n",
            "copying ja_udjagsd26ne_trf/meta.json -> ja_udjagsd26ne_trf-0.0.1/ja_udjagsd26ne_trf\n",
            "copying ja_udjagsd26ne_trf.egg-info/PKG-INFO -> ja_udjagsd26ne_trf-0.0.1/ja_udjagsd26ne_trf.egg-info\n",
            "copying ja_udjagsd26ne_trf.egg-info/SOURCES.txt -> ja_udjagsd26ne_trf-0.0.1/ja_udjagsd26ne_trf.egg-info\n",
            "copying ja_udjagsd26ne_trf.egg-info/dependency_links.txt -> ja_udjagsd26ne_trf-0.0.1/ja_udjagsd26ne_trf.egg-info\n",
            "copying ja_udjagsd26ne_trf.egg-info/entry_points.txt -> ja_udjagsd26ne_trf-0.0.1/ja_udjagsd26ne_trf.egg-info\n",
            "copying ja_udjagsd26ne_trf.egg-info/not-zip-safe -> ja_udjagsd26ne_trf-0.0.1/ja_udjagsd26ne_trf.egg-info\n",
            "copying ja_udjagsd26ne_trf.egg-info/requires.txt -> ja_udjagsd26ne_trf-0.0.1/ja_udjagsd26ne_trf.egg-info\n",
            "copying ja_udjagsd26ne_trf.egg-info/top_level.txt -> ja_udjagsd26ne_trf-0.0.1/ja_udjagsd26ne_trf.egg-info\n",
            "copying ja_udjagsd26ne_trf/ja_udjagsd26ne_trf-0.0.1/README.md -> ja_udjagsd26ne_trf-0.0.1/ja_udjagsd26ne_trf/ja_udjagsd26ne_trf-0.0.1\n",
            "copying ja_udjagsd26ne_trf/ja_udjagsd26ne_trf-0.0.1/config.cfg -> ja_udjagsd26ne_trf-0.0.1/ja_udjagsd26ne_trf/ja_udjagsd26ne_trf-0.0.1\n",
            "copying ja_udjagsd26ne_trf/ja_udjagsd26ne_trf-0.0.1/meta.json -> ja_udjagsd26ne_trf-0.0.1/ja_udjagsd26ne_trf/ja_udjagsd26ne_trf-0.0.1\n",
            "copying ja_udjagsd26ne_trf/ja_udjagsd26ne_trf-0.0.1/morphologizer/cfg -> ja_udjagsd26ne_trf-0.0.1/ja_udjagsd26ne_trf/ja_udjagsd26ne_trf-0.0.1/morphologizer\n",
            "copying ja_udjagsd26ne_trf/ja_udjagsd26ne_trf-0.0.1/morphologizer/model -> ja_udjagsd26ne_trf-0.0.1/ja_udjagsd26ne_trf/ja_udjagsd26ne_trf-0.0.1/morphologizer\n",
            "copying ja_udjagsd26ne_trf/ja_udjagsd26ne_trf-0.0.1/ner/cfg -> ja_udjagsd26ne_trf-0.0.1/ja_udjagsd26ne_trf/ja_udjagsd26ne_trf-0.0.1/ner\n",
            "copying ja_udjagsd26ne_trf/ja_udjagsd26ne_trf-0.0.1/ner/model -> ja_udjagsd26ne_trf-0.0.1/ja_udjagsd26ne_trf/ja_udjagsd26ne_trf-0.0.1/ner\n",
            "copying ja_udjagsd26ne_trf/ja_udjagsd26ne_trf-0.0.1/ner/moves -> ja_udjagsd26ne_trf-0.0.1/ja_udjagsd26ne_trf/ja_udjagsd26ne_trf-0.0.1/ner\n",
            "copying ja_udjagsd26ne_trf/ja_udjagsd26ne_trf-0.0.1/parser/cfg -> ja_udjagsd26ne_trf-0.0.1/ja_udjagsd26ne_trf/ja_udjagsd26ne_trf-0.0.1/parser\n",
            "copying ja_udjagsd26ne_trf/ja_udjagsd26ne_trf-0.0.1/parser/model -> ja_udjagsd26ne_trf-0.0.1/ja_udjagsd26ne_trf/ja_udjagsd26ne_trf-0.0.1/parser\n",
            "copying ja_udjagsd26ne_trf/ja_udjagsd26ne_trf-0.0.1/parser/moves -> ja_udjagsd26ne_trf-0.0.1/ja_udjagsd26ne_trf/ja_udjagsd26ne_trf-0.0.1/parser\n",
            "copying ja_udjagsd26ne_trf/ja_udjagsd26ne_trf-0.0.1/tokenizer/cfg -> ja_udjagsd26ne_trf-0.0.1/ja_udjagsd26ne_trf/ja_udjagsd26ne_trf-0.0.1/tokenizer\n",
            "copying ja_udjagsd26ne_trf/ja_udjagsd26ne_trf-0.0.1/transformer/cfg -> ja_udjagsd26ne_trf-0.0.1/ja_udjagsd26ne_trf/ja_udjagsd26ne_trf-0.0.1/transformer\n",
            "copying ja_udjagsd26ne_trf/ja_udjagsd26ne_trf-0.0.1/transformer/model -> ja_udjagsd26ne_trf-0.0.1/ja_udjagsd26ne_trf/ja_udjagsd26ne_trf-0.0.1/transformer\n",
            "copying ja_udjagsd26ne_trf/ja_udjagsd26ne_trf-0.0.1/vocab/key2row -> ja_udjagsd26ne_trf-0.0.1/ja_udjagsd26ne_trf/ja_udjagsd26ne_trf-0.0.1/vocab\n",
            "copying ja_udjagsd26ne_trf/ja_udjagsd26ne_trf-0.0.1/vocab/lookups.bin -> ja_udjagsd26ne_trf-0.0.1/ja_udjagsd26ne_trf/ja_udjagsd26ne_trf-0.0.1/vocab\n",
            "copying ja_udjagsd26ne_trf/ja_udjagsd26ne_trf-0.0.1/vocab/strings.json -> ja_udjagsd26ne_trf-0.0.1/ja_udjagsd26ne_trf/ja_udjagsd26ne_trf-0.0.1/vocab\n",
            "copying ja_udjagsd26ne_trf/ja_udjagsd26ne_trf-0.0.1/vocab/vectors -> ja_udjagsd26ne_trf-0.0.1/ja_udjagsd26ne_trf/ja_udjagsd26ne_trf-0.0.1/vocab\n",
            "copying ja_udjagsd26ne_trf/ja_udjagsd26ne_trf-0.0.1/vocab/vectors.cfg -> ja_udjagsd26ne_trf-0.0.1/ja_udjagsd26ne_trf/ja_udjagsd26ne_trf-0.0.1/vocab\n",
            "Writing ja_udjagsd26ne_trf-0.0.1/setup.cfg\n",
            "creating dist\n",
            "Creating tar archive\n",
            "removing 'ja_udjagsd26ne_trf-0.0.1' (and everything under it)\n",
            "\u001b[38;5;2m✔ Successfully created zipped Python package\u001b[0m\n",
            "package/ja_udjagsd26ne_trf-0.0.1/dist/ja_udjagsd26ne_trf-0.0.1.tar.gz\n"
          ]
        }
      ]
    },
    {
      "cell_type": "code",
      "source": [
        "from google.colab import files\n",
        "files.download(\"./package/ja_udjagsd26ne_trf-0.0.1/dist/ja_udjagsd26ne_trf-0.0.1.tar.gz\")"
      ],
      "metadata": {
        "colab": {
          "base_uri": "https://localhost:8080/",
          "height": 17
        },
        "id": "WoBURYOEXgfh",
        "outputId": "54286231-708b-4fd5-dea5-55fee306f9d3"
      },
      "execution_count": 12,
      "outputs": [
        {
          "output_type": "display_data",
          "data": {
            "text/plain": [
              "<IPython.core.display.Javascript object>"
            ],
            "application/javascript": [
              "\n",
              "    async function download(id, filename, size) {\n",
              "      if (!google.colab.kernel.accessAllowed) {\n",
              "        return;\n",
              "      }\n",
              "      const div = document.createElement('div');\n",
              "      const label = document.createElement('label');\n",
              "      label.textContent = `Downloading \"${filename}\": `;\n",
              "      div.appendChild(label);\n",
              "      const progress = document.createElement('progress');\n",
              "      progress.max = size;\n",
              "      div.appendChild(progress);\n",
              "      document.body.appendChild(div);\n",
              "\n",
              "      const buffers = [];\n",
              "      let downloaded = 0;\n",
              "\n",
              "      const channel = await google.colab.kernel.comms.open(id);\n",
              "      // Send a message to notify the kernel that we're ready.\n",
              "      channel.send({})\n",
              "\n",
              "      for await (const message of channel.messages) {\n",
              "        // Send a message to notify the kernel that we're ready.\n",
              "        channel.send({})\n",
              "        if (message.buffers) {\n",
              "          for (const buffer of message.buffers) {\n",
              "            buffers.push(buffer);\n",
              "            downloaded += buffer.byteLength;\n",
              "            progress.value = downloaded;\n",
              "          }\n",
              "        }\n",
              "      }\n",
              "      const blob = new Blob(buffers, {type: 'application/binary'});\n",
              "      const a = document.createElement('a');\n",
              "      a.href = window.URL.createObjectURL(blob);\n",
              "      a.download = filename;\n",
              "      div.appendChild(a);\n",
              "      a.click();\n",
              "      div.remove();\n",
              "    }\n",
              "  "
            ]
          },
          "metadata": {}
        },
        {
          "output_type": "display_data",
          "data": {
            "text/plain": [
              "<IPython.core.display.Javascript object>"
            ],
            "application/javascript": [
              "download(\"download_c2ccf92d-136f-4ef1-91fc-dc4cf1647334\", \"ja_udjagsd26ne_trf-0.0.1.tar.gz\", 414346653)"
            ]
          },
          "metadata": {}
        }
      ]
    },
    {
      "cell_type": "code",
      "source": [
        "!pip install ./package/ja_udjagsd26ne_trf-0.0.1\n",
        "\n",
        "!pip list | grep udjagsd26ne\n",
        "# ja-udjagsd26ne-trf            0.0.1 \n",
        "\n",
        "import spacy\n",
        "nlp = spacy.load(\"ja_udjagsd26ne_trf\")\n",
        "nlp.pipeline"
      ],
      "metadata": {
        "colab": {
          "base_uri": "https://localhost:8080/"
        },
        "id": "dZ7t-7knzgkL",
        "outputId": "9a815853-0981-408a-ff29-840fee4d961a"
      },
      "execution_count": 13,
      "outputs": [
        {
          "output_type": "stream",
          "name": "stdout",
          "text": [
            "Looking in indexes: https://pypi.org/simple, https://us-python.pkg.dev/colab-wheels/public/simple/\n",
            "Processing ./package/ja_udjagsd26ne_trf-0.0.1\n",
            "\u001b[33m  DEPRECATION: A future pip version will change local packages to be built in-place without first copying to a temporary directory. We recommend you use --use-feature=in-tree-build to test your packages with this new behavior before it becomes the default.\n",
            "   pip 21.3 will remove support for this functionality. You can find discussion regarding this at https://github.com/pypa/pip/issues/7555.\u001b[0m\n",
            "Requirement already satisfied: spacy<3.5.0,>=3.4.2 in /usr/local/lib/python3.7/dist-packages (from ja-udjagsd26ne-trf==0.0.1) (3.4.2)\n",
            "Requirement already satisfied: spacy-transformers<1.2.0,>=1.1.8 in /usr/local/lib/python3.7/dist-packages (from ja-udjagsd26ne-trf==0.0.1) (1.1.8)\n",
            "Requirement already satisfied: langcodes<4.0.0,>=3.2.0 in /usr/local/lib/python3.7/dist-packages (from spacy<3.5.0,>=3.4.2->ja-udjagsd26ne-trf==0.0.1) (3.3.0)\n",
            "Requirement already satisfied: tqdm<5.0.0,>=4.38.0 in /usr/local/lib/python3.7/dist-packages (from spacy<3.5.0,>=3.4.2->ja-udjagsd26ne-trf==0.0.1) (4.64.1)\n",
            "Requirement already satisfied: cymem<2.1.0,>=2.0.2 in /usr/local/lib/python3.7/dist-packages (from spacy<3.5.0,>=3.4.2->ja-udjagsd26ne-trf==0.0.1) (2.0.7)\n",
            "Requirement already satisfied: spacy-loggers<2.0.0,>=1.0.0 in /usr/local/lib/python3.7/dist-packages (from spacy<3.5.0,>=3.4.2->ja-udjagsd26ne-trf==0.0.1) (1.0.3)\n",
            "Requirement already satisfied: spacy-legacy<3.1.0,>=3.0.10 in /usr/local/lib/python3.7/dist-packages (from spacy<3.5.0,>=3.4.2->ja-udjagsd26ne-trf==0.0.1) (3.0.10)\n",
            "Requirement already satisfied: typing-extensions<4.2.0,>=3.7.4 in /usr/local/lib/python3.7/dist-packages (from spacy<3.5.0,>=3.4.2->ja-udjagsd26ne-trf==0.0.1) (4.1.1)\n",
            "Requirement already satisfied: pydantic!=1.8,!=1.8.1,<1.11.0,>=1.7.4 in /usr/local/lib/python3.7/dist-packages (from spacy<3.5.0,>=3.4.2->ja-udjagsd26ne-trf==0.0.1) (1.10.2)\n",
            "Requirement already satisfied: numpy>=1.15.0 in /usr/local/lib/python3.7/dist-packages (from spacy<3.5.0,>=3.4.2->ja-udjagsd26ne-trf==0.0.1) (1.21.6)\n",
            "Requirement already satisfied: requests<3.0.0,>=2.13.0 in /usr/local/lib/python3.7/dist-packages (from spacy<3.5.0,>=3.4.2->ja-udjagsd26ne-trf==0.0.1) (2.23.0)\n",
            "Requirement already satisfied: pathy>=0.3.5 in /usr/local/lib/python3.7/dist-packages (from spacy<3.5.0,>=3.4.2->ja-udjagsd26ne-trf==0.0.1) (0.6.2)\n",
            "Requirement already satisfied: typer<0.5.0,>=0.3.0 in /usr/local/lib/python3.7/dist-packages (from spacy<3.5.0,>=3.4.2->ja-udjagsd26ne-trf==0.0.1) (0.4.2)\n",
            "Requirement already satisfied: preshed<3.1.0,>=3.0.2 in /usr/local/lib/python3.7/dist-packages (from spacy<3.5.0,>=3.4.2->ja-udjagsd26ne-trf==0.0.1) (3.0.8)\n",
            "Requirement already satisfied: packaging>=20.0 in /usr/local/lib/python3.7/dist-packages (from spacy<3.5.0,>=3.4.2->ja-udjagsd26ne-trf==0.0.1) (21.3)\n",
            "Requirement already satisfied: thinc<8.2.0,>=8.1.0 in /usr/local/lib/python3.7/dist-packages (from spacy<3.5.0,>=3.4.2->ja-udjagsd26ne-trf==0.0.1) (8.1.5)\n",
            "Requirement already satisfied: jinja2 in /usr/local/lib/python3.7/dist-packages (from spacy<3.5.0,>=3.4.2->ja-udjagsd26ne-trf==0.0.1) (2.11.3)\n",
            "Requirement already satisfied: setuptools in /usr/local/lib/python3.7/dist-packages (from spacy<3.5.0,>=3.4.2->ja-udjagsd26ne-trf==0.0.1) (57.4.0)\n",
            "Requirement already satisfied: wasabi<1.1.0,>=0.9.1 in /usr/local/lib/python3.7/dist-packages (from spacy<3.5.0,>=3.4.2->ja-udjagsd26ne-trf==0.0.1) (0.10.1)\n",
            "Requirement already satisfied: murmurhash<1.1.0,>=0.28.0 in /usr/local/lib/python3.7/dist-packages (from spacy<3.5.0,>=3.4.2->ja-udjagsd26ne-trf==0.0.1) (1.0.9)\n",
            "Requirement already satisfied: srsly<3.0.0,>=2.4.3 in /usr/local/lib/python3.7/dist-packages (from spacy<3.5.0,>=3.4.2->ja-udjagsd26ne-trf==0.0.1) (2.4.5)\n",
            "Requirement already satisfied: catalogue<2.1.0,>=2.0.6 in /usr/local/lib/python3.7/dist-packages (from spacy<3.5.0,>=3.4.2->ja-udjagsd26ne-trf==0.0.1) (2.0.8)\n",
            "Requirement already satisfied: zipp>=0.5 in /usr/local/lib/python3.7/dist-packages (from catalogue<2.1.0,>=2.0.6->spacy<3.5.0,>=3.4.2->ja-udjagsd26ne-trf==0.0.1) (3.9.0)\n",
            "Requirement already satisfied: pyparsing!=3.0.5,>=2.0.2 in /usr/local/lib/python3.7/dist-packages (from packaging>=20.0->spacy<3.5.0,>=3.4.2->ja-udjagsd26ne-trf==0.0.1) (3.0.9)\n",
            "Requirement already satisfied: smart-open<6.0.0,>=5.2.1 in /usr/local/lib/python3.7/dist-packages (from pathy>=0.3.5->spacy<3.5.0,>=3.4.2->ja-udjagsd26ne-trf==0.0.1) (5.2.1)\n",
            "Requirement already satisfied: idna<3,>=2.5 in /usr/local/lib/python3.7/dist-packages (from requests<3.0.0,>=2.13.0->spacy<3.5.0,>=3.4.2->ja-udjagsd26ne-trf==0.0.1) (2.10)\n",
            "Requirement already satisfied: certifi>=2017.4.17 in /usr/local/lib/python3.7/dist-packages (from requests<3.0.0,>=2.13.0->spacy<3.5.0,>=3.4.2->ja-udjagsd26ne-trf==0.0.1) (2022.9.24)\n",
            "Requirement already satisfied: urllib3!=1.25.0,!=1.25.1,<1.26,>=1.21.1 in /usr/local/lib/python3.7/dist-packages (from requests<3.0.0,>=2.13.0->spacy<3.5.0,>=3.4.2->ja-udjagsd26ne-trf==0.0.1) (1.24.3)\n",
            "Requirement already satisfied: chardet<4,>=3.0.2 in /usr/local/lib/python3.7/dist-packages (from requests<3.0.0,>=2.13.0->spacy<3.5.0,>=3.4.2->ja-udjagsd26ne-trf==0.0.1) (3.0.4)\n",
            "Requirement already satisfied: transformers<4.22.0,>=3.4.0 in /usr/local/lib/python3.7/dist-packages (from spacy-transformers<1.2.0,>=1.1.8->ja-udjagsd26ne-trf==0.0.1) (4.21.3)\n",
            "Requirement already satisfied: torch>=1.6.0 in /usr/local/lib/python3.7/dist-packages (from spacy-transformers<1.2.0,>=1.1.8->ja-udjagsd26ne-trf==0.0.1) (1.12.1+cu113)\n",
            "Requirement already satisfied: spacy-alignments<1.0.0,>=0.7.2 in /usr/local/lib/python3.7/dist-packages (from spacy-transformers<1.2.0,>=1.1.8->ja-udjagsd26ne-trf==0.0.1) (0.8.6)\n",
            "Requirement already satisfied: blis<0.8.0,>=0.7.8 in /usr/local/lib/python3.7/dist-packages (from thinc<8.2.0,>=8.1.0->spacy<3.5.0,>=3.4.2->ja-udjagsd26ne-trf==0.0.1) (0.7.9)\n",
            "Requirement already satisfied: confection<1.0.0,>=0.0.1 in /usr/local/lib/python3.7/dist-packages (from thinc<8.2.0,>=8.1.0->spacy<3.5.0,>=3.4.2->ja-udjagsd26ne-trf==0.0.1) (0.0.3)\n",
            "Requirement already satisfied: regex!=2019.12.17 in /usr/local/lib/python3.7/dist-packages (from transformers<4.22.0,>=3.4.0->spacy-transformers<1.2.0,>=1.1.8->ja-udjagsd26ne-trf==0.0.1) (2022.6.2)\n",
            "Requirement already satisfied: tokenizers!=0.11.3,<0.13,>=0.11.1 in /usr/local/lib/python3.7/dist-packages (from transformers<4.22.0,>=3.4.0->spacy-transformers<1.2.0,>=1.1.8->ja-udjagsd26ne-trf==0.0.1) (0.12.1)\n",
            "Requirement already satisfied: filelock in /usr/local/lib/python3.7/dist-packages (from transformers<4.22.0,>=3.4.0->spacy-transformers<1.2.0,>=1.1.8->ja-udjagsd26ne-trf==0.0.1) (3.8.0)\n",
            "Requirement already satisfied: huggingface-hub<1.0,>=0.1.0 in /usr/local/lib/python3.7/dist-packages (from transformers<4.22.0,>=3.4.0->spacy-transformers<1.2.0,>=1.1.8->ja-udjagsd26ne-trf==0.0.1) (0.10.1)\n",
            "Requirement already satisfied: pyyaml>=5.1 in /usr/local/lib/python3.7/dist-packages (from transformers<4.22.0,>=3.4.0->spacy-transformers<1.2.0,>=1.1.8->ja-udjagsd26ne-trf==0.0.1) (6.0)\n",
            "Requirement already satisfied: importlib-metadata in /usr/local/lib/python3.7/dist-packages (from transformers<4.22.0,>=3.4.0->spacy-transformers<1.2.0,>=1.1.8->ja-udjagsd26ne-trf==0.0.1) (4.13.0)\n",
            "Requirement already satisfied: click<9.0.0,>=7.1.1 in /usr/local/lib/python3.7/dist-packages (from typer<0.5.0,>=0.3.0->spacy<3.5.0,>=3.4.2->ja-udjagsd26ne-trf==0.0.1) (7.1.2)\n",
            "Requirement already satisfied: MarkupSafe>=0.23 in /usr/local/lib/python3.7/dist-packages (from jinja2->spacy<3.5.0,>=3.4.2->ja-udjagsd26ne-trf==0.0.1) (2.0.1)\n",
            "Building wheels for collected packages: ja-udjagsd26ne-trf\n",
            "  Building wheel for ja-udjagsd26ne-trf (setup.py) ... \u001b[?25l\u001b[?25hdone\n",
            "  Created wheel for ja-udjagsd26ne-trf: filename=ja_udjagsd26ne_trf-0.0.1-py3-none-any.whl size=414357934 sha256=0cb4fbec8068f6d33af90b776cc7026ee1ac360ed25ac5b51cfd36cabc5e6436\n",
            "  Stored in directory: /root/.cache/pip/wheels/85/21/6d/080ae8c645c01f015b236e2a8d8b4ea68a9965d9db8eff3f25\n",
            "Successfully built ja-udjagsd26ne-trf\n",
            "Installing collected packages: ja-udjagsd26ne-trf\n",
            "Successfully installed ja-udjagsd26ne-trf-0.0.1\n",
            "ja-udjagsd26ne-trf            0.0.1\n"
          ]
        },
        {
          "output_type": "execute_result",
          "data": {
            "text/plain": [
              "[('transformer',\n",
              "  <spacy_transformers.pipeline_component.Transformer at 0x7fd8b0b02830>),\n",
              " ('parser', <spacy.pipeline.dep_parser.DependencyParser at 0x7fd746ac2d50>),\n",
              " ('ner', <spacy.pipeline.ner.EntityRecognizer at 0x7fd746ac29d0>),\n",
              " ('morphologizer',\n",
              "  <spacy.pipeline.morphologizer.Morphologizer at 0x7fd739c11f30>)]"
            ]
          },
          "metadata": {},
          "execution_count": 13
        }
      ]
    },
    {
      "cell_type": "code",
      "source": [
        "nlp2 = spacy.load(\"./ja_ud_japanese_gsd_2.6_ne_trf/model-best\")"
      ],
      "metadata": {
        "id": "DtwPRMlO1FjV"
      },
      "execution_count": 14,
      "outputs": []
    },
    {
      "cell_type": "code",
      "source": [
        "doc = nlp2(\"\"\"\n",
        "闇金業者に借金をしてしまうと、元金の返済はおろか、借金が増えていく一方で、心苦しい思いをしてしまうものです。\n",
        "そして、そのような状態になってしまうと、知りつつ借金したから誰にも頼れない心情となり、一人で悩みを抱え込み、解決策に気づけなくなってしまうことも多々あるのです。\n",
        "そのような際の解決方法を見つけたいなら、まず他人に相談するのが大切ではないでしょうか。\n",
        "一人で悩みを抱え込むと、周りが見えなくなってしまい、余計につらくなってしまうことがあります。\n",
        "そして、そのような時には弁護士や司法書士に相談するのが最良の対処法といえ、無料の相談サービスを利用して悩みを聞いてもらうのがよいのではないでしょうか。\n",
        "こういった法務事務所・法律事務所ではいつも、ヤミ金問題に困っている人たちの相談に乗っていて、弁護士や司法書士からの助言がもらえるので、とても役立ちます。\n",
        "ヤミ金解決に数多くの実績がある、人情派弁護士に、あなたの悩み・苦しみを、まずは無料相談してみては？\n",
        "北海道から沖縄まで、全国対応の事務所だから、東温市に住んでいる方ももちろん相談OKです。\n",
        "解決に伴う手数料も、分割払いOKなので、今は支払うお金が無くても、安心して相談できます。\n",
        "ヤミ金に悩んでいる東温市の女性の方、今スグここで無料相談してみませんか？\n",
        "地元の東温市の近くの法務事務所・法律事務所は下記を参考にどうぞ。\n",
        "一般の司法書士・弁護士事務所は、通常の債務整理についての相談は受け付けているのですが、闇金の問題に関しては、相談を受け付けていないケースも多くあります。\n",
        "東温市近辺の弁護士事務所や司法書士事務所でも、そういうところが多いかもしれません。\n",
        "闇金業者から借金をしてしまった結果、最初こそ普通の督促の電話があったものの後半には脅迫染みた電話がかかってきたり、家に怒鳴り込まれたりするなどあくどい債権回収を行われる場合があります。\n",
        "このような状況になってしまったら、弁護士や司法書士等に相談することが一番ですが、借金をしていることへの負い目や、闇金業者からの仕返しを恐れて相談や通報をためらってしまう場合もあるようです。\n",
        "また、弁護士や司法書士に依頼するのに歯止めをかけてしまう理由に、報酬を支払う余裕がない、という場合もあります。\n",
        "法律関連に強いのが彼らですから、闇金業者が如何に不法かを分かりやすく説明し、現在の目も当てられない状況を解決する手伝いしてくれます。\n",
        "弁護士や司法書士への依頼費用が高いと悩んでいる方も、無料で相談を受け付けている司法書士事務所や弁護士事務所もあります。\n",
        "ヤミ金業者からお金を借りてしまうと、元金の返済どころか、借金が増えていくばかりで、ドツボにはまっていってしまうものです。\n",
        "しかも、闇金にお金を借りるという状況は、ずいぶんお金に追い詰められた状況だけに、そのような人が、ヤミ金業者から借金をして返済できるわけがありません。\n",
        "そして、そのような状態になってしまうと、知りつつ借りたから人に頼れない心情になり、1人だけで悩みを抱え込んで、打開方法に気づけなくなってしまうこともあります。\n",
        "そのような時の対策というのは、まず人に相談することが一番です。\n",
        "\"\"\")\n"
      ],
      "metadata": {
        "id": "a77sz8vdND45"
      },
      "execution_count": 15,
      "outputs": []
    },
    {
      "cell_type": "code",
      "source": [
        "for ent in doc.ents:\n",
        "    print(ent.text, ent.start_char, ent.end_char, ent.label_)\n"
      ],
      "metadata": {
        "colab": {
          "base_uri": "https://localhost:8080/"
        },
        "id": "MBSGbmBKNH1D",
        "outputId": "035f69d0-754a-488f-899a-af1d13fe1342"
      },
      "execution_count": 16,
      "outputs": [
        {
          "output_type": "stream",
          "name": "stdout",
          "text": [
            "一人 99 101 QUANTITY\n",
            "一人 181 183 QUANTITY\n",
            "北海道 431 434 GPE\n",
            "沖縄 436 438 GPE\n",
            "東温市 453 456 GPE\n",
            "東温市 530 533 GPE\n",
            "東温市 561 564 GPE\n",
            "東温市 668 671 GPE\n",
            "司法書士事務所 681 688 ORG\n",
            "司法書士 824 828 TITLE_AFFIX\n",
            "一番 837 839 ORDINAL\n",
            "司法書士事務所 1060 1067 ORG\n",
            "1人 1258 1260 QUANTITY\n",
            "一番 1323 1325 ORDINAL\n"
          ]
        }
      ]
    },
    {
      "cell_type": "code",
      "source": [
        "doc.ents"
      ],
      "metadata": {
        "colab": {
          "base_uri": "https://localhost:8080/"
        },
        "id": "AZuPMdQ6N7LC",
        "outputId": "603e21de-da95-4250-b9a8-397034fe7842"
      },
      "execution_count": 17,
      "outputs": [
        {
          "output_type": "execute_result",
          "data": {
            "text/plain": [
              "(一人, 一人, 北海道, 沖縄, 東温市, 東温市, 東温市, 東温市, 司法書士事務所, 司法書士, 一番, 司法書士事務所, 1人, 一番)"
            ]
          },
          "metadata": {},
          "execution_count": 17
        }
      ]
    },
    {
      "cell_type": "code",
      "source": [
        "len(doc._.trf_data.tokens[\"input_texts\"])"
      ],
      "metadata": {
        "colab": {
          "base_uri": "https://localhost:8080/"
        },
        "id": "_-DCpHVPNs7b",
        "outputId": "400d2534-126d-4140-eddb-0fc0d2bc6441"
      },
      "execution_count": 18,
      "outputs": [
        {
          "output_type": "execute_result",
          "data": {
            "text/plain": [
              "9"
            ]
          },
          "metadata": {},
          "execution_count": 18
        }
      ]
    },
    {
      "cell_type": "code",
      "source": [
        "doc._.trf_data.width"
      ],
      "metadata": {
        "colab": {
          "base_uri": "https://localhost:8080/"
        },
        "id": "QPLiWkn0NyTd",
        "outputId": "a0c275db-c2e7-4698-a7d5-68dfc9721316"
      },
      "execution_count": 19,
      "outputs": [
        {
          "output_type": "execute_result",
          "data": {
            "text/plain": [
              "768"
            ]
          },
          "metadata": {},
          "execution_count": 19
        }
      ]
    }
  ]
}