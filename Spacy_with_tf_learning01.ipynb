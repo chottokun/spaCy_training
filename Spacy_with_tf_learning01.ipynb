{
  "nbformat": 4,
  "nbformat_minor": 0,
  "metadata": {
    "colab": {
      "provenance": [],
      "collapsed_sections": [],
      "authorship_tag": "ABX9TyMa5yeDEqRXVVJ4jqeUSiby",
      "include_colab_link": true
    },
    "kernelspec": {
      "name": "python3",
      "display_name": "Python 3"
    },
    "language_info": {
      "name": "python"
    },
    "accelerator": "GPU",
    "gpuClass": "standard"
  },
  "cells": [
    {
      "cell_type": "markdown",
      "metadata": {
        "id": "view-in-github",
        "colab_type": "text"
      },
      "source": [
        "<a href=\"https://colab.research.google.com/github/chottokun/spaCy_training/blob/main/Spacy_with_tf_learning01.ipynb\" target=\"_parent\"><img src=\"https://colab.research.google.com/assets/colab-badge.svg\" alt=\"Open In Colab\"/></a>"
      ]
    },
    {
      "cell_type": "markdown",
      "source": [
        "spaCyで東北大のBERTモデルでNER学習をする。\n",
        "\n",
        "まずは、こちらを参考に・・・  \n",
        "https://www.ogis-ri.co.jp/otc/hiroba/technical/similar-document-search/part15.html\n",
        "\n",
        "configがうまく行かないので  \n",
        "https://github.com/megagonlabs/UD_Japanese-GSD/blob/master/spacy/config/ja_gsd_bert_v2.cfg  \n",
        "こちらを参考に作り直した。  \n",
        "\n",
        "先人に感謝  \n",
        "https://github.com/megagonlabs/UD_Japanese-GSD/blob/master/leader_board.md  \n",
        "\n"
      ],
      "metadata": {
        "id": "Fm0hcmW5wS2n"
      }
    },
    {
      "cell_type": "code",
      "source": [
        "#in colab cell\n",
        "!nvcc --version"
      ],
      "metadata": {
        "colab": {
          "base_uri": "https://localhost:8080/"
        },
        "id": "zb52loAZzVsa",
        "outputId": "b05993c2-65fd-4402-a8eb-df73c65063b6"
      },
      "execution_count": 1,
      "outputs": [
        {
          "output_type": "stream",
          "name": "stdout",
          "text": [
            "nvcc: NVIDIA (R) Cuda compiler driver\n",
            "Copyright (c) 2005-2021 NVIDIA Corporation\n",
            "Built on Sun_Feb_14_21:12:58_PST_2021\n",
            "Cuda compilation tools, release 11.2, V11.2.152\n",
            "Build cuda_11.2.r11.2/compiler.29618528_0\n"
          ]
        }
      ]
    },
    {
      "cell_type": "code",
      "execution_count": 2,
      "metadata": {
        "colab": {
          "base_uri": "https://localhost:8080/"
        },
        "id": "P1NlVXb1qGMt",
        "outputId": "68760080-ef2c-44f8-bd14-b6365789c149"
      },
      "outputs": [
        {
          "output_type": "stream",
          "name": "stdout",
          "text": [
            "Looking in indexes: https://pypi.org/simple, https://us-python.pkg.dev/colab-wheels/public/simple/\n",
            "Requirement already satisfied: spacy[cuda112,ja,lookups,transformers] in /usr/local/lib/python3.7/dist-packages (3.4.2)\n",
            "Requirement already satisfied: catalogue<2.1.0,>=2.0.6 in /usr/local/lib/python3.7/dist-packages (from spacy[cuda112,ja,lookups,transformers]) (2.0.8)\n",
            "Requirement already satisfied: thinc<8.2.0,>=8.1.0 in /usr/local/lib/python3.7/dist-packages (from spacy[cuda112,ja,lookups,transformers]) (8.1.5)\n",
            "Requirement already satisfied: cymem<2.1.0,>=2.0.2 in /usr/local/lib/python3.7/dist-packages (from spacy[cuda112,ja,lookups,transformers]) (2.0.7)\n",
            "Requirement already satisfied: setuptools in /usr/local/lib/python3.7/dist-packages (from spacy[cuda112,ja,lookups,transformers]) (57.4.0)\n",
            "Requirement already satisfied: typing-extensions<4.2.0,>=3.7.4 in /usr/local/lib/python3.7/dist-packages (from spacy[cuda112,ja,lookups,transformers]) (4.1.1)\n",
            "Requirement already satisfied: preshed<3.1.0,>=3.0.2 in /usr/local/lib/python3.7/dist-packages (from spacy[cuda112,ja,lookups,transformers]) (3.0.8)\n",
            "Requirement already satisfied: spacy-loggers<2.0.0,>=1.0.0 in /usr/local/lib/python3.7/dist-packages (from spacy[cuda112,ja,lookups,transformers]) (1.0.3)\n",
            "Requirement already satisfied: typer<0.5.0,>=0.3.0 in /usr/local/lib/python3.7/dist-packages (from spacy[cuda112,ja,lookups,transformers]) (0.4.2)\n",
            "Requirement already satisfied: numpy>=1.15.0 in /usr/local/lib/python3.7/dist-packages (from spacy[cuda112,ja,lookups,transformers]) (1.21.6)\n",
            "Requirement already satisfied: packaging>=20.0 in /usr/local/lib/python3.7/dist-packages (from spacy[cuda112,ja,lookups,transformers]) (21.3)\n",
            "Requirement already satisfied: wasabi<1.1.0,>=0.9.1 in /usr/local/lib/python3.7/dist-packages (from spacy[cuda112,ja,lookups,transformers]) (0.10.1)\n",
            "Requirement already satisfied: spacy-legacy<3.1.0,>=3.0.10 in /usr/local/lib/python3.7/dist-packages (from spacy[cuda112,ja,lookups,transformers]) (3.0.10)\n",
            "Requirement already satisfied: jinja2 in /usr/local/lib/python3.7/dist-packages (from spacy[cuda112,ja,lookups,transformers]) (2.11.3)\n",
            "Requirement already satisfied: murmurhash<1.1.0,>=0.28.0 in /usr/local/lib/python3.7/dist-packages (from spacy[cuda112,ja,lookups,transformers]) (1.0.9)\n",
            "Requirement already satisfied: pathy>=0.3.5 in /usr/local/lib/python3.7/dist-packages (from spacy[cuda112,ja,lookups,transformers]) (0.6.2)\n",
            "Requirement already satisfied: tqdm<5.0.0,>=4.38.0 in /usr/local/lib/python3.7/dist-packages (from spacy[cuda112,ja,lookups,transformers]) (4.64.1)\n",
            "Requirement already satisfied: pydantic!=1.8,!=1.8.1,<1.11.0,>=1.7.4 in /usr/local/lib/python3.7/dist-packages (from spacy[cuda112,ja,lookups,transformers]) (1.10.2)\n",
            "Requirement already satisfied: srsly<3.0.0,>=2.4.3 in /usr/local/lib/python3.7/dist-packages (from spacy[cuda112,ja,lookups,transformers]) (2.4.5)\n",
            "Requirement already satisfied: requests<3.0.0,>=2.13.0 in /usr/local/lib/python3.7/dist-packages (from spacy[cuda112,ja,lookups,transformers]) (2.23.0)\n",
            "Requirement already satisfied: langcodes<4.0.0,>=3.2.0 in /usr/local/lib/python3.7/dist-packages (from spacy[cuda112,ja,lookups,transformers]) (3.3.0)\n",
            "Collecting sudachipy!=0.6.1,>=0.5.2\n",
            "  Downloading SudachiPy-0.6.6-cp37-cp37m-manylinux_2_5_x86_64.manylinux1_x86_64.manylinux_2_12_x86_64.manylinux2010_x86_64.whl (2.2 MB)\n",
            "\u001b[K     |████████████████████████████████| 2.2 MB 5.1 MB/s \n",
            "\u001b[?25hCollecting sudachidict-core>=20211220\n",
            "  Downloading SudachiDict-core-20221021.tar.gz (9.0 kB)\n",
            "Collecting spacy-lookups-data<1.1.0,>=1.0.3\n",
            "  Downloading spacy_lookups_data-1.0.3-py2.py3-none-any.whl (98.5 MB)\n",
            "\u001b[K     |████████████████████████████████| 98.5 MB 1.1 MB/s \n",
            "\u001b[?25hCollecting cupy-cuda112<12.0.0,>=5.0.0b4\n",
            "  Downloading cupy_cuda112-10.6.0-cp37-cp37m-manylinux1_x86_64.whl (77.5 MB)\n",
            "\u001b[K     |████████████████████████████████| 77.5 MB 1.1 MB/s \n",
            "\u001b[?25hCollecting spacy-transformers<1.2.0,>=1.1.2\n",
            "  Downloading spacy_transformers-1.1.8-py2.py3-none-any.whl (53 kB)\n",
            "\u001b[K     |████████████████████████████████| 53 kB 2.4 MB/s \n",
            "\u001b[?25hRequirement already satisfied: zipp>=0.5 in /usr/local/lib/python3.7/dist-packages (from catalogue<2.1.0,>=2.0.6->spacy[cuda112,ja,lookups,transformers]) (3.9.0)\n",
            "Requirement already satisfied: fastrlock>=0.5 in /usr/local/lib/python3.7/dist-packages (from cupy-cuda112<12.0.0,>=5.0.0b4->spacy[cuda112,ja,lookups,transformers]) (0.8)\n",
            "Requirement already satisfied: pyparsing!=3.0.5,>=2.0.2 in /usr/local/lib/python3.7/dist-packages (from packaging>=20.0->spacy[cuda112,ja,lookups,transformers]) (3.0.9)\n",
            "Requirement already satisfied: smart-open<6.0.0,>=5.2.1 in /usr/local/lib/python3.7/dist-packages (from pathy>=0.3.5->spacy[cuda112,ja,lookups,transformers]) (5.2.1)\n",
            "Requirement already satisfied: urllib3!=1.25.0,!=1.25.1,<1.26,>=1.21.1 in /usr/local/lib/python3.7/dist-packages (from requests<3.0.0,>=2.13.0->spacy[cuda112,ja,lookups,transformers]) (1.24.3)\n",
            "Requirement already satisfied: idna<3,>=2.5 in /usr/local/lib/python3.7/dist-packages (from requests<3.0.0,>=2.13.0->spacy[cuda112,ja,lookups,transformers]) (2.10)\n",
            "Requirement already satisfied: chardet<4,>=3.0.2 in /usr/local/lib/python3.7/dist-packages (from requests<3.0.0,>=2.13.0->spacy[cuda112,ja,lookups,transformers]) (3.0.4)\n",
            "Requirement already satisfied: certifi>=2017.4.17 in /usr/local/lib/python3.7/dist-packages (from requests<3.0.0,>=2.13.0->spacy[cuda112,ja,lookups,transformers]) (2022.9.24)\n",
            "Requirement already satisfied: torch>=1.6.0 in /usr/local/lib/python3.7/dist-packages (from spacy-transformers<1.2.0,>=1.1.2->spacy[cuda112,ja,lookups,transformers]) (1.12.1+cu113)\n",
            "Collecting spacy-alignments<1.0.0,>=0.7.2\n",
            "  Downloading spacy_alignments-0.8.6-cp37-cp37m-manylinux_2_17_x86_64.manylinux2014_x86_64.whl (1.1 MB)\n",
            "\u001b[K     |████████████████████████████████| 1.1 MB 59.6 MB/s \n",
            "\u001b[?25hCollecting transformers<4.22.0,>=3.4.0\n",
            "  Downloading transformers-4.21.3-py3-none-any.whl (4.7 MB)\n",
            "\u001b[K     |████████████████████████████████| 4.7 MB 53.7 MB/s \n",
            "\u001b[?25hRequirement already satisfied: confection<1.0.0,>=0.0.1 in /usr/local/lib/python3.7/dist-packages (from thinc<8.2.0,>=8.1.0->spacy[cuda112,ja,lookups,transformers]) (0.0.3)\n",
            "Requirement already satisfied: blis<0.8.0,>=0.7.8 in /usr/local/lib/python3.7/dist-packages (from thinc<8.2.0,>=8.1.0->spacy[cuda112,ja,lookups,transformers]) (0.7.9)\n",
            "Requirement already satisfied: pyyaml>=5.1 in /usr/local/lib/python3.7/dist-packages (from transformers<4.22.0,>=3.4.0->spacy-transformers<1.2.0,>=1.1.2->spacy[cuda112,ja,lookups,transformers]) (6.0)\n",
            "Requirement already satisfied: regex!=2019.12.17 in /usr/local/lib/python3.7/dist-packages (from transformers<4.22.0,>=3.4.0->spacy-transformers<1.2.0,>=1.1.2->spacy[cuda112,ja,lookups,transformers]) (2022.6.2)\n",
            "Requirement already satisfied: filelock in /usr/local/lib/python3.7/dist-packages (from transformers<4.22.0,>=3.4.0->spacy-transformers<1.2.0,>=1.1.2->spacy[cuda112,ja,lookups,transformers]) (3.8.0)\n",
            "Collecting huggingface-hub<1.0,>=0.1.0\n",
            "  Downloading huggingface_hub-0.10.1-py3-none-any.whl (163 kB)\n",
            "\u001b[K     |████████████████████████████████| 163 kB 64.4 MB/s \n",
            "\u001b[?25hRequirement already satisfied: importlib-metadata in /usr/local/lib/python3.7/dist-packages (from transformers<4.22.0,>=3.4.0->spacy-transformers<1.2.0,>=1.1.2->spacy[cuda112,ja,lookups,transformers]) (4.13.0)\n",
            "Collecting tokenizers!=0.11.3,<0.13,>=0.11.1\n",
            "  Downloading tokenizers-0.12.1-cp37-cp37m-manylinux_2_12_x86_64.manylinux2010_x86_64.whl (6.6 MB)\n",
            "\u001b[K     |████████████████████████████████| 6.6 MB 62.4 MB/s \n",
            "\u001b[?25hRequirement already satisfied: click<9.0.0,>=7.1.1 in /usr/local/lib/python3.7/dist-packages (from typer<0.5.0,>=0.3.0->spacy[cuda112,ja,lookups,transformers]) (7.1.2)\n",
            "Requirement already satisfied: MarkupSafe>=0.23 in /usr/local/lib/python3.7/dist-packages (from jinja2->spacy[cuda112,ja,lookups,transformers]) (2.0.1)\n",
            "Building wheels for collected packages: sudachidict-core\n",
            "  Building wheel for sudachidict-core (setup.py) ... \u001b[?25l\u001b[?25hdone\n",
            "  Created wheel for sudachidict-core: filename=SudachiDict_core-20221021-py3-none-any.whl size=71574782 sha256=9304ee64aa3f005edbfcf57dfe43e478cf2b63423a3bf9481198bae8be4cd25a\n",
            "  Stored in directory: /root/.cache/pip/wheels/66/a9/e1/bde612c31f0ae6877e7e39f278076befd399c488cba80292b6\n",
            "Successfully built sudachidict-core\n",
            "Installing collected packages: tokenizers, huggingface-hub, transformers, sudachipy, spacy-alignments, sudachidict-core, spacy-transformers, spacy-lookups-data, cupy-cuda112\n",
            "Successfully installed cupy-cuda112-10.6.0 huggingface-hub-0.10.1 spacy-alignments-0.8.6 spacy-lookups-data-1.0.3 spacy-transformers-1.1.8 sudachidict-core-20221021 sudachipy-0.6.6 tokenizers-0.12.1 transformers-4.21.3\n",
            "Reading package lists... Done\n",
            "Building dependency tree       \n",
            "Reading state information... Done\n",
            "The following package was automatically installed and is no longer required:\n",
            "  libnvidia-common-460\n",
            "Use 'apt autoremove' to remove it.\n",
            "The following additional packages will be installed:\n",
            "  libmecab2 mecab-ipadic mecab-jumandic mecab-jumandic-utf8 mecab-utils\n",
            "The following NEW packages will be installed:\n",
            "  libmecab2 mecab mecab-ipadic mecab-ipadic-utf8 mecab-jumandic\n",
            "  mecab-jumandic-utf8 mecab-utils\n",
            "0 upgraded, 7 newly installed, 0 to remove and 27 not upgraded.\n",
            "Need to get 28.7 MB of archives.\n",
            "After this operation, 273 MB of additional disk space will be used.\n",
            "Get:1 http://archive.ubuntu.com/ubuntu bionic/universe amd64 libmecab2 amd64 0.996-5 [257 kB]\n",
            "Get:2 http://archive.ubuntu.com/ubuntu bionic/universe amd64 mecab-utils amd64 0.996-5 [4,856 B]\n",
            "Get:3 http://archive.ubuntu.com/ubuntu bionic/universe amd64 mecab-jumandic-utf8 all 7.0-20130310-4 [16.2 MB]\n",
            "Get:4 http://archive.ubuntu.com/ubuntu bionic/universe amd64 mecab-jumandic all 7.0-20130310-4 [2,212 B]\n",
            "Get:5 http://archive.ubuntu.com/ubuntu bionic/universe amd64 mecab-ipadic all 2.7.0-20070801+main-1 [12.1 MB]\n",
            "Get:6 http://archive.ubuntu.com/ubuntu bionic/universe amd64 mecab amd64 0.996-5 [132 kB]\n",
            "Get:7 http://archive.ubuntu.com/ubuntu bionic/universe amd64 mecab-ipadic-utf8 all 2.7.0-20070801+main-1 [3,522 B]\n",
            "Fetched 28.7 MB in 2s (12.8 MB/s)\n",
            "Selecting previously unselected package libmecab2:amd64.\n",
            "(Reading database ... 123942 files and directories currently installed.)\n",
            "Preparing to unpack .../0-libmecab2_0.996-5_amd64.deb ...\n",
            "Unpacking libmecab2:amd64 (0.996-5) ...\n",
            "Selecting previously unselected package mecab-utils.\n",
            "Preparing to unpack .../1-mecab-utils_0.996-5_amd64.deb ...\n",
            "Unpacking mecab-utils (0.996-5) ...\n",
            "Selecting previously unselected package mecab-jumandic-utf8.\n",
            "Preparing to unpack .../2-mecab-jumandic-utf8_7.0-20130310-4_all.deb ...\n",
            "Unpacking mecab-jumandic-utf8 (7.0-20130310-4) ...\n",
            "Selecting previously unselected package mecab-jumandic.\n",
            "Preparing to unpack .../3-mecab-jumandic_7.0-20130310-4_all.deb ...\n",
            "Unpacking mecab-jumandic (7.0-20130310-4) ...\n",
            "Selecting previously unselected package mecab-ipadic.\n",
            "Preparing to unpack .../4-mecab-ipadic_2.7.0-20070801+main-1_all.deb ...\n",
            "Unpacking mecab-ipadic (2.7.0-20070801+main-1) ...\n",
            "Selecting previously unselected package mecab.\n",
            "Preparing to unpack .../5-mecab_0.996-5_amd64.deb ...\n",
            "Unpacking mecab (0.996-5) ...\n",
            "Selecting previously unselected package mecab-ipadic-utf8.\n",
            "Preparing to unpack .../6-mecab-ipadic-utf8_2.7.0-20070801+main-1_all.deb ...\n",
            "Unpacking mecab-ipadic-utf8 (2.7.0-20070801+main-1) ...\n",
            "Setting up libmecab2:amd64 (0.996-5) ...\n",
            "Setting up mecab-utils (0.996-5) ...\n",
            "Setting up mecab-ipadic (2.7.0-20070801+main-1) ...\n",
            "Compiling IPA dictionary for Mecab.  This takes long time...\n",
            "reading /usr/share/mecab/dic/ipadic/unk.def ... 40\n",
            "emitting double-array: 100% |###########################################| \n",
            "/usr/share/mecab/dic/ipadic/model.def is not found. skipped.\n",
            "reading /usr/share/mecab/dic/ipadic/Noun.verbal.csv ... 12146\n",
            "reading /usr/share/mecab/dic/ipadic/Others.csv ... 2\n",
            "reading /usr/share/mecab/dic/ipadic/Adnominal.csv ... 135\n",
            "reading /usr/share/mecab/dic/ipadic/Suffix.csv ... 1393\n",
            "reading /usr/share/mecab/dic/ipadic/Noun.demonst.csv ... 120\n",
            "reading /usr/share/mecab/dic/ipadic/Filler.csv ... 19\n",
            "reading /usr/share/mecab/dic/ipadic/Conjunction.csv ... 171\n",
            "reading /usr/share/mecab/dic/ipadic/Postp-col.csv ... 91\n",
            "reading /usr/share/mecab/dic/ipadic/Verb.csv ... 130750\n",
            "reading /usr/share/mecab/dic/ipadic/Noun.others.csv ... 151\n",
            "reading /usr/share/mecab/dic/ipadic/Noun.adjv.csv ... 3328\n",
            "reading /usr/share/mecab/dic/ipadic/Noun.place.csv ... 72999\n",
            "reading /usr/share/mecab/dic/ipadic/Noun.csv ... 60477\n",
            "reading /usr/share/mecab/dic/ipadic/Symbol.csv ... 208\n",
            "reading /usr/share/mecab/dic/ipadic/Noun.number.csv ... 42\n",
            "reading /usr/share/mecab/dic/ipadic/Adj.csv ... 27210\n",
            "reading /usr/share/mecab/dic/ipadic/Noun.name.csv ... 34202\n",
            "reading /usr/share/mecab/dic/ipadic/Noun.proper.csv ... 27327\n",
            "reading /usr/share/mecab/dic/ipadic/Noun.adverbal.csv ... 795\n",
            "reading /usr/share/mecab/dic/ipadic/Noun.nai.csv ... 42\n",
            "reading /usr/share/mecab/dic/ipadic/Auxil.csv ... 199\n",
            "reading /usr/share/mecab/dic/ipadic/Noun.org.csv ... 16668\n",
            "reading /usr/share/mecab/dic/ipadic/Prefix.csv ... 221\n",
            "reading /usr/share/mecab/dic/ipadic/Adverb.csv ... 3032\n",
            "reading /usr/share/mecab/dic/ipadic/Interjection.csv ... 252\n",
            "reading /usr/share/mecab/dic/ipadic/Postp.csv ... 146\n",
            "emitting double-array: 100% |###########################################| \n",
            "reading /usr/share/mecab/dic/ipadic/matrix.def ... 1316x1316\n",
            "emitting matrix      : 100% |###########################################| \n",
            "\n",
            "done!\n",
            "update-alternatives: using /var/lib/mecab/dic/ipadic to provide /var/lib/mecab/dic/debian (mecab-dictionary) in auto mode\n",
            "Setting up mecab-jumandic-utf8 (7.0-20130310-4) ...\n",
            "Compiling Juman dictionary for Mecab.\n",
            "reading /usr/share/mecab/dic/juman/unk.def ... 37\n",
            "emitting double-array: 100% |###########################################| \n",
            "reading /usr/share/mecab/dic/juman/Emoticon.csv ... 972\n",
            "reading /usr/share/mecab/dic/juman/Noun.keishiki.csv ... 8\n",
            "reading /usr/share/mecab/dic/juman/Special.csv ... 158\n",
            "reading /usr/share/mecab/dic/juman/Suffix.csv ... 2128\n",
            "reading /usr/share/mecab/dic/juman/ContentW.csv ... 551145\n",
            "reading /usr/share/mecab/dic/juman/Assert.csv ... 34\n",
            "reading /usr/share/mecab/dic/juman/Rengo.csv ... 1118\n",
            "reading /usr/share/mecab/dic/juman/Demonstrative.csv ... 97\n",
            "reading /usr/share/mecab/dic/juman/Noun.hukusi.csv ... 81\n",
            "reading /usr/share/mecab/dic/juman/AuxV.csv ... 593\n",
            "reading /usr/share/mecab/dic/juman/Noun.koyuu.csv ... 7964\n",
            "reading /usr/share/mecab/dic/juman/Wikipedia.csv ... 167709\n",
            "reading /usr/share/mecab/dic/juman/Noun.suusi.csv ... 49\n",
            "reading /usr/share/mecab/dic/juman/Prefix.csv ... 90\n",
            "reading /usr/share/mecab/dic/juman/Postp.csv ... 108\n",
            "reading /usr/share/mecab/dic/juman/Auto.csv ... 18931\n",
            "emitting double-array: 100% |###########################################| \n",
            "reading /usr/share/mecab/dic/juman/matrix.def ... 1876x1876\n",
            "emitting matrix      : 100% |###########################################| \n",
            "\n",
            "done!\n",
            "Setting up mecab-ipadic-utf8 (2.7.0-20070801+main-1) ...\n",
            "Compiling IPA dictionary for Mecab.  This takes long time...\n",
            "reading /usr/share/mecab/dic/ipadic/unk.def ... 40\n",
            "emitting double-array: 100% |###########################################| \n",
            "/usr/share/mecab/dic/ipadic/model.def is not found. skipped.\n",
            "reading /usr/share/mecab/dic/ipadic/Noun.verbal.csv ... 12146\n",
            "reading /usr/share/mecab/dic/ipadic/Others.csv ... 2\n",
            "reading /usr/share/mecab/dic/ipadic/Adnominal.csv ... 135\n",
            "reading /usr/share/mecab/dic/ipadic/Suffix.csv ... 1393\n",
            "reading /usr/share/mecab/dic/ipadic/Noun.demonst.csv ... 120\n",
            "reading /usr/share/mecab/dic/ipadic/Filler.csv ... 19\n",
            "reading /usr/share/mecab/dic/ipadic/Conjunction.csv ... 171\n",
            "reading /usr/share/mecab/dic/ipadic/Postp-col.csv ... 91\n",
            "reading /usr/share/mecab/dic/ipadic/Verb.csv ... 130750\n",
            "reading /usr/share/mecab/dic/ipadic/Noun.others.csv ... 151\n",
            "reading /usr/share/mecab/dic/ipadic/Noun.adjv.csv ... 3328\n",
            "reading /usr/share/mecab/dic/ipadic/Noun.place.csv ... 72999\n",
            "reading /usr/share/mecab/dic/ipadic/Noun.csv ... 60477\n",
            "reading /usr/share/mecab/dic/ipadic/Symbol.csv ... 208\n",
            "reading /usr/share/mecab/dic/ipadic/Noun.number.csv ... 42\n",
            "reading /usr/share/mecab/dic/ipadic/Adj.csv ... 27210\n",
            "reading /usr/share/mecab/dic/ipadic/Noun.name.csv ... 34202\n",
            "reading /usr/share/mecab/dic/ipadic/Noun.proper.csv ... 27327\n",
            "reading /usr/share/mecab/dic/ipadic/Noun.adverbal.csv ... 795\n",
            "reading /usr/share/mecab/dic/ipadic/Noun.nai.csv ... 42\n",
            "reading /usr/share/mecab/dic/ipadic/Auxil.csv ... 199\n",
            "reading /usr/share/mecab/dic/ipadic/Noun.org.csv ... 16668\n",
            "reading /usr/share/mecab/dic/ipadic/Prefix.csv ... 221\n",
            "reading /usr/share/mecab/dic/ipadic/Adverb.csv ... 3032\n",
            "reading /usr/share/mecab/dic/ipadic/Interjection.csv ... 252\n",
            "reading /usr/share/mecab/dic/ipadic/Postp.csv ... 146\n",
            "emitting double-array: 100% |###########################################| \n",
            "reading /usr/share/mecab/dic/ipadic/matrix.def ... 1316x1316\n",
            "emitting matrix      : 100% |###########################################| \n",
            "\n",
            "done!\n",
            "update-alternatives: using /var/lib/mecab/dic/ipadic-utf8 to provide /var/lib/mecab/dic/debian (mecab-dictionary) in auto mode\n",
            "Setting up mecab (0.996-5) ...\n",
            "Compiling IPA dictionary for Mecab.  This takes long time...\n",
            "reading /usr/share/mecab/dic/ipadic/unk.def ... 40\n",
            "emitting double-array: 100% |###########################################| \n",
            "/usr/share/mecab/dic/ipadic/model.def is not found. skipped.\n",
            "reading /usr/share/mecab/dic/ipadic/Noun.verbal.csv ... 12146\n",
            "reading /usr/share/mecab/dic/ipadic/Others.csv ... 2\n",
            "reading /usr/share/mecab/dic/ipadic/Adnominal.csv ... 135\n",
            "reading /usr/share/mecab/dic/ipadic/Suffix.csv ... 1393\n",
            "reading /usr/share/mecab/dic/ipadic/Noun.demonst.csv ... 120\n",
            "reading /usr/share/mecab/dic/ipadic/Filler.csv ... 19\n",
            "reading /usr/share/mecab/dic/ipadic/Conjunction.csv ... 171\n",
            "reading /usr/share/mecab/dic/ipadic/Postp-col.csv ... 91\n",
            "reading /usr/share/mecab/dic/ipadic/Verb.csv ... 130750\n",
            "reading /usr/share/mecab/dic/ipadic/Noun.others.csv ... 151\n",
            "reading /usr/share/mecab/dic/ipadic/Noun.adjv.csv ... 3328\n",
            "reading /usr/share/mecab/dic/ipadic/Noun.place.csv ... 72999\n",
            "reading /usr/share/mecab/dic/ipadic/Noun.csv ... 60477\n",
            "reading /usr/share/mecab/dic/ipadic/Symbol.csv ... 208\n",
            "reading /usr/share/mecab/dic/ipadic/Noun.number.csv ... 42\n",
            "reading /usr/share/mecab/dic/ipadic/Adj.csv ... 27210\n",
            "reading /usr/share/mecab/dic/ipadic/Noun.name.csv ... 34202\n",
            "reading /usr/share/mecab/dic/ipadic/Noun.proper.csv ... 27327\n",
            "reading /usr/share/mecab/dic/ipadic/Noun.adverbal.csv ... 795\n",
            "reading /usr/share/mecab/dic/ipadic/Noun.nai.csv ... 42\n",
            "reading /usr/share/mecab/dic/ipadic/Auxil.csv ... 199\n",
            "reading /usr/share/mecab/dic/ipadic/Noun.org.csv ... 16668\n",
            "reading /usr/share/mecab/dic/ipadic/Prefix.csv ... 221\n",
            "reading /usr/share/mecab/dic/ipadic/Adverb.csv ... 3032\n",
            "reading /usr/share/mecab/dic/ipadic/Interjection.csv ... 252\n",
            "reading /usr/share/mecab/dic/ipadic/Postp.csv ... 146\n",
            "emitting double-array: 100% |###########################################| \n",
            "reading /usr/share/mecab/dic/ipadic/matrix.def ... 1316x1316\n",
            "emitting matrix      : 100% |###########################################| \n",
            "\n",
            "done!\n",
            "Setting up mecab-jumandic (7.0-20130310-4) ...\n",
            "Processing triggers for man-db (2.8.3-2ubuntu0.1) ...\n",
            "Processing triggers for libc-bin (2.27-3ubuntu1.6) ...\n",
            "Looking in indexes: https://pypi.org/simple, https://us-python.pkg.dev/colab-wheels/public/simple/\n",
            "Collecting mecab-python3\n",
            "  Downloading mecab_python3-1.0.5-cp37-cp37m-manylinux_2_17_x86_64.manylinux2014_x86_64.whl (574 kB)\n",
            "\u001b[K     |████████████████████████████████| 574 kB 5.2 MB/s \n",
            "\u001b[?25hCollecting fugashi\n",
            "  Downloading fugashi-1.2.0-cp37-cp37m-manylinux_2_17_x86_64.manylinux2014_x86_64.whl (583 kB)\n",
            "\u001b[K     |████████████████████████████████| 583 kB 70.8 MB/s \n",
            "\u001b[?25hCollecting ipadic\n",
            "  Downloading ipadic-1.0.0.tar.gz (13.4 MB)\n",
            "\u001b[K     |████████████████████████████████| 13.4 MB 65.9 MB/s \n",
            "\u001b[?25hBuilding wheels for collected packages: ipadic\n",
            "  Building wheel for ipadic (setup.py) ... \u001b[?25l\u001b[?25hdone\n",
            "  Created wheel for ipadic: filename=ipadic-1.0.0-py3-none-any.whl size=13556723 sha256=5b8fa13222c09c8e6ad68cdc968788f851a189f4cd99d3bf91031216fa7043de\n",
            "  Stored in directory: /root/.cache/pip/wheels/33/8b/99/cf0d27191876637cd3639a560f93aa982d7855ce826c94348b\n",
            "Successfully built ipadic\n",
            "Installing collected packages: mecab-python3, ipadic, fugashi\n",
            "Successfully installed fugashi-1.2.0 ipadic-1.0.0 mecab-python3-1.0.5\n",
            "Looking in indexes: https://pypi.org/simple, https://us-python.pkg.dev/colab-wheels/public/simple/\n",
            "Collecting unidic-lite\n",
            "  Downloading unidic-lite-1.0.8.tar.gz (47.4 MB)\n",
            "\u001b[K     |████████████████████████████████| 47.4 MB 1.2 MB/s \n",
            "\u001b[?25hBuilding wheels for collected packages: unidic-lite\n",
            "  Building wheel for unidic-lite (setup.py) ... \u001b[?25l\u001b[?25hdone\n",
            "  Created wheel for unidic-lite: filename=unidic_lite-1.0.8-py3-none-any.whl size=47658836 sha256=a283f9e6d7eeed7dc88f5c61923b2fa217fb0afe76ac9a5de9abef28cb6c9b17\n",
            "  Stored in directory: /root/.cache/pip/wheels/de/69/b1/112140b599f2b13f609d485a99e357ba68df194d2079c5b1a2\n",
            "Successfully built unidic-lite\n",
            "Installing collected packages: unidic-lite\n",
            "Successfully installed unidic-lite-1.0.8\n"
          ]
        }
      ],
      "source": [
        "!pip install -U spacy[cuda112,transformers,lookups,ja]\n",
        "!apt-get install mecab mecab-ipadic-utf8\n",
        "!pip install mecab-python3 fugashi ipadic\n",
        "!pip install unidic-lite"
      ]
    },
    {
      "cell_type": "code",
      "source": [
        "!git clone -b feature/bert_base_japanese_v2 https://github.com/megagonlabs/UD_Japanese-GSD"
      ],
      "metadata": {
        "colab": {
          "base_uri": "https://localhost:8080/"
        },
        "id": "mbQRMykWshol",
        "outputId": "2a4f25a0-10ce-4368-e9e6-8bb32eb3c03c"
      },
      "execution_count": 3,
      "outputs": [
        {
          "output_type": "stream",
          "name": "stdout",
          "text": [
            "Cloning into 'UD_Japanese-GSD'...\n",
            "remote: Enumerating objects: 693, done.\u001b[K\n",
            "remote: Counting objects: 100% (18/18), done.\u001b[K\n",
            "remote: Compressing objects: 100% (11/11), done.\u001b[K\n",
            "remote: Total 693 (delta 7), reused 13 (delta 7), pack-reused 675\u001b[K\n",
            "Receiving objects: 100% (693/693), 73.31 MiB | 23.31 MiB/s, done.\n",
            "Resolving deltas: 100% (403/403), done.\n"
          ]
        }
      ]
    },
    {
      "cell_type": "code",
      "source": [
        "!mkdir -p corpus\n",
        "!python -m spacy convert ./UD_Japanese-GSD/ja_gsd-ud-train.ne.conllu ./corpus\n",
        "!python -m spacy convert ./UD_Japanese-GSD/ja_gsd-ud-dev.ne.conllu ./corpus\n",
        "!python -m spacy convert ./UD_Japanese-GSD/ja_gsd-ud-test.ne.conllu ./corpus\n",
        "\n",
        "!ls ./corpus"
      ],
      "metadata": {
        "colab": {
          "base_uri": "https://localhost:8080/"
        },
        "id": "Vx5734KCvoWt",
        "outputId": "6fdbf2b4-cc7e-4253-e376-c86ea51a8b7b"
      },
      "execution_count": 4,
      "outputs": [
        {
          "output_type": "stream",
          "name": "stdout",
          "text": [
            "\u001b[38;5;4mℹ Grouping every 1 sentences into a document.\u001b[0m\n",
            "\u001b[38;5;3m⚠ To generate better training data, you may want to group sentences\n",
            "into documents with `-n 10`.\u001b[0m\n",
            "\u001b[38;5;2m✔ Generated output file (7050 documents):\n",
            "corpus/ja_gsd-ud-train.ne.spacy\u001b[0m\n",
            "\u001b[38;5;4mℹ Grouping every 1 sentences into a document.\u001b[0m\n",
            "\u001b[38;5;3m⚠ To generate better training data, you may want to group sentences\n",
            "into documents with `-n 10`.\u001b[0m\n",
            "\u001b[38;5;2m✔ Generated output file (507 documents):\n",
            "corpus/ja_gsd-ud-dev.ne.spacy\u001b[0m\n",
            "\u001b[38;5;4mℹ Grouping every 1 sentences into a document.\u001b[0m\n",
            "\u001b[38;5;3m⚠ To generate better training data, you may want to group sentences\n",
            "into documents with `-n 10`.\u001b[0m\n",
            "\u001b[38;5;2m✔ Generated output file (543 documents):\n",
            "corpus/ja_gsd-ud-test.ne.spacy\u001b[0m\n",
            "ja_gsd-ud-dev.ne.spacy\tja_gsd-ud-test.ne.spacy  ja_gsd-ud-train.ne.spacy\n"
          ]
        }
      ]
    },
    {
      "cell_type": "code",
      "source": [
        "import spacy\n",
        "from spacy.tokens import Doc, DocBin\n",
        "\n",
        "nlp = spacy.blank(\"ja\") \n",
        "\n",
        "train_data = DocBin()\n",
        "train_data.from_disk(path=\"./corpus/ja_gsd-ud-train.ne.spacy\")\n",
        "\n",
        "docs = list(train_data.get_docs(nlp.vocab))\n",
        "\n",
        "for token in docs[2]:\n",
        "  print(\"text=%s head=%d dep=%s ent_type=%s ent_job=%s\" % (token, token.head.i, token.dep_, token.ent_type_, token.ent_iob_))"
      ],
      "metadata": {
        "colab": {
          "base_uri": "https://localhost:8080/"
        },
        "id": "SjqCSr0K2Oq6",
        "outputId": "77dcffdb-e9a7-405a-bdc9-284639091955"
      },
      "execution_count": 5,
      "outputs": [
        {
          "output_type": "stream",
          "name": "stdout",
          "text": [
            "text=手 head=2 dep=obl ent_type= ent_job=O\n",
            "text=に head=0 dep=case ent_type= ent_job=O\n",
            "text=持っ head=6 dep=acl ent_type= ent_job=O\n",
            "text=た head=2 dep=aux ent_type= ent_job=O\n",
            "text=特殊 head=6 dep=acl ent_type= ent_job=O\n",
            "text=な head=4 dep=aux ent_type= ent_job=O\n",
            "text=刃物 head=8 dep=obj ent_type= ent_job=O\n",
            "text=を head=6 dep=case ent_type= ent_job=O\n",
            "text=使っ head=12 dep=acl ent_type= ent_job=O\n",
            "text=た head=8 dep=aux ent_type= ent_job=O\n",
            "text=アクロバティック head=12 dep=acl ent_type= ent_job=O\n",
            "text=な head=10 dep=aux ent_type= ent_job=O\n",
            "text=体術 head=22 dep=nmod ent_type= ent_job=O\n",
            "text=や head=12 dep=case ent_type= ent_job=O\n",
            "text=、 head=12 dep=punct ent_type= ent_job=O\n",
            "text=揚羽 head=18 dep=obl ent_type=PERSON ent_job=B\n",
            "text=と head=15 dep=case ent_type= ent_job=O\n",
            "text=薄羽 head=18 dep=compound ent_type=PERSON ent_job=B\n",
            "text=同様 head=24 dep=advcl ent_type= ent_job=O\n",
            "text=に head=18 dep=aux ent_type= ent_job=O\n",
            "text=クナイ head=22 dep=nmod ent_type= ent_job=O\n",
            "text=や head=20 dep=case ent_type= ent_job=O\n",
            "text=忍具 head=24 dep=obj ent_type= ent_job=O\n",
            "text=を head=22 dep=case ent_type= ent_job=O\n",
            "text=使っ head=26 dep=advcl ent_type= ent_job=O\n",
            "text=て head=24 dep=mark ent_type= ent_job=O\n",
            "text=攻撃 head=26 dep=ROOT ent_type= ent_job=O\n",
            "text=し head=26 dep=aux ent_type= ent_job=O\n",
            "text=て head=26 dep=mark ent_type= ent_job=O\n",
            "text=くる head=28 dep=fixed ent_type= ent_job=O\n",
            "text=。 head=26 dep=punct ent_type= ent_job=O\n"
          ]
        }
      ]
    },
    {
      "cell_type": "code",
      "source": [
        "%%bash\n",
        "cat << EOF > base_config.cfg\n",
        "[paths]\n",
        "train = null                      \n",
        "dev = null                 \n",
        "vectors = null\n",
        "init_tok2vec = null\n",
        "\n",
        "[system]\n",
        "gpu_allocator = \"pytorch\"\n",
        "seed = 0\n",
        "\n",
        "[nlp]\n",
        "lang = \"ja\"\n",
        "pipeline = [\"transformer\",\"parser\",\"ner\", \"morphologizer\"]\n",
        "batch_size = 128\n",
        "disabled = []\n",
        "before_creation = null\n",
        "after_creation = null\n",
        "after_pipeline_creation = null\n",
        "\n",
        "[nlp.tokenizer]\n",
        "@tokenizers = \"spacy.ja.JapaneseTokenizer\"\n",
        "split_mode = \"A\"\n",
        "\n",
        "[components]\n",
        "\n",
        "[components.morphologizer]\n",
        "factory = \"morphologizer\"\n",
        "\n",
        "[components.morphologizer.model]\n",
        "@architectures = \"spacy.Tagger.v1\"\n",
        "nO = null\n",
        "\n",
        "[components.morphologizer.model.tok2vec]\n",
        "@architectures = \"spacy-transformers.TransformerListener.v1\"\n",
        "grad_factor = 1.0\n",
        "\n",
        "[components.morphologizer.model.tok2vec.pooling]\n",
        "@layers = \"reduce_mean.v1\"\n",
        "\n",
        "[components.ner]\n",
        "factory = \"ner\"\n",
        "moves = null\n",
        "update_with_oracle_cut_size = 100\n",
        "\n",
        "[components.ner.model]\n",
        "@architectures = \"spacy.TransitionBasedParser.v2\"\n",
        "state_type = \"ner\"\n",
        "extra_state_tokens = false\n",
        "hidden_width = 64\n",
        "maxout_pieces = 2\n",
        "use_upper = false\n",
        "nO = null\n",
        "\n",
        "[components.ner.model.tok2vec]\n",
        "@architectures = \"spacy-transformers.TransformerListener.v1\"\n",
        "grad_factor = 1.0\n",
        "pooling = {\"@layers\":\"reduce_mean.v1\"}\n",
        "upstream = \"*\"\n",
        "\n",
        "[components.parser]\n",
        "factory = \"parser\"\n",
        "learn_tokens = false\n",
        "min_action_freq = 30\n",
        "moves = null\n",
        "update_with_oracle_cut_size = 100\n",
        "\n",
        "[components.parser.model]\n",
        "@architectures = \"spacy.TransitionBasedParser.v2\"\n",
        "state_type = \"parser\"\n",
        "extra_state_tokens = false\n",
        "hidden_width = 128\n",
        "maxout_pieces = 3\n",
        "use_upper = false\n",
        "nO = null\n",
        "\n",
        "[components.parser.model.tok2vec]\n",
        "@architectures = \"spacy-transformers.TransformerListener.v1\"\n",
        "grad_factor = 1.0\n",
        "pooling = {\"@layers\":\"reduce_mean.v1\"}\n",
        "upstream = \"*\"\n",
        "\n",
        "[components.transformer]\n",
        "factory = \"transformer\"\n",
        "max_batch_items = 4096\n",
        "set_extra_annotations = {\"@annotation_setters\":\"spacy-transformers.null_annotation_setter.v1\"}\n",
        "\n",
        "[components.transformer.model]\n",
        "@architectures = \"spacy-transformers.TransformerModel.v1\"\n",
        "name = \"cl-tohoku/bert-base-japanese-v2\"\n",
        "\n",
        "[components.transformer.model.get_spans]\n",
        "@span_getters = \"spacy-transformers.strided_spans.v1\"\n",
        "window = 128\n",
        "stride = 96\n",
        "\n",
        "[components.transformer.model.tokenizer_config]\n",
        "use_fast = false\n",
        "mecab_kwargs = {\"mecab_dic\":\"unidic_lite\"}\n",
        "\n",
        "[corpora]\n",
        "\n",
        "[corpora.dev]\n",
        "@readers = \"spacy.Corpus.v1\"\n",
        "path = \\${paths.dev}\n",
        "max_length = 0\n",
        "gold_preproc = false\n",
        "limit = 0\n",
        "augmenter = null\n",
        "\n",
        "[corpora.train]\n",
        "@readers = \"spacy.Corpus.v1\"\n",
        "path = \\${paths.train}\n",
        "max_length = 500\n",
        "gold_preproc = false\n",
        "limit = 0\n",
        "augmenter = null\n",
        "\n",
        "[training]\n",
        "accumulate_gradient = 3\n",
        "dev_corpus = \"corpora.dev\"\n",
        "train_corpus = \"corpora.train\"\n",
        "seed = \\${system.seed}\n",
        "gpu_allocator = \\${system.gpu_allocator}\n",
        "dropout = 0.1\n",
        "patience = 0\n",
        "max_epochs = 0\n",
        "max_steps = 20000\n",
        "eval_frequency = 200\n",
        "frozen_components = []\n",
        "before_to_disk = null\n",
        "\n",
        "[training.batcher]\n",
        "@batchers = \"spacy.batch_by_padded.v1\"\n",
        "discard_oversize = true\n",
        "size = 2000\n",
        "buffer = 256\n",
        "get_length = null\n",
        "\n",
        "[training.logger]\n",
        "@loggers = \"spacy.ConsoleLogger.v1\"\n",
        "\n",
        "[training.optimizer]\n",
        "@optimizers = \"Adam.v1\"\n",
        "beta1 = 0.9\n",
        "beta2 = 0.999\n",
        "L2_is_weight_decay = true\n",
        "L2 = 0.01\n",
        "grad_clip = 1.0\n",
        "use_averages = false\n",
        "eps = 0.00000001\n",
        "\n",
        "[training.optimizer.learn_rate]\n",
        "@schedules = \"warmup_linear.v1\"\n",
        "warmup_steps = 250\n",
        "total_steps = 20000\n",
        "initial_rate = 0.00005\n",
        "\n",
        "[training.score_weights]\n",
        "dep_las_per_type = null\n",
        "sents_p = null\n",
        "sents_r = null\n",
        "ents_per_type = null\n",
        "dep_uas = 0.17\n",
        "dep_las = 0.17\n",
        "sents_f = 0.0\n",
        "ents_f = 0.33\n",
        "ents_p = 0.0\n",
        "ents_r = 0.0\n",
        "tag_acc = 0.33\n",
        "\n",
        "[pretraining]\n",
        "\n",
        "[initialize]\n",
        "vectors = null\n",
        "init_tok2vec = \\${paths.init_tok2vec}\n",
        "vocab_data = null\n",
        "lookups = null\n",
        "before_init = null\n",
        "after_init = null\n",
        "\n",
        "[initialize.components]\n",
        "\n",
        "[initialize.tokenizer]\n",
        "EOF"
      ],
      "metadata": {
        "id": "rlEkzVQcoQBU"
      },
      "execution_count": 7,
      "outputs": []
    },
    {
      "cell_type": "code",
      "source": [
        "!python -m spacy init fill-config base_config.cfg config.cfg"
      ],
      "metadata": {
        "colab": {
          "base_uri": "https://localhost:8080/"
        },
        "id": "WUfaAkNXv3U8",
        "outputId": "92541da8-a675-4901-e579-5ef3a0473faf"
      },
      "execution_count": 8,
      "outputs": [
        {
          "output_type": "stream",
          "name": "stdout",
          "text": [
            "\u001b[38;5;2m✔ Auto-filled config with all values\u001b[0m\n",
            "\u001b[38;5;2m✔ Saved config\u001b[0m\n",
            "config.cfg\n",
            "You can now add your data and train your pipeline:\n",
            "python -m spacy train config.cfg --paths.train ./train.spacy --paths.dev ./dev.spacy\n"
          ]
        }
      ]
    },
    {
      "cell_type": "code",
      "source": [
        "# corpus/ja_gsd-ud-test.ne.spacy\n",
        "# ja_gsd-ud-dev.ne.spacy\tja_gsd-ud-test.ne.spacy  ja_gsd-ud-train.ne.spacy"
      ],
      "metadata": {
        "id": "tojaevS0-7XR"
      },
      "execution_count": 9,
      "outputs": []
    },
    {
      "cell_type": "code",
      "source": [
        "!python -m spacy train config.cfg --gpu-id 0 --output ./ja_ud_japanese_gsd_2.6_ne_trf \\\n",
        "  --paths.train ./corpus/ja_gsd-ud-train.ne.spacy --paths.dev ./corpus/ja_gsd-ud-dev.ne.spacy"
      ],
      "metadata": {
        "colab": {
          "base_uri": "https://localhost:8080/"
        },
        "id": "XnVqF21lv35V",
        "outputId": "d8340f10-d235-41a5-c8c9-d34d826ac004"
      },
      "execution_count": 10,
      "outputs": [
        {
          "output_type": "stream",
          "name": "stdout",
          "text": [
            "\u001b[38;5;2m✔ Created output directory: ja_ud_japanese_gsd_2.6_ne_trf\u001b[0m\n",
            "\u001b[38;5;4mℹ Saving to output directory: ja_ud_japanese_gsd_2.6_ne_trf\u001b[0m\n",
            "\u001b[38;5;4mℹ Using GPU: 0\u001b[0m\n",
            "\u001b[1m\n",
            "=========================== Initializing pipeline ===========================\u001b[0m\n",
            "[2022-10-27 11:49:39,408] [INFO] Set up nlp object from config\n",
            "INFO:spacy:Set up nlp object from config\n",
            "[2022-10-27 11:49:39,420] [INFO] Pipeline: ['transformer', 'parser', 'ner', 'morphologizer']\n",
            "INFO:spacy:Pipeline: ['transformer', 'parser', 'ner', 'morphologizer']\n",
            "[2022-10-27 11:49:39,426] [INFO] Created vocabulary\n",
            "INFO:spacy:Created vocabulary\n",
            "[2022-10-27 11:49:39,427] [INFO] Finished initializing nlp object\n",
            "INFO:spacy:Finished initializing nlp object\n",
            "Downloading tokenizer_config.json: 100% 174/174 [00:00<00:00, 236kB/s]\n",
            "Downloading config.json: 100% 517/517 [00:00<00:00, 734kB/s]\n",
            "Downloading vocab.txt: 100% 230k/230k [00:00<00:00, 2.20MB/s]\n",
            "Downloading pytorch_model.bin: 100% 427M/427M [00:07<00:00, 57.9MB/s]\n",
            "Some weights of the model checkpoint at cl-tohoku/bert-base-japanese-v2 were not used when initializing BertModel: ['cls.predictions.bias', 'cls.seq_relationship.bias', 'cls.seq_relationship.weight', 'cls.predictions.transform.dense.bias', 'cls.predictions.transform.dense.weight', 'cls.predictions.transform.LayerNorm.bias', 'cls.predictions.transform.LayerNorm.weight', 'cls.predictions.decoder.bias', 'cls.predictions.decoder.weight']\n",
            "- This IS expected if you are initializing BertModel from the checkpoint of a model trained on another task or with another architecture (e.g. initializing a BertForSequenceClassification model from a BertForPreTraining model).\n",
            "- This IS NOT expected if you are initializing BertModel from the checkpoint of a model that you expect to be exactly identical (initializing a BertForSequenceClassification model from a BertForSequenceClassification model).\n",
            "[2022-10-27 11:50:40,883] [INFO] Initialized pipeline components: ['transformer', 'parser', 'ner', 'morphologizer']\n",
            "INFO:spacy:Initialized pipeline components: ['transformer', 'parser', 'ner', 'morphologizer']\n",
            "\u001b[38;5;2m✔ Initialized pipeline\u001b[0m\n",
            "\u001b[1m\n",
            "============================= Training pipeline =============================\u001b[0m\n",
            "\u001b[38;5;4mℹ Pipeline: ['transformer', 'parser', 'ner', 'morphologizer']\u001b[0m\n",
            "\u001b[38;5;4mℹ Initial learn rate: 0.0\u001b[0m\n",
            "E    #       LOSS TRANS...  LOSS PARSER  LOSS NER  LOSS MORPH...  DEP_UAS  DEP_LAS  SENTS_F  ENTS_F  ENTS_P  ENTS_R  POS_ACC  MORPH_MICRO_F  TAG_ACC  SCORE \n",
            "---  ------  -------------  -----------  --------  -------------  -------  -------  -------  ------  ------  ------  -------  -------------  -------  ------\n",
            "  0       0         249.77       135.28     62.73          69.16     4.54     4.19     0.03    0.00    0.00    0.00    30.03           0.00     0.00    0.08\n",
            "  1     200      438274.24    279664.35  70810.34      213650.58    88.17    81.84    89.71   13.65   18.89   10.69    78.87           0.00     0.00    0.37\n",
            "  3     400      157137.17     55594.52  23361.94       53274.71    92.65    90.44    99.12   55.37   60.30   51.19    96.97          21.69     0.00    0.56\n",
            "  4     600       63156.24     30058.43  12401.73        7637.80    93.19    91.48    99.31   72.04   73.84   70.31    97.99          47.42     0.00    0.65\n",
            "  6     800       47988.15     20661.59   7480.35        3599.27    93.78    92.46    99.21   78.76   79.41   78.11    98.01          48.98     0.00    0.67\n",
            "  7    1000       30749.92     14726.33   4465.22        2104.28    93.93    92.66    99.41   81.12   82.28   80.00    98.04          48.21     0.00    0.67\n",
            "  9    1200       22679.31     10633.24   2919.23        1362.27    93.92    92.64    98.62   83.10   83.95   82.26    97.96          48.98     0.00    0.68\n",
            " 10    1400       17015.31      7721.89   1760.24         884.35    93.96    92.83    99.02   84.12   84.61   83.65    98.00          48.98     0.00    0.68\n",
            " 12    1600       15037.39      6034.85   1375.78         662.93    94.29    93.10    99.21   84.68   85.60   83.77    98.12          49.75     0.00    0.68\n",
            " 13    1800       10443.62      4298.06    945.21         440.13    94.21    92.98    99.01   85.23   85.55   84.91    98.01          49.75     0.00    0.68\n",
            " 15    2000        9258.67      3553.93    688.76         402.52    94.16    93.00    97.83   84.96   84.64   85.28    98.14          49.75     0.00    0.68\n",
            " 16    2200        7063.14      2614.32    569.80         311.01    93.87    92.81    98.72   84.97   86.06   83.90    98.13          49.75     0.00    0.68\n",
            " 18    2400        6539.10      2334.82    368.47         270.48    94.21    93.06    99.12   85.34   85.77   84.91    98.09          49.75     0.00    0.68\n",
            " 20    2600        5278.26      1824.21    301.10         252.58    94.13    93.04    99.12   84.62   84.83   84.40    98.05          49.75     0.00    0.68\n",
            " 21    2800        4573.23      1491.46    288.81         218.76    93.99    92.95    99.12   84.19   85.00   83.40    98.11          49.75     0.00    0.68\n",
            " 23    3000        4022.95      1304.60    192.09         172.84    93.82    92.78    98.72   85.17   85.82   84.53    98.11          49.75     0.00    0.68\n",
            " 24    3200        3834.63      1187.20    168.16         151.18    94.04    93.10    98.53   84.54   85.19   83.90    98.14          49.75     0.00    0.68\n",
            " 26    3400        3254.80       953.90    156.15         193.76    94.01    93.02    98.72   83.69   83.48   83.90    98.15          49.75     0.00    0.68\n",
            " 27    3600        3193.84       913.23    167.95         147.60    94.08    92.94    98.82   84.85   85.17   84.53    98.13          49.75     0.00    0.68\n",
            " 29    3800        3040.71       828.37    140.41         148.22    94.02    93.07    98.82   84.50   84.99   84.03    98.14          49.75     0.00    0.68\n",
            " 30    4000        3183.14       742.70    157.86         135.31    93.85    92.81    98.14   85.86   86.19   85.53    98.08          49.75     0.00    0.68\n",
            " 32    4200        2853.62       742.93    107.83         116.76    93.82    92.78    98.14   85.35   87.67   83.14    98.11          49.75     0.00    0.68\n",
            " 33    4400        2646.19       678.40     86.72         135.96    94.04    92.95    98.72   84.75   85.62   83.90    98.15          49.75     0.00    0.68\n",
            " 35    4600        2923.48       641.46     87.27         140.59    93.86    92.83    98.23   84.70   85.51   83.90    98.08          49.75     0.00    0.68\n",
            " 37    4800        2346.45       555.10     92.58         131.68    93.89    92.80    98.62   84.54   86.66   82.52    98.07          49.75     0.00    0.68\n",
            " 38    5000        1945.51       465.10     63.94         105.18    94.18    93.16    98.53   84.93   86.65   83.27    98.13          49.75     0.00    0.68\n",
            " 40    5200        2147.04       425.44    143.21         122.59    94.17    93.09    98.43   85.12   85.71   84.53    98.10          49.75     0.00    0.68\n",
            " 41    5400        2074.61       437.52    113.25         118.71    93.90    92.81    99.61   84.36   84.58   84.15    98.11          49.75     0.00    0.68\n",
            " 43    5600        1663.10       328.19    136.76          93.89    94.08    93.05    98.33   83.48   85.01   82.01    98.06          49.75     0.00    0.68\n",
            " 44    5800        1607.80       337.53     73.32         104.75    93.99    92.90    98.82   84.25   85.79   82.77    98.03          49.75     0.00    0.68\n",
            " 46    6000        1652.80       369.25     49.81          78.72    94.02    93.00    98.43   84.30   85.22   83.40    98.12          49.75     0.00    0.68\n",
            " 47    6200        1577.30       307.08     74.62          92.10    94.09    93.03    98.72   84.22   86.28   82.26    98.05          49.75     0.00    0.68\n",
            " 49    6400        1428.93       277.51     60.65         106.52    93.85    92.76    98.53   84.24   84.45   84.03    98.07          49.75     0.00    0.68\n",
            " 51    6600        1324.79       229.15     64.40          93.72    94.10    93.02    99.12   83.83   84.53   83.14    98.15          49.75     0.00    0.68\n",
            " 52    6800        1244.32       230.37     68.95          87.41    94.21    93.10    98.82   85.37   85.59   85.16    98.05          49.75     0.00    0.68\n",
            "tcmalloc: large alloc 1342185472 bytes == 0x17141e000 @  0x7f15980191e7 0x4b2590 0x564796 0x5657be 0x7f144ef9acd4 0x7f144cc66249 0x7f144cc6568b 0x7f1435deb61a 0x7f1435dfc139 0x7f1435d8e469 0x7f1435da77ab 0x4d32c7 0x591e56 0x50e18c 0x5b575e 0x58ff2e 0x50d482 0x4d00fb 0x50cb8d 0x5b575e 0x58ff2e 0x50d482 0x5b575e 0x58ff2e 0x50d482 0x5b4ee6 0x4bad0a 0x50e18c 0x5b575e 0x4bad0a 0x50e18c\n",
            " 54    7000        1295.73       237.39     45.15          90.15    94.01    93.00    98.82   84.80   86.12   83.52    98.03          49.75     0.00    0.68\n",
            " 55    7200        1672.31       284.01     71.61          79.08    93.70    92.64    98.24   84.60   84.92   84.28    98.05          49.75     0.00    0.68\n",
            " 57    7400         874.76       157.44     65.88          61.38    94.09    93.13    98.24   85.22   87.12   83.40    98.06          49.75     0.00    0.68\n",
            " 58    7600         944.53       152.55     52.79          85.06    93.84    92.84    98.53   85.44   86.38   84.53    98.11          49.75     0.00    0.68\n",
            " 60    7800        1302.46       195.01     72.85          81.40    94.07    93.05    98.53   84.74   84.96   84.53    98.15          49.75     0.00    0.68\n",
            " 61    8000        1199.73       209.47     46.77          83.13    93.99    92.94    98.53   85.03   85.79   84.28    98.12          49.75     0.00    0.68\n",
            " 63    8200        1361.85       214.80     56.77          81.27    93.77    92.85    97.46   84.70   85.13   84.28    98.11          49.75     0.00    0.68\n",
            " 64    8400         844.41       143.14     21.88          76.22    94.01    93.03    98.82   86.10   87.32   84.91    98.11          49.75     0.00    0.68\n",
            " 66    8600        1154.78       179.35     34.56          84.36    93.90    92.84    98.53   85.22   86.32   84.15    98.08          49.75     0.00    0.68\n",
            " 68    8800         674.52       107.53     40.00          58.17    93.99    93.05    98.53   84.87   85.08   84.65    98.16          49.75     0.00    0.68\n",
            " 69    9000         971.53       124.49     33.00          60.36    94.00    92.97    97.94   85.34   85.77   84.91    98.11          49.75     0.00    0.68\n",
            " 71    9200        1232.55       171.88     35.50          76.63    93.94    92.97    98.24   84.89   86.05   83.77    98.08          49.75     0.00    0.68\n",
            " 72    9400         650.75        91.30     37.50          62.49    93.97    93.01    97.65   84.51   85.66   83.40    98.08          49.75     0.00    0.68\n",
            " 74    9600         696.67       108.98     26.05          62.03    93.94    92.94    97.84   84.95   86.16   83.77    98.15          49.75     0.00    0.68\n",
            " 75    9800         637.08        91.92     36.56          59.54    94.00    93.01    98.53   84.58   85.01   84.15    98.06          49.75     0.00    0.68\n",
            " 77   10000         575.80        86.26     35.61          62.18    93.88    92.88    98.82   83.89   83.62   84.15    98.12          49.75     0.00    0.68\n",
            " 78   10200         579.84        90.87     25.64          55.07    93.93    92.85    97.94   84.78   85.15   84.40    98.08          49.75     0.00    0.68\n",
            " 80   10400         552.13        79.76     24.81          60.07    93.95    92.93    98.24   84.40   85.44   83.40    98.11          49.75     0.00    0.68\n",
            " 81   10600         609.30        84.39     33.92          64.74    94.03    93.10    98.53   85.62   86.62   84.65    98.11          49.75     0.00    0.68\n",
            " 83   10800         716.08        84.86     23.88          49.62    94.04    93.01    98.82   85.66   86.43   84.91    98.14          49.75     0.00    0.68\n",
            " 85   11000        1925.33        90.95     27.02          57.00    94.04    93.04    98.82   84.83   85.26   84.40    98.10          49.75     0.00    0.68\n",
            " 86   11200         326.66        36.05     22.72          57.57    94.11    93.14    98.24   84.86   85.46   84.28    98.16          49.75     0.00    0.68\n",
            " 88   11400         297.22        28.60     32.60          47.49    94.00    93.05    98.53   85.71   86.15   85.28    98.10          49.75     0.00    0.68\n",
            " 89   11600         515.87        56.56     27.68          46.64    93.91    92.88    98.53   85.84   86.67   85.03    98.15          49.75     0.00    0.68\n",
            " 91   11800         612.02        73.48     24.80          63.59    94.12    93.13    98.53   84.75   86.01   83.52    98.08          49.75     0.00    0.68\n",
            " 92   12000         495.30        56.44     31.45          51.88    94.09    93.06    97.94   84.57   85.38   83.77    98.07          49.75     0.00    0.68\n",
            " 94   12200         293.38        24.45     26.75          47.27    94.17    93.19    98.53   84.92   85.57   84.28    98.08          49.75     0.00    0.68\n",
            " 95   12400         224.20        20.25     26.32          44.57    94.11    93.13    97.94   84.73   86.10   83.40    98.10          49.75     0.00    0.68\n",
            " 97   12600         301.38        34.25     21.59          46.77    93.95    93.02    98.53   84.71   84.76   84.65    98.12          49.75     0.00    0.68\n",
            " 98   12800         257.05        35.61     19.45          51.21    93.94    92.98    98.53   85.57   86.50   84.65    98.12          49.75     0.00    0.68\n",
            "100   13000         202.68        24.92     21.80          47.66    94.08    93.05    97.65   85.64   87.32   84.03    98.12          49.75     0.00    0.68\n",
            "102   13200         477.09        48.65     16.18          48.81    93.86    92.92    97.85   85.33   86.15   84.53    98.13          49.75     0.00    0.68\n",
            "103   13400         242.68        31.26     20.39          57.38    93.93    93.00    97.85   85.41   86.17   84.65    98.17          49.75     0.00    0.68\n",
            "105   13600         129.47        13.61     13.95          40.48    94.20    93.24    97.84   84.39   85.15   83.65    98.08          49.75     0.00    0.68\n",
            "106   13800         166.61        13.55     24.40          48.46    94.00    92.99    98.24   85.41   86.17   84.65    98.07          49.75     0.00    0.68\n",
            "108   14000         228.37        27.89     17.18          50.72    94.05    93.08    98.24   86.20   86.75   85.66    98.13          49.75     0.00    0.68\n",
            "109   14200         289.54        29.33     13.83          48.28    94.07    93.12    98.24   85.99   87.10   84.91    98.17          49.75     0.00    0.68\n",
            "^C\n"
          ]
        }
      ]
    },
    {
      "cell_type": "code",
      "source": [
        "!ls ja_ud_japanese_gsd_2.6_ne_trf/\n",
        "# model-best  model-last"
      ],
      "metadata": {
        "colab": {
          "base_uri": "https://localhost:8080/"
        },
        "id": "0rv7xf7Pv69X",
        "outputId": "681851f0-5c5b-446c-b91a-5a08bb6b7aea"
      },
      "execution_count": 11,
      "outputs": [
        {
          "output_type": "stream",
          "name": "stdout",
          "text": [
            "model-best  model-last\n"
          ]
        }
      ]
    },
    {
      "cell_type": "code",
      "source": [
        "!mkdir -p ./package\n",
        "!python -m spacy package ./ja_ud_japanese_gsd_2.6_ne_trf/model-best ./package --name udjagsd26ne_trf --version 0.0.1"
      ],
      "metadata": {
        "colab": {
          "base_uri": "https://localhost:8080/"
        },
        "id": "aLUfHf_oM7Bc",
        "outputId": "8f28c039-618f-43d0-e56c-37635c0f6254"
      },
      "execution_count": 12,
      "outputs": [
        {
          "output_type": "stream",
          "name": "stdout",
          "text": [
            "\u001b[38;5;4mℹ Building package artifacts: sdist\u001b[0m\n",
            "\u001b[38;5;2m✔ Including 1 package requirement(s) from meta and config\u001b[0m\n",
            "spacy-transformers>=1.1.8,<1.2.0\n",
            "\u001b[38;5;2m✔ Loaded meta.json from file\u001b[0m\n",
            "ja_ud_japanese_gsd_2.6_ne_trf/model-best/meta.json\n",
            "\u001b[38;5;2m✔ Generated README.md from meta.json\u001b[0m\n",
            "\u001b[38;5;2m✔ Successfully created package directory 'ja_udjagsd26ne_trf-0.0.1'\u001b[0m\n",
            "package/ja_udjagsd26ne_trf-0.0.1\n",
            "running sdist\n",
            "running egg_info\n",
            "creating ja_udjagsd26ne_trf.egg-info\n",
            "writing ja_udjagsd26ne_trf.egg-info/PKG-INFO\n",
            "writing dependency_links to ja_udjagsd26ne_trf.egg-info/dependency_links.txt\n",
            "writing entry points to ja_udjagsd26ne_trf.egg-info/entry_points.txt\n",
            "writing requirements to ja_udjagsd26ne_trf.egg-info/requires.txt\n",
            "writing top-level names to ja_udjagsd26ne_trf.egg-info/top_level.txt\n",
            "writing manifest file 'ja_udjagsd26ne_trf.egg-info/SOURCES.txt'\n",
            "reading manifest file 'ja_udjagsd26ne_trf.egg-info/SOURCES.txt'\n",
            "reading manifest template 'MANIFEST.in'\n",
            "warning: no files found matching 'LICENSE'\n",
            "warning: no files found matching 'LICENSES_SOURCES'\n",
            "writing manifest file 'ja_udjagsd26ne_trf.egg-info/SOURCES.txt'\n",
            "running check\n",
            "warning: check: missing required meta-data: url\n",
            "\n",
            "warning: check: missing meta-data: either (author and author_email) or (maintainer and maintainer_email) must be supplied\n",
            "\n",
            "creating ja_udjagsd26ne_trf-0.0.1\n",
            "creating ja_udjagsd26ne_trf-0.0.1/ja_udjagsd26ne_trf\n",
            "creating ja_udjagsd26ne_trf-0.0.1/ja_udjagsd26ne_trf.egg-info\n",
            "creating ja_udjagsd26ne_trf-0.0.1/ja_udjagsd26ne_trf/ja_udjagsd26ne_trf-0.0.1\n",
            "creating ja_udjagsd26ne_trf-0.0.1/ja_udjagsd26ne_trf/ja_udjagsd26ne_trf-0.0.1/morphologizer\n",
            "creating ja_udjagsd26ne_trf-0.0.1/ja_udjagsd26ne_trf/ja_udjagsd26ne_trf-0.0.1/ner\n",
            "creating ja_udjagsd26ne_trf-0.0.1/ja_udjagsd26ne_trf/ja_udjagsd26ne_trf-0.0.1/parser\n",
            "creating ja_udjagsd26ne_trf-0.0.1/ja_udjagsd26ne_trf/ja_udjagsd26ne_trf-0.0.1/tokenizer\n",
            "creating ja_udjagsd26ne_trf-0.0.1/ja_udjagsd26ne_trf/ja_udjagsd26ne_trf-0.0.1/transformer\n",
            "creating ja_udjagsd26ne_trf-0.0.1/ja_udjagsd26ne_trf/ja_udjagsd26ne_trf-0.0.1/vocab\n",
            "copying files to ja_udjagsd26ne_trf-0.0.1...\n",
            "copying MANIFEST.in -> ja_udjagsd26ne_trf-0.0.1\n",
            "copying README.md -> ja_udjagsd26ne_trf-0.0.1\n",
            "copying meta.json -> ja_udjagsd26ne_trf-0.0.1\n",
            "copying setup.py -> ja_udjagsd26ne_trf-0.0.1\n",
            "copying ja_udjagsd26ne_trf/__init__.py -> ja_udjagsd26ne_trf-0.0.1/ja_udjagsd26ne_trf\n",
            "copying ja_udjagsd26ne_trf/meta.json -> ja_udjagsd26ne_trf-0.0.1/ja_udjagsd26ne_trf\n",
            "copying ja_udjagsd26ne_trf.egg-info/PKG-INFO -> ja_udjagsd26ne_trf-0.0.1/ja_udjagsd26ne_trf.egg-info\n",
            "copying ja_udjagsd26ne_trf.egg-info/SOURCES.txt -> ja_udjagsd26ne_trf-0.0.1/ja_udjagsd26ne_trf.egg-info\n",
            "copying ja_udjagsd26ne_trf.egg-info/dependency_links.txt -> ja_udjagsd26ne_trf-0.0.1/ja_udjagsd26ne_trf.egg-info\n",
            "copying ja_udjagsd26ne_trf.egg-info/entry_points.txt -> ja_udjagsd26ne_trf-0.0.1/ja_udjagsd26ne_trf.egg-info\n",
            "copying ja_udjagsd26ne_trf.egg-info/not-zip-safe -> ja_udjagsd26ne_trf-0.0.1/ja_udjagsd26ne_trf.egg-info\n",
            "copying ja_udjagsd26ne_trf.egg-info/requires.txt -> ja_udjagsd26ne_trf-0.0.1/ja_udjagsd26ne_trf.egg-info\n",
            "copying ja_udjagsd26ne_trf.egg-info/top_level.txt -> ja_udjagsd26ne_trf-0.0.1/ja_udjagsd26ne_trf.egg-info\n",
            "copying ja_udjagsd26ne_trf/ja_udjagsd26ne_trf-0.0.1/README.md -> ja_udjagsd26ne_trf-0.0.1/ja_udjagsd26ne_trf/ja_udjagsd26ne_trf-0.0.1\n",
            "copying ja_udjagsd26ne_trf/ja_udjagsd26ne_trf-0.0.1/config.cfg -> ja_udjagsd26ne_trf-0.0.1/ja_udjagsd26ne_trf/ja_udjagsd26ne_trf-0.0.1\n",
            "copying ja_udjagsd26ne_trf/ja_udjagsd26ne_trf-0.0.1/meta.json -> ja_udjagsd26ne_trf-0.0.1/ja_udjagsd26ne_trf/ja_udjagsd26ne_trf-0.0.1\n",
            "copying ja_udjagsd26ne_trf/ja_udjagsd26ne_trf-0.0.1/morphologizer/cfg -> ja_udjagsd26ne_trf-0.0.1/ja_udjagsd26ne_trf/ja_udjagsd26ne_trf-0.0.1/morphologizer\n",
            "copying ja_udjagsd26ne_trf/ja_udjagsd26ne_trf-0.0.1/morphologizer/model -> ja_udjagsd26ne_trf-0.0.1/ja_udjagsd26ne_trf/ja_udjagsd26ne_trf-0.0.1/morphologizer\n",
            "copying ja_udjagsd26ne_trf/ja_udjagsd26ne_trf-0.0.1/ner/cfg -> ja_udjagsd26ne_trf-0.0.1/ja_udjagsd26ne_trf/ja_udjagsd26ne_trf-0.0.1/ner\n",
            "copying ja_udjagsd26ne_trf/ja_udjagsd26ne_trf-0.0.1/ner/model -> ja_udjagsd26ne_trf-0.0.1/ja_udjagsd26ne_trf/ja_udjagsd26ne_trf-0.0.1/ner\n",
            "copying ja_udjagsd26ne_trf/ja_udjagsd26ne_trf-0.0.1/ner/moves -> ja_udjagsd26ne_trf-0.0.1/ja_udjagsd26ne_trf/ja_udjagsd26ne_trf-0.0.1/ner\n",
            "copying ja_udjagsd26ne_trf/ja_udjagsd26ne_trf-0.0.1/parser/cfg -> ja_udjagsd26ne_trf-0.0.1/ja_udjagsd26ne_trf/ja_udjagsd26ne_trf-0.0.1/parser\n",
            "copying ja_udjagsd26ne_trf/ja_udjagsd26ne_trf-0.0.1/parser/model -> ja_udjagsd26ne_trf-0.0.1/ja_udjagsd26ne_trf/ja_udjagsd26ne_trf-0.0.1/parser\n",
            "copying ja_udjagsd26ne_trf/ja_udjagsd26ne_trf-0.0.1/parser/moves -> ja_udjagsd26ne_trf-0.0.1/ja_udjagsd26ne_trf/ja_udjagsd26ne_trf-0.0.1/parser\n",
            "copying ja_udjagsd26ne_trf/ja_udjagsd26ne_trf-0.0.1/tokenizer/cfg -> ja_udjagsd26ne_trf-0.0.1/ja_udjagsd26ne_trf/ja_udjagsd26ne_trf-0.0.1/tokenizer\n",
            "copying ja_udjagsd26ne_trf/ja_udjagsd26ne_trf-0.0.1/transformer/cfg -> ja_udjagsd26ne_trf-0.0.1/ja_udjagsd26ne_trf/ja_udjagsd26ne_trf-0.0.1/transformer\n",
            "copying ja_udjagsd26ne_trf/ja_udjagsd26ne_trf-0.0.1/transformer/model -> ja_udjagsd26ne_trf-0.0.1/ja_udjagsd26ne_trf/ja_udjagsd26ne_trf-0.0.1/transformer\n",
            "copying ja_udjagsd26ne_trf/ja_udjagsd26ne_trf-0.0.1/vocab/key2row -> ja_udjagsd26ne_trf-0.0.1/ja_udjagsd26ne_trf/ja_udjagsd26ne_trf-0.0.1/vocab\n",
            "copying ja_udjagsd26ne_trf/ja_udjagsd26ne_trf-0.0.1/vocab/lookups.bin -> ja_udjagsd26ne_trf-0.0.1/ja_udjagsd26ne_trf/ja_udjagsd26ne_trf-0.0.1/vocab\n",
            "copying ja_udjagsd26ne_trf/ja_udjagsd26ne_trf-0.0.1/vocab/strings.json -> ja_udjagsd26ne_trf-0.0.1/ja_udjagsd26ne_trf/ja_udjagsd26ne_trf-0.0.1/vocab\n",
            "copying ja_udjagsd26ne_trf/ja_udjagsd26ne_trf-0.0.1/vocab/vectors -> ja_udjagsd26ne_trf-0.0.1/ja_udjagsd26ne_trf/ja_udjagsd26ne_trf-0.0.1/vocab\n",
            "copying ja_udjagsd26ne_trf/ja_udjagsd26ne_trf-0.0.1/vocab/vectors.cfg -> ja_udjagsd26ne_trf-0.0.1/ja_udjagsd26ne_trf/ja_udjagsd26ne_trf-0.0.1/vocab\n",
            "Writing ja_udjagsd26ne_trf-0.0.1/setup.cfg\n",
            "creating dist\n",
            "Creating tar archive\n",
            "removing 'ja_udjagsd26ne_trf-0.0.1' (and everything under it)\n",
            "\u001b[38;5;2m✔ Successfully created zipped Python package\u001b[0m\n",
            "package/ja_udjagsd26ne_trf-0.0.1/dist/ja_udjagsd26ne_trf-0.0.1.tar.gz\n"
          ]
        }
      ]
    },
    {
      "cell_type": "code",
      "source": [
        "!pip install ./package/ja_udjagsd26ne_trf-0.0.1\n",
        "\n",
        "!pip list | grep udjagsd26ne\n",
        "# ja-udjagsd26ne-trf            0.0.1 \n",
        "\n",
        "import spacy\n",
        "nlp = spacy.load(\"ja_udjagsd26ne_trf\")\n",
        "nlp.pipeline"
      ],
      "metadata": {
        "colab": {
          "base_uri": "https://localhost:8080/"
        },
        "id": "dZ7t-7knzgkL",
        "outputId": "dabdbfec-db99-491b-bbfe-bdc6064a11f0"
      },
      "execution_count": 13,
      "outputs": [
        {
          "output_type": "stream",
          "name": "stdout",
          "text": [
            "Looking in indexes: https://pypi.org/simple, https://us-python.pkg.dev/colab-wheels/public/simple/\n",
            "Processing ./package/ja_udjagsd26ne_trf-0.0.1\n",
            "\u001b[33m  DEPRECATION: A future pip version will change local packages to be built in-place without first copying to a temporary directory. We recommend you use --use-feature=in-tree-build to test your packages with this new behavior before it becomes the default.\n",
            "   pip 21.3 will remove support for this functionality. You can find discussion regarding this at https://github.com/pypa/pip/issues/7555.\u001b[0m\n",
            "Requirement already satisfied: spacy<3.5.0,>=3.4.2 in /usr/local/lib/python3.7/dist-packages (from ja-udjagsd26ne-trf==0.0.1) (3.4.2)\n",
            "Requirement already satisfied: spacy-transformers<1.2.0,>=1.1.8 in /usr/local/lib/python3.7/dist-packages (from ja-udjagsd26ne-trf==0.0.1) (1.1.8)\n",
            "Requirement already satisfied: typer<0.5.0,>=0.3.0 in /usr/local/lib/python3.7/dist-packages (from spacy<3.5.0,>=3.4.2->ja-udjagsd26ne-trf==0.0.1) (0.4.2)\n",
            "Requirement already satisfied: typing-extensions<4.2.0,>=3.7.4 in /usr/local/lib/python3.7/dist-packages (from spacy<3.5.0,>=3.4.2->ja-udjagsd26ne-trf==0.0.1) (4.1.1)\n",
            "Requirement already satisfied: wasabi<1.1.0,>=0.9.1 in /usr/local/lib/python3.7/dist-packages (from spacy<3.5.0,>=3.4.2->ja-udjagsd26ne-trf==0.0.1) (0.10.1)\n",
            "Requirement already satisfied: spacy-loggers<2.0.0,>=1.0.0 in /usr/local/lib/python3.7/dist-packages (from spacy<3.5.0,>=3.4.2->ja-udjagsd26ne-trf==0.0.1) (1.0.3)\n",
            "Requirement already satisfied: preshed<3.1.0,>=3.0.2 in /usr/local/lib/python3.7/dist-packages (from spacy<3.5.0,>=3.4.2->ja-udjagsd26ne-trf==0.0.1) (3.0.8)\n",
            "Requirement already satisfied: jinja2 in /usr/local/lib/python3.7/dist-packages (from spacy<3.5.0,>=3.4.2->ja-udjagsd26ne-trf==0.0.1) (2.11.3)\n",
            "Requirement already satisfied: thinc<8.2.0,>=8.1.0 in /usr/local/lib/python3.7/dist-packages (from spacy<3.5.0,>=3.4.2->ja-udjagsd26ne-trf==0.0.1) (8.1.5)\n",
            "Requirement already satisfied: numpy>=1.15.0 in /usr/local/lib/python3.7/dist-packages (from spacy<3.5.0,>=3.4.2->ja-udjagsd26ne-trf==0.0.1) (1.21.6)\n",
            "Requirement already satisfied: pydantic!=1.8,!=1.8.1,<1.11.0,>=1.7.4 in /usr/local/lib/python3.7/dist-packages (from spacy<3.5.0,>=3.4.2->ja-udjagsd26ne-trf==0.0.1) (1.10.2)\n",
            "Requirement already satisfied: tqdm<5.0.0,>=4.38.0 in /usr/local/lib/python3.7/dist-packages (from spacy<3.5.0,>=3.4.2->ja-udjagsd26ne-trf==0.0.1) (4.64.1)\n",
            "Requirement already satisfied: packaging>=20.0 in /usr/local/lib/python3.7/dist-packages (from spacy<3.5.0,>=3.4.2->ja-udjagsd26ne-trf==0.0.1) (21.3)\n",
            "Requirement already satisfied: murmurhash<1.1.0,>=0.28.0 in /usr/local/lib/python3.7/dist-packages (from spacy<3.5.0,>=3.4.2->ja-udjagsd26ne-trf==0.0.1) (1.0.9)\n",
            "Requirement already satisfied: pathy>=0.3.5 in /usr/local/lib/python3.7/dist-packages (from spacy<3.5.0,>=3.4.2->ja-udjagsd26ne-trf==0.0.1) (0.6.2)\n",
            "Requirement already satisfied: requests<3.0.0,>=2.13.0 in /usr/local/lib/python3.7/dist-packages (from spacy<3.5.0,>=3.4.2->ja-udjagsd26ne-trf==0.0.1) (2.23.0)\n",
            "Requirement already satisfied: setuptools in /usr/local/lib/python3.7/dist-packages (from spacy<3.5.0,>=3.4.2->ja-udjagsd26ne-trf==0.0.1) (57.4.0)\n",
            "Requirement already satisfied: langcodes<4.0.0,>=3.2.0 in /usr/local/lib/python3.7/dist-packages (from spacy<3.5.0,>=3.4.2->ja-udjagsd26ne-trf==0.0.1) (3.3.0)\n",
            "Requirement already satisfied: spacy-legacy<3.1.0,>=3.0.10 in /usr/local/lib/python3.7/dist-packages (from spacy<3.5.0,>=3.4.2->ja-udjagsd26ne-trf==0.0.1) (3.0.10)\n",
            "Requirement already satisfied: srsly<3.0.0,>=2.4.3 in /usr/local/lib/python3.7/dist-packages (from spacy<3.5.0,>=3.4.2->ja-udjagsd26ne-trf==0.0.1) (2.4.5)\n",
            "Requirement already satisfied: cymem<2.1.0,>=2.0.2 in /usr/local/lib/python3.7/dist-packages (from spacy<3.5.0,>=3.4.2->ja-udjagsd26ne-trf==0.0.1) (2.0.7)\n",
            "Requirement already satisfied: catalogue<2.1.0,>=2.0.6 in /usr/local/lib/python3.7/dist-packages (from spacy<3.5.0,>=3.4.2->ja-udjagsd26ne-trf==0.0.1) (2.0.8)\n",
            "Requirement already satisfied: zipp>=0.5 in /usr/local/lib/python3.7/dist-packages (from catalogue<2.1.0,>=2.0.6->spacy<3.5.0,>=3.4.2->ja-udjagsd26ne-trf==0.0.1) (3.9.0)\n",
            "Requirement already satisfied: pyparsing!=3.0.5,>=2.0.2 in /usr/local/lib/python3.7/dist-packages (from packaging>=20.0->spacy<3.5.0,>=3.4.2->ja-udjagsd26ne-trf==0.0.1) (3.0.9)\n",
            "Requirement already satisfied: smart-open<6.0.0,>=5.2.1 in /usr/local/lib/python3.7/dist-packages (from pathy>=0.3.5->spacy<3.5.0,>=3.4.2->ja-udjagsd26ne-trf==0.0.1) (5.2.1)\n",
            "Requirement already satisfied: certifi>=2017.4.17 in /usr/local/lib/python3.7/dist-packages (from requests<3.0.0,>=2.13.0->spacy<3.5.0,>=3.4.2->ja-udjagsd26ne-trf==0.0.1) (2022.9.24)\n",
            "Requirement already satisfied: idna<3,>=2.5 in /usr/local/lib/python3.7/dist-packages (from requests<3.0.0,>=2.13.0->spacy<3.5.0,>=3.4.2->ja-udjagsd26ne-trf==0.0.1) (2.10)\n",
            "Requirement already satisfied: urllib3!=1.25.0,!=1.25.1,<1.26,>=1.21.1 in /usr/local/lib/python3.7/dist-packages (from requests<3.0.0,>=2.13.0->spacy<3.5.0,>=3.4.2->ja-udjagsd26ne-trf==0.0.1) (1.24.3)\n",
            "Requirement already satisfied: chardet<4,>=3.0.2 in /usr/local/lib/python3.7/dist-packages (from requests<3.0.0,>=2.13.0->spacy<3.5.0,>=3.4.2->ja-udjagsd26ne-trf==0.0.1) (3.0.4)\n",
            "Requirement already satisfied: spacy-alignments<1.0.0,>=0.7.2 in /usr/local/lib/python3.7/dist-packages (from spacy-transformers<1.2.0,>=1.1.8->ja-udjagsd26ne-trf==0.0.1) (0.8.6)\n",
            "Requirement already satisfied: transformers<4.22.0,>=3.4.0 in /usr/local/lib/python3.7/dist-packages (from spacy-transformers<1.2.0,>=1.1.8->ja-udjagsd26ne-trf==0.0.1) (4.21.3)\n",
            "Requirement already satisfied: torch>=1.6.0 in /usr/local/lib/python3.7/dist-packages (from spacy-transformers<1.2.0,>=1.1.8->ja-udjagsd26ne-trf==0.0.1) (1.12.1+cu113)\n",
            "Requirement already satisfied: blis<0.8.0,>=0.7.8 in /usr/local/lib/python3.7/dist-packages (from thinc<8.2.0,>=8.1.0->spacy<3.5.0,>=3.4.2->ja-udjagsd26ne-trf==0.0.1) (0.7.9)\n",
            "Requirement already satisfied: confection<1.0.0,>=0.0.1 in /usr/local/lib/python3.7/dist-packages (from thinc<8.2.0,>=8.1.0->spacy<3.5.0,>=3.4.2->ja-udjagsd26ne-trf==0.0.1) (0.0.3)\n",
            "Requirement already satisfied: tokenizers!=0.11.3,<0.13,>=0.11.1 in /usr/local/lib/python3.7/dist-packages (from transformers<4.22.0,>=3.4.0->spacy-transformers<1.2.0,>=1.1.8->ja-udjagsd26ne-trf==0.0.1) (0.12.1)\n",
            "Requirement already satisfied: huggingface-hub<1.0,>=0.1.0 in /usr/local/lib/python3.7/dist-packages (from transformers<4.22.0,>=3.4.0->spacy-transformers<1.2.0,>=1.1.8->ja-udjagsd26ne-trf==0.0.1) (0.10.1)\n",
            "Requirement already satisfied: pyyaml>=5.1 in /usr/local/lib/python3.7/dist-packages (from transformers<4.22.0,>=3.4.0->spacy-transformers<1.2.0,>=1.1.8->ja-udjagsd26ne-trf==0.0.1) (6.0)\n",
            "Requirement already satisfied: importlib-metadata in /usr/local/lib/python3.7/dist-packages (from transformers<4.22.0,>=3.4.0->spacy-transformers<1.2.0,>=1.1.8->ja-udjagsd26ne-trf==0.0.1) (4.13.0)\n",
            "Requirement already satisfied: filelock in /usr/local/lib/python3.7/dist-packages (from transformers<4.22.0,>=3.4.0->spacy-transformers<1.2.0,>=1.1.8->ja-udjagsd26ne-trf==0.0.1) (3.8.0)\n",
            "Requirement already satisfied: regex!=2019.12.17 in /usr/local/lib/python3.7/dist-packages (from transformers<4.22.0,>=3.4.0->spacy-transformers<1.2.0,>=1.1.8->ja-udjagsd26ne-trf==0.0.1) (2022.6.2)\n",
            "Requirement already satisfied: click<9.0.0,>=7.1.1 in /usr/local/lib/python3.7/dist-packages (from typer<0.5.0,>=0.3.0->spacy<3.5.0,>=3.4.2->ja-udjagsd26ne-trf==0.0.1) (7.1.2)\n",
            "Requirement already satisfied: MarkupSafe>=0.23 in /usr/local/lib/python3.7/dist-packages (from jinja2->spacy<3.5.0,>=3.4.2->ja-udjagsd26ne-trf==0.0.1) (2.0.1)\n",
            "Building wheels for collected packages: ja-udjagsd26ne-trf\n",
            "  Building wheel for ja-udjagsd26ne-trf (setup.py) ... \u001b[?25l\u001b[?25hdone\n",
            "  Created wheel for ja-udjagsd26ne-trf: filename=ja_udjagsd26ne_trf-0.0.1-py3-none-any.whl size=414354077 sha256=5620425d51307f4f33d477e972d90bb464e4521875b422fcfbe92103ce0f8dd0\n",
            "  Stored in directory: /root/.cache/pip/wheels/85/21/6d/080ae8c645c01f015b236e2a8d8b4ea68a9965d9db8eff3f25\n",
            "Successfully built ja-udjagsd26ne-trf\n",
            "Installing collected packages: ja-udjagsd26ne-trf\n",
            "Successfully installed ja-udjagsd26ne-trf-0.0.1\n",
            "ja-udjagsd26ne-trf            0.0.1\n"
          ]
        },
        {
          "output_type": "execute_result",
          "data": {
            "text/plain": [
              "[('transformer',\n",
              "  <spacy_transformers.pipeline_component.Transformer at 0x7fd542da3520>),\n",
              " ('parser', <spacy.pipeline.dep_parser.DependencyParser at 0x7fd55ec6ba50>),\n",
              " ('ner', <spacy.pipeline.ner.EntityRecognizer at 0x7fd57be34a50>),\n",
              " ('morphologizer',\n",
              "  <spacy.pipeline.morphologizer.Morphologizer at 0x7fd542da3bb0>)]"
            ]
          },
          "metadata": {},
          "execution_count": 13
        }
      ]
    },
    {
      "cell_type": "code",
      "source": [
        "nlp2 = spacy.load(\"./ja_ud_japanese_gsd_2.6_ne_trf/model-best\")"
      ],
      "metadata": {
        "id": "DtwPRMlO1FjV"
      },
      "execution_count": 14,
      "outputs": []
    },
    {
      "cell_type": "code",
      "source": [
        "doc = nlp2(\"\"\"\n",
        "闇金業者に借金をしてしまうと、元金の返済はおろか、借金が増えていく一方で、心苦しい思いをしてしまうものです。\n",
        "そして、そのような状態になってしまうと、知りつつ借金したから誰にも頼れない心情となり、一人で悩みを抱え込み、解決策に気づけなくなってしまうことも多々あるのです。\n",
        "そのような際の解決方法を見つけたいなら、まず他人に相談するのが大切ではないでしょうか。\n",
        "一人で悩みを抱え込むと、周りが見えなくなってしまい、余計につらくなってしまうことがあります。\n",
        "そして、そのような時には弁護士や司法書士に相談するのが最良の対処法といえ、無料の相談サービスを利用して悩みを聞いてもらうのがよいのではないでしょうか。\n",
        "こういった法務事務所・法律事務所ではいつも、ヤミ金問題に困っている人たちの相談に乗っていて、弁護士や司法書士からの助言がもらえるので、とても役立ちます。\n",
        "ヤミ金解決に数多くの実績がある、人情派弁護士に、あなたの悩み・苦しみを、まずは無料相談してみては？\n",
        "北海道から沖縄まで、全国対応の事務所だから、東温市に住んでいる方ももちろん相談OKです。\n",
        "解決に伴う手数料も、分割払いOKなので、今は支払うお金が無くても、安心して相談できます。\n",
        "ヤミ金に悩んでいる東温市の女性の方、今スグここで無料相談してみませんか？\n",
        "地元の東温市の近くの法務事務所・法律事務所は下記を参考にどうぞ。\n",
        "一般の司法書士・弁護士事務所は、通常の債務整理についての相談は受け付けているのですが、闇金の問題に関しては、相談を受け付けていないケースも多くあります。\n",
        "東温市近辺の弁護士事務所や司法書士事務所でも、そういうところが多いかもしれません。\n",
        "闇金業者から借金をしてしまった結果、最初こそ普通の督促の電話があったものの後半には脅迫染みた電話がかかってきたり、家に怒鳴り込まれたりするなどあくどい債権回収を行われる場合があります。\n",
        "このような状況になってしまったら、弁護士や司法書士等に相談することが一番ですが、借金をしていることへの負い目や、闇金業者からの仕返しを恐れて相談や通報をためらってしまう場合もあるようです。\n",
        "また、弁護士や司法書士に依頼するのに歯止めをかけてしまう理由に、報酬を支払う余裕がない、という場合もあります。\n",
        "法律関連に強いのが彼らですから、闇金業者が如何に不法かを分かりやすく説明し、現在の目も当てられない状況を解決する手伝いしてくれます。\n",
        "弁護士や司法書士への依頼費用が高いと悩んでいる方も、無料で相談を受け付けている司法書士事務所や弁護士事務所もあります。\n",
        "ヤミ金業者からお金を借りてしまうと、元金の返済どころか、借金が増えていくばかりで、ドツボにはまっていってしまうものです。\n",
        "しかも、闇金にお金を借りるという状況は、ずいぶんお金に追い詰められた状況だけに、そのような人が、ヤミ金業者から借金をして返済できるわけがありません。\n",
        "そして、そのような状態になってしまうと、知りつつ借りたから人に頼れない心情になり、1人だけで悩みを抱え込んで、打開方法に気づけなくなってしまうこともあります。\n",
        "そのような時の対策というのは、まず人に相談することが一番です。\n",
        "\"\"\")\n"
      ],
      "metadata": {
        "id": "a77sz8vdND45"
      },
      "execution_count": 15,
      "outputs": []
    },
    {
      "cell_type": "code",
      "source": [
        "for ent in doc.ents:\n",
        "    print(ent.text, ent.start_char, ent.end_char, ent.label_)\n"
      ],
      "metadata": {
        "colab": {
          "base_uri": "https://localhost:8080/"
        },
        "id": "MBSGbmBKNH1D",
        "outputId": "a5592d5d-9b47-4830-e911-e655a262204d"
      },
      "execution_count": 16,
      "outputs": [
        {
          "output_type": "stream",
          "name": "stdout",
          "text": [
            "一人 99 101 QUANTITY\n",
            "一人 181 183 QUANTITY\n",
            "北海道 431 434 GPE\n",
            "沖縄 436 438 GPE\n",
            "東温市 453 456 GPE\n",
            "東温市 530 533 GPE\n",
            "東温市 561 564 GPE\n",
            "東温市 668 671 GPE\n",
            "司法書士事務所 681 688 ORG\n",
            "司法書士 824 828 TITLE_AFFIX\n",
            "一番 837 839 ORDINAL\n",
            "司法書士事務所 1060 1067 ORG\n",
            "1人 1258 1260 QUANTITY\n",
            "一番 1323 1325 ORDINAL\n"
          ]
        }
      ]
    },
    {
      "cell_type": "code",
      "source": [
        "doc.ents"
      ],
      "metadata": {
        "colab": {
          "base_uri": "https://localhost:8080/"
        },
        "id": "AZuPMdQ6N7LC",
        "outputId": "9c1edc30-e0a5-4899-c4e9-d290b6ace49f"
      },
      "execution_count": 17,
      "outputs": [
        {
          "output_type": "execute_result",
          "data": {
            "text/plain": [
              "(一人, 一人, 北海道, 沖縄, 東温市, 東温市, 東温市, 東温市, 司法書士事務所, 司法書士, 一番, 司法書士事務所, 1人, 一番)"
            ]
          },
          "metadata": {},
          "execution_count": 17
        }
      ]
    },
    {
      "cell_type": "code",
      "source": [
        "len(doc._.trf_data.tokens[\"input_texts\"])"
      ],
      "metadata": {
        "colab": {
          "base_uri": "https://localhost:8080/"
        },
        "id": "_-DCpHVPNs7b",
        "outputId": "dd59bcec-cef7-4a8c-dfda-2648198b3858"
      },
      "execution_count": 18,
      "outputs": [
        {
          "output_type": "execute_result",
          "data": {
            "text/plain": [
              "9"
            ]
          },
          "metadata": {},
          "execution_count": 18
        }
      ]
    },
    {
      "cell_type": "code",
      "source": [
        "doc._.trf_data.width"
      ],
      "metadata": {
        "colab": {
          "base_uri": "https://localhost:8080/"
        },
        "id": "QPLiWkn0NyTd",
        "outputId": "6f91605a-7726-497b-8435-0f825a66d263"
      },
      "execution_count": 19,
      "outputs": [
        {
          "output_type": "execute_result",
          "data": {
            "text/plain": [
              "768"
            ]
          },
          "metadata": {},
          "execution_count": 19
        }
      ]
    }
  ]
}