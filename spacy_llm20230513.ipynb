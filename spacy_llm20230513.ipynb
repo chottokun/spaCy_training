{
  "nbformat": 4,
  "nbformat_minor": 0,
  "metadata": {
    "colab": {
      "provenance": [],
      "gpuType": "T4",
      "authorship_tag": "ABX9TyPECj3AW92tpEk9nLkR6lrk",
      "include_colab_link": true
    },
    "kernelspec": {
      "name": "python3",
      "display_name": "Python 3"
    },
    "language_info": {
      "name": "python"
    },
    "accelerator": "GPU",
    "gpuClass": "standard"
  },
  "cells": [
    {
      "cell_type": "markdown",
      "metadata": {
        "id": "view-in-github",
        "colab_type": "text"
      },
      "source": [
        "<a href=\"https://colab.research.google.com/github/chottokun/spaCy_training/blob/main/spacy_llm20230513.ipynb\" target=\"_parent\"><img src=\"https://colab.research.google.com/assets/colab-badge.svg\" alt=\"Open In Colab\"/></a>"
      ]
    },
    {
      "cell_type": "markdown",
      "source": [
        "https://github.com/explosion/spacy-llm"
      ],
      "metadata": {
        "id": "emROx2DUELHt"
      }
    },
    {
      "cell_type": "code",
      "source": [
        "# https://github.com/explosion/spacy-llm"
      ],
      "metadata": {
        "id": "Mhm-DePqOaqH"
      },
      "execution_count": null,
      "outputs": []
    },
    {
      "cell_type": "code",
      "execution_count": 1,
      "metadata": {
        "id": "Rj0fOrYR6bHe",
        "colab": {
          "base_uri": "https://localhost:8080/"
        },
        "outputId": "5f24beee-a898-4c24-95d1-b72e0d1513ca"
      },
      "outputs": [
        {
          "output_type": "stream",
          "name": "stdout",
          "text": [
            "\u001b[2K     \u001b[90m━━━━━━━━━━━━━━━━━━━━━━━━━━━━━━━━━━━━━━━━\u001b[0m \u001b[32m7.1/7.1 MB\u001b[0m \u001b[31m54.3 MB/s\u001b[0m eta \u001b[36m0:00:00\u001b[0m\n",
            "\u001b[2K     \u001b[90m━━━━━━━━━━━━━━━━━━━━━━━━━━━━━━━━━━━━━━\u001b[0m \u001b[32m224.5/224.5 kB\u001b[0m \u001b[31m11.2 MB/s\u001b[0m eta \u001b[36m0:00:00\u001b[0m\n",
            "\u001b[2K     \u001b[90m━━━━━━━━━━━━━━━━━━━━━━━━━━━━━━━━━━━━━━━━\u001b[0m \u001b[32m7.8/7.8 MB\u001b[0m \u001b[31m53.2 MB/s\u001b[0m eta \u001b[36m0:00:00\u001b[0m\n",
            "\u001b[2K     \u001b[90m━━━━━━━━━━━━━━━━━━━━━━━━━━━━━━━━━━━━━━━━\u001b[0m \u001b[32m53.6/53.6 kB\u001b[0m \u001b[31m5.0 MB/s\u001b[0m eta \u001b[36m0:00:00\u001b[0m\n",
            "\u001b[?25h"
          ]
        }
      ],
      "source": [
        "!pip install -q transformers python-dotenv\n",
        "!pip install -q spacy-llm"
      ]
    },
    {
      "cell_type": "code",
      "source": [
        "# Google Driveをマウント\n",
        "from google.colab import drive\n",
        "drive.mount('/content/drive')"
      ],
      "metadata": {
        "colab": {
          "base_uri": "https://localhost:8080/"
        },
        "id": "suyjKq7b-T4l",
        "outputId": "80cb0568-d639-4a12-e75d-ef20cf2d0be1"
      },
      "execution_count": 2,
      "outputs": [
        {
          "output_type": "stream",
          "name": "stdout",
          "text": [
            "Mounted at /content/drive\n"
          ]
        }
      ]
    },
    {
      "cell_type": "code",
      "source": [
        "import os\n",
        "# 秘密情報を記載したファイルの場所を指定\n",
        "envfile_mount = '/content/drive/MyDrive/Colab Notebooks/env/'\n",
        "# 秘密情報が保存されているテキストファイルのパス\n",
        "secrets_file_path = os.path.join(envfile_mount, 'env.txt')\n",
        "# 環境変数をワークディレクトリにコピー\n",
        "import shutil\n",
        "shutil.copyfile(secrets_file_path, \".env\")\n",
        "# .env ファイルをロードして環境変数へ反映\n",
        "from dotenv import load_dotenv\n",
        "load_dotenv()"
      ],
      "metadata": {
        "colab": {
          "base_uri": "https://localhost:8080/"
        },
        "id": "dT4y2uRZ-Wwz",
        "outputId": "b6af0923-9759-483c-a657-659d9410aaeb"
      },
      "execution_count": 3,
      "outputs": [
        {
          "output_type": "execute_result",
          "data": {
            "text/plain": [
              "True"
            ]
          },
          "metadata": {},
          "execution_count": 3
        }
      ]
    },
    {
      "cell_type": "code",
      "source": [
        "%%bash\n",
        "cat << EOF > config.cfg\n",
        "[nlp]\n",
        "lang = \"en\"\n",
        "pipeline = [\"llm\"]\n",
        "\n",
        "[components]\n",
        "\n",
        "[components.llm]\n",
        "factory = \"llm\"\n",
        "\n",
        "[components.llm.task]\n",
        "@llm_tasks = \"spacy.TextCat.v1\"\n",
        "labels = COMPLIMENT,INSULT\n",
        "\n",
        "[components.llm.backend]\n",
        "@llm_backends = \"spacy.REST.v1\"\n",
        "api = \"OpenAI\"\n",
        "config = {\"model\": \"gpt-3.5-turbo\", \"temperature\": 0.3}\n",
        "EOF"
      ],
      "metadata": {
        "id": "yDZdmWvk6yBq"
      },
      "execution_count": 19,
      "outputs": []
    },
    {
      "cell_type": "code",
      "source": [
        "from spacy import util\n",
        "\n",
        "config = util.load_config(\"config.cfg\")\n",
        "nlp = util.load_model_from_config(config, auto_fill=True)\n",
        "doc = nlp(\"You look gorgeous!\")\n",
        "print(doc.cats)"
      ],
      "metadata": {
        "id": "cz_2ZUEq7N5s",
        "colab": {
          "base_uri": "https://localhost:8080/"
        },
        "outputId": "84048bd0-25f0-49b5-f28e-a1180617b756"
      },
      "execution_count": 20,
      "outputs": [
        {
          "output_type": "stream",
          "name": "stdout",
          "text": [
            "{'COMPLIMENT': 1.0, 'INSULT': 0.0}\n"
          ]
        }
      ]
    },
    {
      "cell_type": "code",
      "source": [
        "doc = nlp(\"おまえは危険な人物に見える。\")\n",
        "print(doc.cats)"
      ],
      "metadata": {
        "id": "ae_6BlQK8I6l",
        "colab": {
          "base_uri": "https://localhost:8080/"
        },
        "outputId": "a21ce9df-f78d-4262-ee1c-a7970ee4d1a4"
      },
      "execution_count": 21,
      "outputs": [
        {
          "output_type": "stream",
          "name": "stdout",
          "text": [
            "{'COMPLIMENT': 0.0, 'INSULT': 1.0}\n"
          ]
        }
      ]
    },
    {
      "cell_type": "code",
      "source": [
        "%%bash\n",
        "cat << EOF > config.cfg\n",
        "[nlp]\n",
        "lang = \"en\"\n",
        "pipeline = [\"llm\"]\n",
        "\n",
        "[components]\n",
        "\n",
        "[components.llm]\n",
        "factory = \"llm\"\n",
        "\n",
        "[components.llm.task]\n",
        "@llm_tasks = \"spacy.NER.v1\"\n",
        "labels = PERSON,ORGANISATION,LOCATION\n",
        "\n",
        "[components.llm.backend]\n",
        "@llm_backends = \"spacy.REST.v1\"\n",
        "api = \"OpenAI\"\n",
        "config = {\"model\": \"gpt-3.5-turbo\", \"temperature\": 0.3}\n",
        "EOF"
      ],
      "metadata": {
        "id": "1mCrnRTpNuFk"
      },
      "execution_count": 23,
      "outputs": []
    },
    {
      "cell_type": "code",
      "source": [
        "from spacy import util\n",
        "\n",
        "config = util.load_config(\"config.cfg\")\n",
        "nlp = util.load_model_from_config(config, auto_fill=True)\n",
        "doc = nlp(\"Jack and Jill rode up the hill in Les Deux Alpes\")\n",
        "print([(ent.text, ent.label_) for ent in doc.ents])"
      ],
      "metadata": {
        "colab": {
          "base_uri": "https://localhost:8080/"
        },
        "id": "QvX8rwX_N5BL",
        "outputId": "af7f36e7-573b-49b7-d153-56413a9cce56"
      },
      "execution_count": 24,
      "outputs": [
        {
          "output_type": "stream",
          "name": "stdout",
          "text": [
            "[('Jack', 'PERSON'), ('Jill', 'PERSON'), ('Les Deux Alpes', 'LOCATION')]\n"
          ]
        }
      ]
    },
    {
      "cell_type": "code",
      "source": [
        "doc = nlp(\"ジャックとジルは青森の丘に登った。\")\n",
        "print([(ent.text, ent.label_) for ent in doc.ents])"
      ],
      "metadata": {
        "colab": {
          "base_uri": "https://localhost:8080/"
        },
        "id": "mMcZp5MGOk4j",
        "outputId": "a82338f4-d544-4b4e-e3ce-9c76a01abcbe"
      },
      "execution_count": 25,
      "outputs": [
        {
          "output_type": "stream",
          "name": "stdout",
          "text": [
            "[]\n"
          ]
        }
      ]
    }
  ]
}