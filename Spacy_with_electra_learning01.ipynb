{
  "nbformat": 4,
  "nbformat_minor": 0,
  "metadata": {
    "colab": {
      "provenance": [],
      "machine_shape": "hm",
      "authorship_tag": "ABX9TyPmq25pjzI6WFWeAlg54KCG",
      "include_colab_link": true
    },
    "kernelspec": {
      "name": "python3",
      "display_name": "Python 3"
    },
    "language_info": {
      "name": "python"
    },
    "accelerator": "GPU",
    "gpuClass": "standard"
  },
  "cells": [
    {
      "cell_type": "markdown",
      "metadata": {
        "id": "view-in-github",
        "colab_type": "text"
      },
      "source": [
        "<a href=\"https://colab.research.google.com/github/chottokun/spaCy_training/blob/main/Spacy_with_electra_learning01.ipynb\" target=\"_parent\"><img src=\"https://colab.research.google.com/assets/colab-badge.svg\" alt=\"Open In Colab\"/></a>"
      ]
    },
    {
      "cell_type": "markdown",
      "source": [
        "spaCyでelectraを使ってみる\n",
        "\n"
      ],
      "metadata": {
        "id": "Fm0hcmW5wS2n"
      }
    },
    {
      "cell_type": "code",
      "source": [
        "#in colab cell\n",
        "!nvcc --version"
      ],
      "metadata": {
        "colab": {
          "base_uri": "https://localhost:8080/"
        },
        "id": "zb52loAZzVsa",
        "outputId": "1a52ac20-c19b-4e19-eb6a-639e9a512e57"
      },
      "execution_count": 1,
      "outputs": [
        {
          "output_type": "stream",
          "name": "stdout",
          "text": [
            "nvcc: NVIDIA (R) Cuda compiler driver\n",
            "Copyright (c) 2005-2022 NVIDIA Corporation\n",
            "Built on Tue_Mar__8_18:18:20_PST_2022\n",
            "Cuda compilation tools, release 11.6, V11.6.124\n",
            "Build cuda_11.6.r11.6/compiler.31057947_0\n"
          ]
        }
      ]
    },
    {
      "cell_type": "code",
      "source": [
        "# GPU\n",
        "!nvidia-smi"
      ],
      "metadata": {
        "colab": {
          "base_uri": "https://localhost:8080/"
        },
        "id": "xBsqtnVSpqcs",
        "outputId": "1be2b881-b520-4f23-d66e-8b83bac30906"
      },
      "execution_count": 2,
      "outputs": [
        {
          "output_type": "stream",
          "name": "stdout",
          "text": [
            "Sun Feb 19 05:55:20 2023       \n",
            "+-----------------------------------------------------------------------------+\n",
            "| NVIDIA-SMI 510.47.03    Driver Version: 510.47.03    CUDA Version: 11.6     |\n",
            "|-------------------------------+----------------------+----------------------+\n",
            "| GPU  Name        Persistence-M| Bus-Id        Disp.A | Volatile Uncorr. ECC |\n",
            "| Fan  Temp  Perf  Pwr:Usage/Cap|         Memory-Usage | GPU-Util  Compute M. |\n",
            "|                               |                      |               MIG M. |\n",
            "|===============================+======================+======================|\n",
            "|   0  Tesla T4            Off  | 00000000:00:04.0 Off |                    0 |\n",
            "| N/A   71C    P0    33W /  70W |      0MiB / 15360MiB |      0%      Default |\n",
            "|                               |                      |                  N/A |\n",
            "+-------------------------------+----------------------+----------------------+\n",
            "                                                                               \n",
            "+-----------------------------------------------------------------------------+\n",
            "| Processes:                                                                  |\n",
            "|  GPU   GI   CI        PID   Type   Process name                  GPU Memory |\n",
            "|        ID   ID                                                   Usage      |\n",
            "|=============================================================================|\n",
            "|  No running processes found                                                 |\n",
            "+-----------------------------------------------------------------------------+\n"
          ]
        }
      ]
    },
    {
      "cell_type": "code",
      "source": [
        "# from transformers import BertJapaneseTokenizer, ElectraForPreTraining\n",
        "# tokenizer = BertJapaneseTokenizer.from_pretrained('Cinnamon/electra-small-japanese-discriminator', mecab_kwargs={\"mecab_option\": \"-d /usr/lib/x86_64-linux-gnu/mecab/dic/mecab-ipadic-neologd\"})\n",
        "# model = ElectraForPreTraining.from_pretrained('Cinnamon/electra-small-japanese-discriminator')"
      ],
      "metadata": {
        "id": "4b_TIYqCdzyx"
      },
      "execution_count": 3,
      "outputs": []
    },
    {
      "cell_type": "code",
      "execution_count": 4,
      "metadata": {
        "id": "P1NlVXb1qGMt"
      },
      "outputs": [],
      "source": [
        "# # \n",
        "# !pip install -U spacy[cuda112,transformers,lookups,ja]\n",
        "# !apt-get install mecab mecab-ipadic-utf8\n",
        "# !pip install mecab-python3 fugashi ipadic\n",
        "# !pip install unidic-lite"
      ]
    },
    {
      "cell_type": "code",
      "source": [
        "# https://megagonlabs.github.io/ginza/\n",
        "!pip install -U ginza ja-ginza ja-ginza-electra"
      ],
      "metadata": {
        "colab": {
          "base_uri": "https://localhost:8080/"
        },
        "id": "wNNY9B20kez5",
        "outputId": "515a573b-11a4-4b16-f10e-31638923ad47"
      },
      "execution_count": 5,
      "outputs": [
        {
          "output_type": "stream",
          "name": "stdout",
          "text": [
            "Looking in indexes: https://pypi.org/simple, https://us-python.pkg.dev/colab-wheels/public/simple/\n",
            "Collecting ginza\n",
            "  Downloading ginza-5.1.2-py3-none-any.whl (20 kB)\n",
            "Collecting ja-ginza\n",
            "  Downloading ja_ginza-5.1.2-py3-none-any.whl (59.1 MB)\n",
            "\u001b[2K     \u001b[90m━━━━━━━━━━━━━━━━━━━━━━━━━━━━━━━━━━━━━━━━\u001b[0m \u001b[32m59.1/59.1 MB\u001b[0m \u001b[31m11.5 MB/s\u001b[0m eta \u001b[36m0:00:00\u001b[0m\n",
            "\u001b[?25hCollecting ja-ginza-electra\n",
            "  Downloading ja_ginza_electra-5.1.2-py3-none-any.whl (2.8 MB)\n",
            "\u001b[2K     \u001b[90m━━━━━━━━━━━━━━━━━━━━━━━━━━━━━━━━━━━━━━━━\u001b[0m \u001b[32m2.8/2.8 MB\u001b[0m \u001b[31m62.2 MB/s\u001b[0m eta \u001b[36m0:00:00\u001b[0m\n",
            "\u001b[?25hRequirement already satisfied: spacy<3.5.0,>=3.2.0 in /usr/local/lib/python3.8/dist-packages (from ginza) (3.4.4)\n",
            "Collecting SudachiPy<0.7.0,>=0.6.2\n",
            "  Downloading SudachiPy-0.6.7-cp38-cp38-manylinux_2_17_x86_64.manylinux2014_x86_64.whl (2.2 MB)\n",
            "\u001b[2K     \u001b[90m━━━━━━━━━━━━━━━━━━━━━━━━━━━━━━━━━━━━━━━━\u001b[0m \u001b[32m2.2/2.2 MB\u001b[0m \u001b[31m63.5 MB/s\u001b[0m eta \u001b[36m0:00:00\u001b[0m\n",
            "\u001b[?25hCollecting SudachiDict-core>=20210802\n",
            "  Downloading SudachiDict-core-20230110.tar.gz (9.0 kB)\n",
            "  Preparing metadata (setup.py) ... \u001b[?25l\u001b[?25hdone\n",
            "Collecting plac>=1.3.3\n",
            "  Downloading plac-1.3.5-py2.py3-none-any.whl (22 kB)\n",
            "Collecting ginza-transformers<0.5.0,>=0.4.0\n",
            "  Downloading ginza_transformers-0.4.2-py3-none-any.whl (7.2 kB)\n",
            "Collecting sudachitra<0.2.0,>=0.1.6\n",
            "  Downloading SudachiTra-0.1.7.tar.gz (283 kB)\n",
            "\u001b[2K     \u001b[90m━━━━━━━━━━━━━━━━━━━━━━━━━━━━━━━━━━━━━━\u001b[0m \u001b[32m283.7/283.7 KB\u001b[0m \u001b[31m16.3 MB/s\u001b[0m eta \u001b[36m0:00:00\u001b[0m\n",
            "\u001b[?25h  Preparing metadata (setup.py) ... \u001b[?25l\u001b[?25hdone\n",
            "Collecting spacy-transformers<1.2.0,>=1.1.2\n",
            "  Downloading spacy_transformers-1.1.9-py2.py3-none-any.whl (53 kB)\n",
            "\u001b[2K     \u001b[90m━━━━━━━━━━━━━━━━━━━━━━━━━━━━━━━━━━━━━━━━\u001b[0m \u001b[32m53.5/53.5 KB\u001b[0m \u001b[31m4.6 MB/s\u001b[0m eta \u001b[36m0:00:00\u001b[0m\n",
            "\u001b[?25hRequirement already satisfied: setuptools in /usr/local/lib/python3.8/dist-packages (from spacy<3.5.0,>=3.2.0->ginza) (57.4.0)\n",
            "Requirement already satisfied: murmurhash<1.1.0,>=0.28.0 in /usr/local/lib/python3.8/dist-packages (from spacy<3.5.0,>=3.2.0->ginza) (1.0.9)\n",
            "Requirement already satisfied: thinc<8.2.0,>=8.1.0 in /usr/local/lib/python3.8/dist-packages (from spacy<3.5.0,>=3.2.0->ginza) (8.1.7)\n",
            "Requirement already satisfied: srsly<3.0.0,>=2.4.3 in /usr/local/lib/python3.8/dist-packages (from spacy<3.5.0,>=3.2.0->ginza) (2.4.5)\n",
            "Requirement already satisfied: jinja2 in /usr/local/lib/python3.8/dist-packages (from spacy<3.5.0,>=3.2.0->ginza) (2.11.3)\n",
            "Requirement already satisfied: spacy-loggers<2.0.0,>=1.0.0 in /usr/local/lib/python3.8/dist-packages (from spacy<3.5.0,>=3.2.0->ginza) (1.0.4)\n",
            "Requirement already satisfied: preshed<3.1.0,>=3.0.2 in /usr/local/lib/python3.8/dist-packages (from spacy<3.5.0,>=3.2.0->ginza) (3.0.8)\n",
            "Requirement already satisfied: wasabi<1.1.0,>=0.9.1 in /usr/local/lib/python3.8/dist-packages (from spacy<3.5.0,>=3.2.0->ginza) (0.10.1)\n",
            "Requirement already satisfied: numpy>=1.15.0 in /usr/local/lib/python3.8/dist-packages (from spacy<3.5.0,>=3.2.0->ginza) (1.21.6)\n",
            "Requirement already satisfied: requests<3.0.0,>=2.13.0 in /usr/local/lib/python3.8/dist-packages (from spacy<3.5.0,>=3.2.0->ginza) (2.25.1)\n",
            "Requirement already satisfied: spacy-legacy<3.1.0,>=3.0.10 in /usr/local/lib/python3.8/dist-packages (from spacy<3.5.0,>=3.2.0->ginza) (3.0.12)\n",
            "Requirement already satisfied: packaging>=20.0 in /usr/local/lib/python3.8/dist-packages (from spacy<3.5.0,>=3.2.0->ginza) (23.0)\n",
            "Requirement already satisfied: tqdm<5.0.0,>=4.38.0 in /usr/local/lib/python3.8/dist-packages (from spacy<3.5.0,>=3.2.0->ginza) (4.64.1)\n",
            "Requirement already satisfied: pathy>=0.3.5 in /usr/local/lib/python3.8/dist-packages (from spacy<3.5.0,>=3.2.0->ginza) (0.10.1)\n",
            "Requirement already satisfied: cymem<2.1.0,>=2.0.2 in /usr/local/lib/python3.8/dist-packages (from spacy<3.5.0,>=3.2.0->ginza) (2.0.7)\n",
            "Requirement already satisfied: catalogue<2.1.0,>=2.0.6 in /usr/local/lib/python3.8/dist-packages (from spacy<3.5.0,>=3.2.0->ginza) (2.0.8)\n",
            "Requirement already satisfied: typer<0.8.0,>=0.3.0 in /usr/local/lib/python3.8/dist-packages (from spacy<3.5.0,>=3.2.0->ginza) (0.7.0)\n",
            "Requirement already satisfied: smart-open<7.0.0,>=5.2.1 in /usr/local/lib/python3.8/dist-packages (from spacy<3.5.0,>=3.2.0->ginza) (6.3.0)\n",
            "Requirement already satisfied: pydantic!=1.8,!=1.8.1,<1.11.0,>=1.7.4 in /usr/local/lib/python3.8/dist-packages (from spacy<3.5.0,>=3.2.0->ginza) (1.10.4)\n",
            "Requirement already satisfied: langcodes<4.0.0,>=3.2.0 in /usr/local/lib/python3.8/dist-packages (from spacy<3.5.0,>=3.2.0->ginza) (3.3.0)\n",
            "Requirement already satisfied: torch>=1.6.0 in /usr/local/lib/python3.8/dist-packages (from spacy-transformers<1.2.0,>=1.1.2->ja-ginza-electra) (1.13.1+cu116)\n",
            "Collecting transformers<4.26.0,>=3.4.0\n",
            "  Downloading transformers-4.25.1-py3-none-any.whl (5.8 MB)\n",
            "\u001b[2K     \u001b[90m━━━━━━━━━━━━━━━━━━━━━━━━━━━━━━━━━━━━━━━━\u001b[0m \u001b[32m5.8/5.8 MB\u001b[0m \u001b[31m101.0 MB/s\u001b[0m eta \u001b[36m0:00:00\u001b[0m\n",
            "\u001b[?25hCollecting spacy-alignments<1.0.0,>=0.7.2\n",
            "  Downloading spacy_alignments-0.9.0-cp38-cp38-manylinux_2_17_x86_64.manylinux2014_x86_64.whl (1.2 MB)\n",
            "\u001b[2K     \u001b[90m━━━━━━━━━━━━━━━━━━━━━━━━━━━━━━━━━━━━━━━━\u001b[0m \u001b[32m1.2/1.2 MB\u001b[0m \u001b[31m36.0 MB/s\u001b[0m eta \u001b[36m0:00:00\u001b[0m\n",
            "\u001b[?25hCollecting logzero~=1.7.0\n",
            "  Downloading logzero-1.7.0-py2.py3-none-any.whl (16 kB)\n",
            "Collecting progressbar2~=3.53.1\n",
            "  Downloading progressbar2-3.53.3-py2.py3-none-any.whl (25 kB)\n",
            "Collecting tokenizers>=0.10.3\n",
            "  Downloading tokenizers-0.13.2-cp38-cp38-manylinux_2_17_x86_64.manylinux2014_x86_64.whl (7.6 MB)\n",
            "\u001b[2K     \u001b[90m━━━━━━━━━━━━━━━━━━━━━━━━━━━━━━━━━━━━━━━━\u001b[0m \u001b[32m7.6/7.6 MB\u001b[0m \u001b[31m93.1 MB/s\u001b[0m eta \u001b[36m0:00:00\u001b[0m\n",
            "\u001b[?25hRequirement already satisfied: python-utils>=2.3.0 in /usr/local/lib/python3.8/dist-packages (from progressbar2~=3.53.1->sudachitra<0.2.0,>=0.1.6->ja-ginza-electra) (3.5.2)\n",
            "Requirement already satisfied: six in /usr/local/lib/python3.8/dist-packages (from progressbar2~=3.53.1->sudachitra<0.2.0,>=0.1.6->ja-ginza-electra) (1.15.0)\n",
            "Requirement already satisfied: typing-extensions>=4.2.0 in /usr/local/lib/python3.8/dist-packages (from pydantic!=1.8,!=1.8.1,<1.11.0,>=1.7.4->spacy<3.5.0,>=3.2.0->ginza) (4.5.0)\n",
            "Requirement already satisfied: urllib3<1.27,>=1.21.1 in /usr/local/lib/python3.8/dist-packages (from requests<3.0.0,>=2.13.0->spacy<3.5.0,>=3.2.0->ginza) (1.24.3)\n",
            "Requirement already satisfied: idna<3,>=2.5 in /usr/local/lib/python3.8/dist-packages (from requests<3.0.0,>=2.13.0->spacy<3.5.0,>=3.2.0->ginza) (2.10)\n",
            "Requirement already satisfied: certifi>=2017.4.17 in /usr/local/lib/python3.8/dist-packages (from requests<3.0.0,>=2.13.0->spacy<3.5.0,>=3.2.0->ginza) (2022.12.7)\n",
            "Requirement already satisfied: chardet<5,>=3.0.2 in /usr/local/lib/python3.8/dist-packages (from requests<3.0.0,>=2.13.0->spacy<3.5.0,>=3.2.0->ginza) (4.0.0)\n",
            "Requirement already satisfied: blis<0.8.0,>=0.7.8 in /usr/local/lib/python3.8/dist-packages (from thinc<8.2.0,>=8.1.0->spacy<3.5.0,>=3.2.0->ginza) (0.7.9)\n",
            "Requirement already satisfied: confection<1.0.0,>=0.0.1 in /usr/local/lib/python3.8/dist-packages (from thinc<8.2.0,>=8.1.0->spacy<3.5.0,>=3.2.0->ginza) (0.0.4)\n",
            "Requirement already satisfied: pyyaml>=5.1 in /usr/local/lib/python3.8/dist-packages (from transformers<4.26.0,>=3.4.0->spacy-transformers<1.2.0,>=1.1.2->ja-ginza-electra) (6.0)\n",
            "Requirement already satisfied: regex!=2019.12.17 in /usr/local/lib/python3.8/dist-packages (from transformers<4.26.0,>=3.4.0->spacy-transformers<1.2.0,>=1.1.2->ja-ginza-electra) (2022.6.2)\n",
            "Collecting huggingface-hub<1.0,>=0.10.0\n",
            "  Downloading huggingface_hub-0.12.1-py3-none-any.whl (190 kB)\n",
            "\u001b[2K     \u001b[90m━━━━━━━━━━━━━━━━━━━━━━━━━━━━━━━━━━━━━━\u001b[0m \u001b[32m190.3/190.3 KB\u001b[0m \u001b[31m26.3 MB/s\u001b[0m eta \u001b[36m0:00:00\u001b[0m\n",
            "\u001b[?25hRequirement already satisfied: filelock in /usr/local/lib/python3.8/dist-packages (from transformers<4.26.0,>=3.4.0->spacy-transformers<1.2.0,>=1.1.2->ja-ginza-electra) (3.9.0)\n",
            "Requirement already satisfied: click<9.0.0,>=7.1.1 in /usr/local/lib/python3.8/dist-packages (from typer<0.8.0,>=0.3.0->spacy<3.5.0,>=3.2.0->ginza) (7.1.2)\n",
            "Requirement already satisfied: MarkupSafe>=0.23 in /usr/local/lib/python3.8/dist-packages (from jinja2->spacy<3.5.0,>=3.2.0->ginza) (2.0.1)\n",
            "Building wheels for collected packages: SudachiDict-core, sudachitra\n",
            "  Building wheel for SudachiDict-core (setup.py) ... \u001b[?25l\u001b[?25hdone\n",
            "  Created wheel for SudachiDict-core: filename=SudachiDict_core-20230110-py3-none-any.whl size=71665396 sha256=2ef129ef5c8508a5a35bafd7f7bd86a63a7cb5d3b0f3ccb8f602e587aa0c55d8\n",
            "  Stored in directory: /root/.cache/pip/wheels/53/fb/7b/5a2f84cba933a120cefe3587a01ed20dbc9a033a6bb43672e7\n",
            "  Building wheel for sudachitra (setup.py) ... \u001b[?25l\u001b[?25hdone\n",
            "  Created wheel for sudachitra: filename=SudachiTra-0.1.7-py3-none-any.whl size=266095 sha256=d5e82d9e22f32329ce12cf1285e167906cd2471e3396ec762ed249eac451a9b4\n",
            "  Stored in directory: /root/.cache/pip/wheels/97/ad/02/69094014ac4631f81c227d7cf059fd46c11df9e5bfd03c6f41\n",
            "Successfully built SudachiDict-core sudachitra\n",
            "Installing collected packages: tokenizers, SudachiPy, plac, logzero, SudachiDict-core, spacy-alignments, progressbar2, huggingface-hub, transformers, sudachitra, spacy-transformers, ginza, ja-ginza, ginza-transformers, ja-ginza-electra\n",
            "  Attempting uninstall: progressbar2\n",
            "    Found existing installation: progressbar2 3.38.0\n",
            "    Uninstalling progressbar2-3.38.0:\n",
            "      Successfully uninstalled progressbar2-3.38.0\n",
            "Successfully installed SudachiDict-core-20230110 SudachiPy-0.6.7 ginza-5.1.2 ginza-transformers-0.4.2 huggingface-hub-0.12.1 ja-ginza-5.1.2 ja-ginza-electra-5.1.2 logzero-1.7.0 plac-1.3.5 progressbar2-3.53.3 spacy-alignments-0.9.0 spacy-transformers-1.1.9 sudachitra-0.1.7 tokenizers-0.13.2 transformers-4.25.1\n"
          ]
        }
      ]
    },
    {
      "cell_type": "code",
      "source": [
        "!git clone -b feature/bert_base_japanese_v2 https://github.com/megagonlabs/UD_Japanese-GSD"
      ],
      "metadata": {
        "colab": {
          "base_uri": "https://localhost:8080/"
        },
        "id": "mbQRMykWshol",
        "outputId": "c9913cd2-ad6c-4486-eab4-e8e9b0d4b9c2"
      },
      "execution_count": 6,
      "outputs": [
        {
          "output_type": "stream",
          "name": "stdout",
          "text": [
            "Cloning into 'UD_Japanese-GSD'...\n",
            "remote: Enumerating objects: 693, done.\u001b[K\n",
            "remote: Counting objects: 100% (18/18), done.\u001b[K\n",
            "remote: Compressing objects: 100% (11/11), done.\u001b[K\n",
            "remote: Total 693 (delta 7), reused 13 (delta 7), pack-reused 675\u001b[K\n",
            "Receiving objects: 100% (693/693), 73.31 MiB | 23.13 MiB/s, done.\n",
            "Resolving deltas: 100% (403/403), done.\n"
          ]
        }
      ]
    },
    {
      "cell_type": "code",
      "source": [
        "!mkdir -p corpus\n",
        "!python -m spacy convert ./UD_Japanese-GSD/ja_gsd-ud-train.ne.conllu ./corpus\n",
        "!python -m spacy convert ./UD_Japanese-GSD/ja_gsd-ud-dev.ne.conllu ./corpus\n",
        "!python -m spacy convert ./UD_Japanese-GSD/ja_gsd-ud-test.ne.conllu ./corpus\n",
        "\n",
        "!ls ./corpus"
      ],
      "metadata": {
        "colab": {
          "base_uri": "https://localhost:8080/"
        },
        "id": "Vx5734KCvoWt",
        "outputId": "bb3aceff-f840-4706-9f5c-ccb0414ef0ad"
      },
      "execution_count": 7,
      "outputs": [
        {
          "output_type": "stream",
          "name": "stdout",
          "text": [
            "2023-02-19 05:56:23.199216: I tensorflow/core/platform/cpu_feature_guard.cc:193] This TensorFlow binary is optimized with oneAPI Deep Neural Network Library (oneDNN) to use the following CPU instructions in performance-critical operations:  AVX2 FMA\n",
            "To enable them in other operations, rebuild TensorFlow with the appropriate compiler flags.\n",
            "2023-02-19 05:56:24.711183: W tensorflow/compiler/xla/stream_executor/platform/default/dso_loader.cc:64] Could not load dynamic library 'libnvinfer.so.7'; dlerror: libnvinfer.so.7: cannot open shared object file: No such file or directory; LD_LIBRARY_PATH: /usr/lib64-nvidia\n",
            "2023-02-19 05:56:24.711337: W tensorflow/compiler/xla/stream_executor/platform/default/dso_loader.cc:64] Could not load dynamic library 'libnvinfer_plugin.so.7'; dlerror: libnvinfer_plugin.so.7: cannot open shared object file: No such file or directory; LD_LIBRARY_PATH: /usr/lib64-nvidia\n",
            "2023-02-19 05:56:24.711367: W tensorflow/compiler/tf2tensorrt/utils/py_utils.cc:38] TF-TRT Warning: Cannot dlopen some TensorRT libraries. If you would like to use Nvidia GPU with TensorRT, please make sure the missing libraries mentioned above are installed properly.\n",
            "\u001b[38;5;4mℹ Grouping every 1 sentences into a document.\u001b[0m\n",
            "\u001b[38;5;3m⚠ To generate better training data, you may want to group sentences\n",
            "into documents with `-n 10`.\u001b[0m\n",
            "\u001b[38;5;2m✔ Generated output file (7050 documents):\n",
            "corpus/ja_gsd-ud-train.ne.spacy\u001b[0m\n",
            "2023-02-19 05:56:46.342077: I tensorflow/core/platform/cpu_feature_guard.cc:193] This TensorFlow binary is optimized with oneAPI Deep Neural Network Library (oneDNN) to use the following CPU instructions in performance-critical operations:  AVX2 FMA\n",
            "To enable them in other operations, rebuild TensorFlow with the appropriate compiler flags.\n",
            "2023-02-19 05:56:47.279784: W tensorflow/compiler/xla/stream_executor/platform/default/dso_loader.cc:64] Could not load dynamic library 'libnvinfer.so.7'; dlerror: libnvinfer.so.7: cannot open shared object file: No such file or directory; LD_LIBRARY_PATH: /usr/lib64-nvidia\n",
            "2023-02-19 05:56:47.279897: W tensorflow/compiler/xla/stream_executor/platform/default/dso_loader.cc:64] Could not load dynamic library 'libnvinfer_plugin.so.7'; dlerror: libnvinfer_plugin.so.7: cannot open shared object file: No such file or directory; LD_LIBRARY_PATH: /usr/lib64-nvidia\n",
            "2023-02-19 05:56:47.279918: W tensorflow/compiler/tf2tensorrt/utils/py_utils.cc:38] TF-TRT Warning: Cannot dlopen some TensorRT libraries. If you would like to use Nvidia GPU with TensorRT, please make sure the missing libraries mentioned above are installed properly.\n",
            "\u001b[38;5;4mℹ Grouping every 1 sentences into a document.\u001b[0m\n",
            "\u001b[38;5;3m⚠ To generate better training data, you may want to group sentences\n",
            "into documents with `-n 10`.\u001b[0m\n",
            "\u001b[38;5;2m✔ Generated output file (507 documents):\n",
            "corpus/ja_gsd-ud-dev.ne.spacy\u001b[0m\n",
            "2023-02-19 05:56:55.576510: I tensorflow/core/platform/cpu_feature_guard.cc:193] This TensorFlow binary is optimized with oneAPI Deep Neural Network Library (oneDNN) to use the following CPU instructions in performance-critical operations:  AVX2 FMA\n",
            "To enable them in other operations, rebuild TensorFlow with the appropriate compiler flags.\n",
            "2023-02-19 05:56:56.885688: W tensorflow/compiler/xla/stream_executor/platform/default/dso_loader.cc:64] Could not load dynamic library 'libnvinfer.so.7'; dlerror: libnvinfer.so.7: cannot open shared object file: No such file or directory; LD_LIBRARY_PATH: /usr/lib64-nvidia\n",
            "2023-02-19 05:56:56.885840: W tensorflow/compiler/xla/stream_executor/platform/default/dso_loader.cc:64] Could not load dynamic library 'libnvinfer_plugin.so.7'; dlerror: libnvinfer_plugin.so.7: cannot open shared object file: No such file or directory; LD_LIBRARY_PATH: /usr/lib64-nvidia\n",
            "2023-02-19 05:56:56.885864: W tensorflow/compiler/tf2tensorrt/utils/py_utils.cc:38] TF-TRT Warning: Cannot dlopen some TensorRT libraries. If you would like to use Nvidia GPU with TensorRT, please make sure the missing libraries mentioned above are installed properly.\n",
            "\u001b[38;5;4mℹ Grouping every 1 sentences into a document.\u001b[0m\n",
            "\u001b[38;5;3m⚠ To generate better training data, you may want to group sentences\n",
            "into documents with `-n 10`.\u001b[0m\n",
            "\u001b[38;5;2m✔ Generated output file (543 documents):\n",
            "corpus/ja_gsd-ud-test.ne.spacy\u001b[0m\n",
            "ja_gsd-ud-dev.ne.spacy\tja_gsd-ud-test.ne.spacy  ja_gsd-ud-train.ne.spacy\n"
          ]
        }
      ]
    },
    {
      "cell_type": "code",
      "source": [
        "import spacy\n",
        "from spacy.tokens import Doc, DocBin\n",
        "\n",
        "nlp = spacy.blank(\"ja\") \n",
        "\n",
        "train_data = DocBin()\n",
        "train_data.from_disk(path=\"./corpus/ja_gsd-ud-train.ne.spacy\")\n",
        "\n",
        "docs = list(train_data.get_docs(nlp.vocab))\n",
        "\n",
        "for token in docs[2]:\n",
        "  print(\"text=%s head=%d dep=%s ent_type=%s ent_job=%s\" % (token, token.head.i, token.dep_, token.ent_type_, token.ent_iob_))"
      ],
      "metadata": {
        "colab": {
          "base_uri": "https://localhost:8080/"
        },
        "id": "SjqCSr0K2Oq6",
        "outputId": "3fc406e1-f4ce-45a0-e6f6-a75776c04e98"
      },
      "execution_count": 8,
      "outputs": [
        {
          "output_type": "stream",
          "name": "stdout",
          "text": [
            "text=手 head=2 dep=obl ent_type= ent_job=O\n",
            "text=に head=0 dep=case ent_type= ent_job=O\n",
            "text=持っ head=6 dep=acl ent_type= ent_job=O\n",
            "text=た head=2 dep=aux ent_type= ent_job=O\n",
            "text=特殊 head=6 dep=acl ent_type= ent_job=O\n",
            "text=な head=4 dep=aux ent_type= ent_job=O\n",
            "text=刃物 head=8 dep=obj ent_type= ent_job=O\n",
            "text=を head=6 dep=case ent_type= ent_job=O\n",
            "text=使っ head=12 dep=acl ent_type= ent_job=O\n",
            "text=た head=8 dep=aux ent_type= ent_job=O\n",
            "text=アクロバティック head=12 dep=acl ent_type= ent_job=O\n",
            "text=な head=10 dep=aux ent_type= ent_job=O\n",
            "text=体術 head=22 dep=nmod ent_type= ent_job=O\n",
            "text=や head=12 dep=case ent_type= ent_job=O\n",
            "text=、 head=12 dep=punct ent_type= ent_job=O\n",
            "text=揚羽 head=18 dep=obl ent_type=PERSON ent_job=B\n",
            "text=と head=15 dep=case ent_type= ent_job=O\n",
            "text=薄羽 head=18 dep=compound ent_type=PERSON ent_job=B\n",
            "text=同様 head=24 dep=advcl ent_type= ent_job=O\n",
            "text=に head=18 dep=aux ent_type= ent_job=O\n",
            "text=クナイ head=22 dep=nmod ent_type= ent_job=O\n",
            "text=や head=20 dep=case ent_type= ent_job=O\n",
            "text=忍具 head=24 dep=obj ent_type= ent_job=O\n",
            "text=を head=22 dep=case ent_type= ent_job=O\n",
            "text=使っ head=26 dep=advcl ent_type= ent_job=O\n",
            "text=て head=24 dep=mark ent_type= ent_job=O\n",
            "text=攻撃 head=26 dep=ROOT ent_type= ent_job=O\n",
            "text=し head=26 dep=aux ent_type= ent_job=O\n",
            "text=て head=26 dep=mark ent_type= ent_job=O\n",
            "text=くる head=28 dep=fixed ent_type= ent_job=O\n",
            "text=。 head=26 dep=punct ent_type= ent_job=O\n"
          ]
        }
      ]
    },
    {
      "cell_type": "code",
      "source": [
        "%%bash\n",
        "cat << EOF > base_config.cfg\n",
        "[paths]\n",
        "train = null\n",
        "dev = null\n",
        "vectors = null\n",
        "[system]\n",
        "gpu_allocator = \"pytorch\"\n",
        "\n",
        "[nlp]\n",
        "lang = \"ja\"\n",
        "pipeline = [\"transformer\",\"ner\"]\n",
        "batch_size = 128\n",
        "\n",
        "[components]\n",
        "\n",
        "[components.transformer]\n",
        "factory = \"transformer\"\n",
        "\n",
        "[components.transformer.model]\n",
        "@architectures = \"spacy-transformers.TransformerModel.v3\"\n",
        "name = \"bert-base-multilingual-uncased\"\n",
        "tokenizer_config = {\"use_fast\": true}\n",
        "\n",
        "[components.transformer.model.get_spans]\n",
        "@span_getters = \"spacy-transformers.strided_spans.v1\"\n",
        "window = 128\n",
        "stride = 96\n",
        "\n",
        "[components.ner]\n",
        "factory = \"ner\"\n",
        "\n",
        "[components.ner.model]\n",
        "@architectures = \"spacy.TransitionBasedParser.v2\"\n",
        "state_type = \"ner\"\n",
        "extra_state_tokens = false\n",
        "hidden_width = 64\n",
        "maxout_pieces = 2\n",
        "use_upper = false\n",
        "nO = null\n",
        "\n",
        "[components.ner.model.tok2vec]\n",
        "@architectures = \"spacy-transformers.TransformerListener.v1\"\n",
        "grad_factor = 1.0\n",
        "\n",
        "[components.ner.model.tok2vec.pooling]\n",
        "@layers = \"reduce_mean.v1\"\n",
        "\n",
        "[corpora]\n",
        "\n",
        "[corpora.train]\n",
        "@readers = \"spacy.Corpus.v1\"\n",
        "max_length = 0\n",
        "\n",
        "[corpora.dev]\n",
        "@readers = \"spacy.Corpus.v1\"\n",
        "max_length = 0\n",
        "\n",
        "[training]\n",
        "accumulate_gradient = 3\n",
        "dev_corpus = \"corpora.dev\"\n",
        "train_corpus = \"corpora.train\"\n",
        "\n",
        "[training.optimizer]\n",
        "@optimizers = \"Adam.v1\"\n",
        "\n",
        "[training.optimizer.learn_rate]\n",
        "@schedules = \"warmup_linear.v1\"\n",
        "warmup_steps = 250\n",
        "total_steps = 20000\n",
        "initial_rate = 5e-5\n",
        "\n",
        "[training.batcher]\n",
        "@batchers = \"spacy.batch_by_padded.v1\"\n",
        "discard_oversize = true\n",
        "size = 2000\n",
        "buffer = 256\n",
        "\n",
        "[initialize]\n",
        "EOF"
      ],
      "metadata": {
        "id": "rlEkzVQcoQBU"
      },
      "execution_count": 9,
      "outputs": []
    },
    {
      "cell_type": "code",
      "source": [
        "# なぜかlocaleがUTF-8じゃないって怒られたので・・・\n",
        "import locale\n",
        "def getpreferredencoding(do_setlocale = True):\n",
        "    return \"UTF-8\"\n",
        "locale.getpreferredencoding = getpreferredencoding"
      ],
      "metadata": {
        "id": "JKKK4KE8o238"
      },
      "execution_count": 10,
      "outputs": []
    },
    {
      "cell_type": "code",
      "source": [
        "!python -m spacy init fill-config base_config.cfg config.cfg"
      ],
      "metadata": {
        "colab": {
          "base_uri": "https://localhost:8080/"
        },
        "id": "WUfaAkNXv3U8",
        "outputId": "f3b53185-870b-4820-83ed-d10fb2d59a92"
      },
      "execution_count": 11,
      "outputs": [
        {
          "output_type": "stream",
          "name": "stdout",
          "text": [
            "2023-02-19 05:57:17.443150: W tensorflow/compiler/xla/stream_executor/platform/default/dso_loader.cc:64] Could not load dynamic library 'libnvinfer.so.7'; dlerror: libnvinfer.so.7: cannot open shared object file: No such file or directory; LD_LIBRARY_PATH: /usr/lib64-nvidia\n",
            "2023-02-19 05:57:17.443261: W tensorflow/compiler/xla/stream_executor/platform/default/dso_loader.cc:64] Could not load dynamic library 'libnvinfer_plugin.so.7'; dlerror: libnvinfer_plugin.so.7: cannot open shared object file: No such file or directory; LD_LIBRARY_PATH: /usr/lib64-nvidia\n",
            "2023-02-19 05:57:17.443280: W tensorflow/compiler/tf2tensorrt/utils/py_utils.cc:38] TF-TRT Warning: Cannot dlopen some TensorRT libraries. If you would like to use Nvidia GPU with TensorRT, please make sure the missing libraries mentioned above are installed properly.\n",
            "\u001b[38;5;2m✔ Auto-filled config with all values\u001b[0m\n",
            "\u001b[38;5;2m✔ Saved config\u001b[0m\n",
            "config.cfg\n",
            "You can now add your data and train your pipeline:\n",
            "python -m spacy train config.cfg --paths.train ./train.spacy --paths.dev ./dev.spacy\n"
          ]
        }
      ]
    },
    {
      "cell_type": "code",
      "source": [
        "# corpus/ja_gsd-ud-test.ne.spacy\n",
        "# ja_gsd-ud-dev.ne.spacy\tja_gsd-ud-test.ne.spacy  ja_gsd-ud-train.ne.spacy"
      ],
      "metadata": {
        "id": "tojaevS0-7XR"
      },
      "execution_count": 12,
      "outputs": []
    },
    {
      "cell_type": "code",
      "source": [
        "!python -m spacy train config.cfg --gpu-id 0 --output ./ja_ud_japanese_gsd_2.6_ne_trf \\\n",
        "  --paths.train ./corpus/ja_gsd-ud-train.ne.spacy --paths.dev ./corpus/ja_gsd-ud-dev.ne.spacy"
      ],
      "metadata": {
        "colab": {
          "base_uri": "https://localhost:8080/"
        },
        "id": "XnVqF21lv35V",
        "outputId": "27f20289-eac5-478b-a662-bb5521016cd5"
      },
      "execution_count": 13,
      "outputs": [
        {
          "output_type": "stream",
          "name": "stdout",
          "text": [
            "2023-02-19 05:57:26.133183: W tensorflow/compiler/xla/stream_executor/platform/default/dso_loader.cc:64] Could not load dynamic library 'libnvinfer.so.7'; dlerror: libnvinfer.so.7: cannot open shared object file: No such file or directory; LD_LIBRARY_PATH: /usr/lib64-nvidia\n",
            "2023-02-19 05:57:26.133304: W tensorflow/compiler/xla/stream_executor/platform/default/dso_loader.cc:64] Could not load dynamic library 'libnvinfer_plugin.so.7'; dlerror: libnvinfer_plugin.so.7: cannot open shared object file: No such file or directory; LD_LIBRARY_PATH: /usr/lib64-nvidia\n",
            "2023-02-19 05:57:26.133323: W tensorflow/compiler/tf2tensorrt/utils/py_utils.cc:38] TF-TRT Warning: Cannot dlopen some TensorRT libraries. If you would like to use Nvidia GPU with TensorRT, please make sure the missing libraries mentioned above are installed properly.\n",
            "\u001b[38;5;2m✔ Created output directory: ja_ud_japanese_gsd_2.6_ne_trf\u001b[0m\n",
            "\u001b[38;5;4mℹ Saving to output directory: ja_ud_japanese_gsd_2.6_ne_trf\u001b[0m\n",
            "\u001b[38;5;4mℹ Using GPU: 0\u001b[0m\n",
            "\u001b[1m\n",
            "=========================== Initializing pipeline ===========================\u001b[0m\n",
            "[2023-02-19 05:57:34,711] [INFO] Set up nlp object from config\n",
            "INFO:spacy:Set up nlp object from config\n",
            "[2023-02-19 05:57:34,727] [INFO] Pipeline: ['transformer', 'ner']\n",
            "INFO:spacy:Pipeline: ['transformer', 'ner']\n",
            "[2023-02-19 05:57:34,733] [INFO] Created vocabulary\n",
            "INFO:spacy:Created vocabulary\n",
            "[2023-02-19 05:57:34,735] [INFO] Finished initializing nlp object\n",
            "INFO:spacy:Finished initializing nlp object\n",
            "Downloading (…)okenizer_config.json: 100% 28.0/28.0 [00:00<00:00, 4.00kB/s]\n",
            "Downloading (…)lve/main/config.json: 100% 625/625 [00:00<00:00, 161kB/s]\n",
            "Downloading (…)solve/main/vocab.txt: 100% 872k/872k [00:00<00:00, 2.80MB/s]\n",
            "Downloading (…)/main/tokenizer.json: 100% 1.72M/1.72M [00:00<00:00, 4.60MB/s]\n",
            "Downloading (…)\"pytorch_model.bin\";: 100% 672M/672M [00:03<00:00, 221MB/s]\n",
            "Some weights of the model checkpoint at bert-base-multilingual-uncased were not used when initializing BertModel: ['cls.predictions.transform.dense.bias', 'cls.seq_relationship.bias', 'cls.predictions.transform.LayerNorm.bias', 'cls.predictions.transform.LayerNorm.weight', 'cls.predictions.transform.dense.weight', 'cls.seq_relationship.weight', 'cls.predictions.decoder.weight', 'cls.predictions.bias']\n",
            "- This IS expected if you are initializing BertModel from the checkpoint of a model trained on another task or with another architecture (e.g. initializing a BertForSequenceClassification model from a BertForPreTraining model).\n",
            "- This IS NOT expected if you are initializing BertModel from the checkpoint of a model that you expect to be exactly identical (initializing a BertForSequenceClassification model from a BertForSequenceClassification model).\n",
            "[2023-02-19 05:58:17,056] [INFO] Initialized pipeline components: ['transformer', 'ner']\n",
            "INFO:spacy:Initialized pipeline components: ['transformer', 'ner']\n",
            "\u001b[38;5;2m✔ Initialized pipeline\u001b[0m\n",
            "\u001b[1m\n",
            "============================= Training pipeline =============================\u001b[0m\n",
            "\u001b[38;5;4mℹ Pipeline: ['transformer', 'ner']\u001b[0m\n",
            "\u001b[38;5;4mℹ Initial learn rate: 0.0\u001b[0m\n",
            "E    #       LOSS TRANS...  LOSS NER  ENTS_F  ENTS_P  ENTS_R  SCORE \n",
            "---  ------  -------------  --------  ------  ------  ------  ------\n",
            "  0       0          52.90     73.92    0.55    0.29    4.53    0.01\n",
            "  1     200       82474.05  54714.03   43.27   44.76   41.89    0.43\n",
            "  3     400       17348.55  17184.12   58.40   57.33   59.50    0.58\n",
            "  4     600        7123.33  10033.85   71.59   70.62   72.58    0.72\n",
            "  6     800        4844.79   7267.96   72.73   72.50   72.96    0.73\n",
            "  7    1000        3872.38   5564.29   71.33   72.11   70.57    0.71\n",
            "  9    1200        3008.42   4677.55   69.76   70.47   69.06    0.70\n",
            " 10    1400        2260.26   3992.88   73.32   70.63   76.23    0.73\n",
            " 12    1600        1950.61   3334.56   74.02   72.16   75.97    0.74\n",
            " 13    1800        2258.73   2876.98   72.76   70.57   75.09    0.73\n",
            " 15    2000        1357.00   2439.28   72.57   71.94   73.21    0.73\n",
            " 17    2200        1049.64   2181.37   73.81   72.34   75.35    0.74\n",
            " 18    2400        1369.31   1936.05   73.95   72.61   75.35    0.74\n",
            " 20    2600        2068.48   2009.42   73.49   72.55   74.47    0.73\n",
            " 21    2800        1284.92   1897.43   73.05   71.34   74.84    0.73\n",
            " 23    3000        1156.19   1694.01   73.86   73.62   74.09    0.74\n",
            " 24    3200         727.84   1564.42   73.94   73.30   74.59    0.74\n",
            "\u001b[38;5;2m✔ Saved pipeline to output directory\u001b[0m\n",
            "ja_ud_japanese_gsd_2.6_ne_trf/model-last\n"
          ]
        }
      ]
    },
    {
      "cell_type": "code",
      "source": [
        "!ls ja_ud_japanese_gsd_2.6_ne_trf/\n",
        "# model-best  model-last"
      ],
      "metadata": {
        "colab": {
          "base_uri": "https://localhost:8080/"
        },
        "id": "0rv7xf7Pv69X",
        "outputId": "5e3d1085-7ffc-4fa1-bb50-5ea5dc181089"
      },
      "execution_count": 14,
      "outputs": [
        {
          "output_type": "stream",
          "name": "stdout",
          "text": [
            "model-best  model-last\n"
          ]
        }
      ]
    },
    {
      "cell_type": "code",
      "source": [
        "!mkdir -p ./package\n",
        "!python -m spacy package ./ja_ud_japanese_gsd_2.6_ne_trf/model-best ./package --name udjagsd26ne_trf --version 0.0.1"
      ],
      "metadata": {
        "colab": {
          "base_uri": "https://localhost:8080/"
        },
        "id": "aLUfHf_oM7Bc",
        "outputId": "6c0338eb-5005-4644-b5ce-5ed4718cc787"
      },
      "execution_count": 15,
      "outputs": [
        {
          "output_type": "stream",
          "name": "stdout",
          "text": [
            "2023-02-19 06:36:15.859601: W tensorflow/compiler/xla/stream_executor/platform/default/dso_loader.cc:64] Could not load dynamic library 'libnvinfer.so.7'; dlerror: libnvinfer.so.7: cannot open shared object file: No such file or directory; LD_LIBRARY_PATH: /usr/lib64-nvidia\n",
            "2023-02-19 06:36:15.860219: W tensorflow/compiler/xla/stream_executor/platform/default/dso_loader.cc:64] Could not load dynamic library 'libnvinfer_plugin.so.7'; dlerror: libnvinfer_plugin.so.7: cannot open shared object file: No such file or directory; LD_LIBRARY_PATH: /usr/lib64-nvidia\n",
            "2023-02-19 06:36:15.860242: W tensorflow/compiler/tf2tensorrt/utils/py_utils.cc:38] TF-TRT Warning: Cannot dlopen some TensorRT libraries. If you would like to use Nvidia GPU with TensorRT, please make sure the missing libraries mentioned above are installed properly.\n",
            "\u001b[38;5;4mℹ Building package artifacts: sdist\u001b[0m\n",
            "\u001b[38;5;2m✔ Including 1 package requirement(s) from meta and config\u001b[0m\n",
            "spacy-transformers>=1.1.9,<1.2.0\n",
            "\u001b[38;5;2m✔ Loaded meta.json from file\u001b[0m\n",
            "ja_ud_japanese_gsd_2.6_ne_trf/model-best/meta.json\n",
            "\u001b[38;5;2m✔ Generated README.md from meta.json\u001b[0m\n",
            "\u001b[38;5;2m✔ Successfully created package directory 'ja_udjagsd26ne_trf-0.0.1'\u001b[0m\n",
            "package/ja_udjagsd26ne_trf-0.0.1\n",
            "running sdist\n",
            "running egg_info\n",
            "creating ja_udjagsd26ne_trf.egg-info\n",
            "writing ja_udjagsd26ne_trf.egg-info/PKG-INFO\n",
            "writing dependency_links to ja_udjagsd26ne_trf.egg-info/dependency_links.txt\n",
            "writing entry points to ja_udjagsd26ne_trf.egg-info/entry_points.txt\n",
            "writing requirements to ja_udjagsd26ne_trf.egg-info/requires.txt\n",
            "writing top-level names to ja_udjagsd26ne_trf.egg-info/top_level.txt\n",
            "writing manifest file 'ja_udjagsd26ne_trf.egg-info/SOURCES.txt'\n",
            "reading manifest file 'ja_udjagsd26ne_trf.egg-info/SOURCES.txt'\n",
            "reading manifest template 'MANIFEST.in'\n",
            "warning: no files found matching 'LICENSE'\n",
            "warning: no files found matching 'LICENSES_SOURCES'\n",
            "writing manifest file 'ja_udjagsd26ne_trf.egg-info/SOURCES.txt'\n",
            "running check\n",
            "warning: check: missing required meta-data: url\n",
            "\n",
            "warning: check: missing meta-data: either (author and author_email) or (maintainer and maintainer_email) must be supplied\n",
            "\n",
            "creating ja_udjagsd26ne_trf-0.0.1\n",
            "creating ja_udjagsd26ne_trf-0.0.1/ja_udjagsd26ne_trf\n",
            "creating ja_udjagsd26ne_trf-0.0.1/ja_udjagsd26ne_trf.egg-info\n",
            "creating ja_udjagsd26ne_trf-0.0.1/ja_udjagsd26ne_trf/ja_udjagsd26ne_trf-0.0.1\n",
            "creating ja_udjagsd26ne_trf-0.0.1/ja_udjagsd26ne_trf/ja_udjagsd26ne_trf-0.0.1/ner\n",
            "creating ja_udjagsd26ne_trf-0.0.1/ja_udjagsd26ne_trf/ja_udjagsd26ne_trf-0.0.1/tokenizer\n",
            "creating ja_udjagsd26ne_trf-0.0.1/ja_udjagsd26ne_trf/ja_udjagsd26ne_trf-0.0.1/transformer\n",
            "creating ja_udjagsd26ne_trf-0.0.1/ja_udjagsd26ne_trf/ja_udjagsd26ne_trf-0.0.1/vocab\n",
            "copying files to ja_udjagsd26ne_trf-0.0.1...\n",
            "copying MANIFEST.in -> ja_udjagsd26ne_trf-0.0.1\n",
            "copying README.md -> ja_udjagsd26ne_trf-0.0.1\n",
            "copying meta.json -> ja_udjagsd26ne_trf-0.0.1\n",
            "copying setup.py -> ja_udjagsd26ne_trf-0.0.1\n",
            "copying ja_udjagsd26ne_trf/__init__.py -> ja_udjagsd26ne_trf-0.0.1/ja_udjagsd26ne_trf\n",
            "copying ja_udjagsd26ne_trf/meta.json -> ja_udjagsd26ne_trf-0.0.1/ja_udjagsd26ne_trf\n",
            "copying ja_udjagsd26ne_trf.egg-info/PKG-INFO -> ja_udjagsd26ne_trf-0.0.1/ja_udjagsd26ne_trf.egg-info\n",
            "copying ja_udjagsd26ne_trf.egg-info/SOURCES.txt -> ja_udjagsd26ne_trf-0.0.1/ja_udjagsd26ne_trf.egg-info\n",
            "copying ja_udjagsd26ne_trf.egg-info/dependency_links.txt -> ja_udjagsd26ne_trf-0.0.1/ja_udjagsd26ne_trf.egg-info\n",
            "copying ja_udjagsd26ne_trf.egg-info/entry_points.txt -> ja_udjagsd26ne_trf-0.0.1/ja_udjagsd26ne_trf.egg-info\n",
            "copying ja_udjagsd26ne_trf.egg-info/not-zip-safe -> ja_udjagsd26ne_trf-0.0.1/ja_udjagsd26ne_trf.egg-info\n",
            "copying ja_udjagsd26ne_trf.egg-info/requires.txt -> ja_udjagsd26ne_trf-0.0.1/ja_udjagsd26ne_trf.egg-info\n",
            "copying ja_udjagsd26ne_trf.egg-info/top_level.txt -> ja_udjagsd26ne_trf-0.0.1/ja_udjagsd26ne_trf.egg-info\n",
            "copying ja_udjagsd26ne_trf/ja_udjagsd26ne_trf-0.0.1/README.md -> ja_udjagsd26ne_trf-0.0.1/ja_udjagsd26ne_trf/ja_udjagsd26ne_trf-0.0.1\n",
            "copying ja_udjagsd26ne_trf/ja_udjagsd26ne_trf-0.0.1/config.cfg -> ja_udjagsd26ne_trf-0.0.1/ja_udjagsd26ne_trf/ja_udjagsd26ne_trf-0.0.1\n",
            "copying ja_udjagsd26ne_trf/ja_udjagsd26ne_trf-0.0.1/meta.json -> ja_udjagsd26ne_trf-0.0.1/ja_udjagsd26ne_trf/ja_udjagsd26ne_trf-0.0.1\n",
            "copying ja_udjagsd26ne_trf/ja_udjagsd26ne_trf-0.0.1/ner/cfg -> ja_udjagsd26ne_trf-0.0.1/ja_udjagsd26ne_trf/ja_udjagsd26ne_trf-0.0.1/ner\n",
            "copying ja_udjagsd26ne_trf/ja_udjagsd26ne_trf-0.0.1/ner/model -> ja_udjagsd26ne_trf-0.0.1/ja_udjagsd26ne_trf/ja_udjagsd26ne_trf-0.0.1/ner\n",
            "copying ja_udjagsd26ne_trf/ja_udjagsd26ne_trf-0.0.1/ner/moves -> ja_udjagsd26ne_trf-0.0.1/ja_udjagsd26ne_trf/ja_udjagsd26ne_trf-0.0.1/ner\n",
            "copying ja_udjagsd26ne_trf/ja_udjagsd26ne_trf-0.0.1/tokenizer/cfg -> ja_udjagsd26ne_trf-0.0.1/ja_udjagsd26ne_trf/ja_udjagsd26ne_trf-0.0.1/tokenizer\n",
            "copying ja_udjagsd26ne_trf/ja_udjagsd26ne_trf-0.0.1/transformer/cfg -> ja_udjagsd26ne_trf-0.0.1/ja_udjagsd26ne_trf/ja_udjagsd26ne_trf-0.0.1/transformer\n",
            "copying ja_udjagsd26ne_trf/ja_udjagsd26ne_trf-0.0.1/transformer/model -> ja_udjagsd26ne_trf-0.0.1/ja_udjagsd26ne_trf/ja_udjagsd26ne_trf-0.0.1/transformer\n",
            "copying ja_udjagsd26ne_trf/ja_udjagsd26ne_trf-0.0.1/vocab/key2row -> ja_udjagsd26ne_trf-0.0.1/ja_udjagsd26ne_trf/ja_udjagsd26ne_trf-0.0.1/vocab\n",
            "copying ja_udjagsd26ne_trf/ja_udjagsd26ne_trf-0.0.1/vocab/lookups.bin -> ja_udjagsd26ne_trf-0.0.1/ja_udjagsd26ne_trf/ja_udjagsd26ne_trf-0.0.1/vocab\n",
            "copying ja_udjagsd26ne_trf/ja_udjagsd26ne_trf-0.0.1/vocab/strings.json -> ja_udjagsd26ne_trf-0.0.1/ja_udjagsd26ne_trf/ja_udjagsd26ne_trf-0.0.1/vocab\n",
            "copying ja_udjagsd26ne_trf/ja_udjagsd26ne_trf-0.0.1/vocab/vectors -> ja_udjagsd26ne_trf-0.0.1/ja_udjagsd26ne_trf/ja_udjagsd26ne_trf-0.0.1/vocab\n",
            "copying ja_udjagsd26ne_trf/ja_udjagsd26ne_trf-0.0.1/vocab/vectors.cfg -> ja_udjagsd26ne_trf-0.0.1/ja_udjagsd26ne_trf/ja_udjagsd26ne_trf-0.0.1/vocab\n",
            "Writing ja_udjagsd26ne_trf-0.0.1/setup.cfg\n",
            "creating dist\n",
            "Creating tar archive\n",
            "removing 'ja_udjagsd26ne_trf-0.0.1' (and everything under it)\n",
            "\u001b[38;5;2m✔ Successfully created zipped Python package\u001b[0m\n",
            "package/ja_udjagsd26ne_trf-0.0.1/dist/ja_udjagsd26ne_trf-0.0.1.tar.gz\n"
          ]
        }
      ]
    },
    {
      "cell_type": "code",
      "source": [
        "from google.colab import files\n",
        "files.download(\"./package/ja_udjagsd26ne_trf-0.0.1/dist/ja_udjagsd26ne_trf-0.0.1.tar.gz\")"
      ],
      "metadata": {
        "colab": {
          "base_uri": "https://localhost:8080/",
          "height": 34
        },
        "id": "WoBURYOEXgfh",
        "outputId": "28a963c0-2cea-4265-cab5-5c74b9ad27d1"
      },
      "execution_count": 16,
      "outputs": [
        {
          "output_type": "display_data",
          "data": {
            "text/plain": [
              "<IPython.core.display.Javascript object>"
            ],
            "application/javascript": [
              "\n",
              "    async function download(id, filename, size) {\n",
              "      if (!google.colab.kernel.accessAllowed) {\n",
              "        return;\n",
              "      }\n",
              "      const div = document.createElement('div');\n",
              "      const label = document.createElement('label');\n",
              "      label.textContent = `Downloading \"${filename}\": `;\n",
              "      div.appendChild(label);\n",
              "      const progress = document.createElement('progress');\n",
              "      progress.max = size;\n",
              "      div.appendChild(progress);\n",
              "      document.body.appendChild(div);\n",
              "\n",
              "      const buffers = [];\n",
              "      let downloaded = 0;\n",
              "\n",
              "      const channel = await google.colab.kernel.comms.open(id);\n",
              "      // Send a message to notify the kernel that we're ready.\n",
              "      channel.send({})\n",
              "\n",
              "      for await (const message of channel.messages) {\n",
              "        // Send a message to notify the kernel that we're ready.\n",
              "        channel.send({})\n",
              "        if (message.buffers) {\n",
              "          for (const buffer of message.buffers) {\n",
              "            buffers.push(buffer);\n",
              "            downloaded += buffer.byteLength;\n",
              "            progress.value = downloaded;\n",
              "          }\n",
              "        }\n",
              "      }\n",
              "      const blob = new Blob(buffers, {type: 'application/binary'});\n",
              "      const a = document.createElement('a');\n",
              "      a.href = window.URL.createObjectURL(blob);\n",
              "      a.download = filename;\n",
              "      div.appendChild(a);\n",
              "      a.click();\n",
              "      div.remove();\n",
              "    }\n",
              "  "
            ]
          },
          "metadata": {}
        },
        {
          "output_type": "display_data",
          "data": {
            "text/plain": [
              "<IPython.core.display.Javascript object>"
            ],
            "application/javascript": [
              "download(\"download_d20a9f7c-fb32-4461-9ec6-4126f78f6465\", \"ja_udjagsd26ne_trf-0.0.1.tar.gz\", 622961647)"
            ]
          },
          "metadata": {}
        }
      ]
    },
    {
      "cell_type": "code",
      "source": [
        "!pip install ./package/ja_udjagsd26ne_trf-0.0.1\n",
        "\n",
        "!pip list | grep udjagsd26ne\n",
        "# ja-udjagsd26ne-trf            0.0.1 \n",
        "\n",
        "import spacy\n",
        "nlp = spacy.load(\"ja_udjagsd26ne_trf\")\n",
        "nlp.pipeline"
      ],
      "metadata": {
        "colab": {
          "base_uri": "https://localhost:8080/"
        },
        "id": "dZ7t-7knzgkL",
        "outputId": "4d1d6bfd-1f21-4ffc-8a6a-478227cb8a24"
      },
      "execution_count": 17,
      "outputs": [
        {
          "output_type": "stream",
          "name": "stdout",
          "text": [
            "Looking in indexes: https://pypi.org/simple, https://us-python.pkg.dev/colab-wheels/public/simple/\n",
            "Processing ./package/ja_udjagsd26ne_trf-0.0.1\n",
            "  Preparing metadata (setup.py) ... \u001b[?25l\u001b[?25hdone\n",
            "Requirement already satisfied: spacy<3.5.0,>=3.4.4 in /usr/local/lib/python3.8/dist-packages (from ja-udjagsd26ne-trf==0.0.1) (3.4.4)\n",
            "Requirement already satisfied: spacy-transformers<1.2.0,>=1.1.9 in /usr/local/lib/python3.8/dist-packages (from ja-udjagsd26ne-trf==0.0.1) (1.1.9)\n",
            "Requirement already satisfied: pathy>=0.3.5 in /usr/local/lib/python3.8/dist-packages (from spacy<3.5.0,>=3.4.4->ja-udjagsd26ne-trf==0.0.1) (0.10.1)\n",
            "Requirement already satisfied: typer<0.8.0,>=0.3.0 in /usr/local/lib/python3.8/dist-packages (from spacy<3.5.0,>=3.4.4->ja-udjagsd26ne-trf==0.0.1) (0.7.0)\n",
            "Requirement already satisfied: langcodes<4.0.0,>=3.2.0 in /usr/local/lib/python3.8/dist-packages (from spacy<3.5.0,>=3.4.4->ja-udjagsd26ne-trf==0.0.1) (3.3.0)\n",
            "Requirement already satisfied: requests<3.0.0,>=2.13.0 in /usr/local/lib/python3.8/dist-packages (from spacy<3.5.0,>=3.4.4->ja-udjagsd26ne-trf==0.0.1) (2.25.1)\n",
            "Requirement already satisfied: jinja2 in /usr/local/lib/python3.8/dist-packages (from spacy<3.5.0,>=3.4.4->ja-udjagsd26ne-trf==0.0.1) (2.11.3)\n",
            "Requirement already satisfied: thinc<8.2.0,>=8.1.0 in /usr/local/lib/python3.8/dist-packages (from spacy<3.5.0,>=3.4.4->ja-udjagsd26ne-trf==0.0.1) (8.1.7)\n",
            "Requirement already satisfied: packaging>=20.0 in /usr/local/lib/python3.8/dist-packages (from spacy<3.5.0,>=3.4.4->ja-udjagsd26ne-trf==0.0.1) (23.0)\n",
            "Requirement already satisfied: numpy>=1.15.0 in /usr/local/lib/python3.8/dist-packages (from spacy<3.5.0,>=3.4.4->ja-udjagsd26ne-trf==0.0.1) (1.21.6)\n",
            "Requirement already satisfied: catalogue<2.1.0,>=2.0.6 in /usr/local/lib/python3.8/dist-packages (from spacy<3.5.0,>=3.4.4->ja-udjagsd26ne-trf==0.0.1) (2.0.8)\n",
            "Requirement already satisfied: setuptools in /usr/local/lib/python3.8/dist-packages (from spacy<3.5.0,>=3.4.4->ja-udjagsd26ne-trf==0.0.1) (57.4.0)\n",
            "Requirement already satisfied: pydantic!=1.8,!=1.8.1,<1.11.0,>=1.7.4 in /usr/local/lib/python3.8/dist-packages (from spacy<3.5.0,>=3.4.4->ja-udjagsd26ne-trf==0.0.1) (1.10.4)\n",
            "Requirement already satisfied: preshed<3.1.0,>=3.0.2 in /usr/local/lib/python3.8/dist-packages (from spacy<3.5.0,>=3.4.4->ja-udjagsd26ne-trf==0.0.1) (3.0.8)\n",
            "Requirement already satisfied: spacy-legacy<3.1.0,>=3.0.10 in /usr/local/lib/python3.8/dist-packages (from spacy<3.5.0,>=3.4.4->ja-udjagsd26ne-trf==0.0.1) (3.0.12)\n",
            "Requirement already satisfied: tqdm<5.0.0,>=4.38.0 in /usr/local/lib/python3.8/dist-packages (from spacy<3.5.0,>=3.4.4->ja-udjagsd26ne-trf==0.0.1) (4.64.1)\n",
            "Requirement already satisfied: murmurhash<1.1.0,>=0.28.0 in /usr/local/lib/python3.8/dist-packages (from spacy<3.5.0,>=3.4.4->ja-udjagsd26ne-trf==0.0.1) (1.0.9)\n",
            "Requirement already satisfied: wasabi<1.1.0,>=0.9.1 in /usr/local/lib/python3.8/dist-packages (from spacy<3.5.0,>=3.4.4->ja-udjagsd26ne-trf==0.0.1) (0.10.1)\n",
            "Requirement already satisfied: srsly<3.0.0,>=2.4.3 in /usr/local/lib/python3.8/dist-packages (from spacy<3.5.0,>=3.4.4->ja-udjagsd26ne-trf==0.0.1) (2.4.5)\n",
            "Requirement already satisfied: smart-open<7.0.0,>=5.2.1 in /usr/local/lib/python3.8/dist-packages (from spacy<3.5.0,>=3.4.4->ja-udjagsd26ne-trf==0.0.1) (6.3.0)\n",
            "Requirement already satisfied: spacy-loggers<2.0.0,>=1.0.0 in /usr/local/lib/python3.8/dist-packages (from spacy<3.5.0,>=3.4.4->ja-udjagsd26ne-trf==0.0.1) (1.0.4)\n",
            "Requirement already satisfied: cymem<2.1.0,>=2.0.2 in /usr/local/lib/python3.8/dist-packages (from spacy<3.5.0,>=3.4.4->ja-udjagsd26ne-trf==0.0.1) (2.0.7)\n",
            "Requirement already satisfied: torch>=1.6.0 in /usr/local/lib/python3.8/dist-packages (from spacy-transformers<1.2.0,>=1.1.9->ja-udjagsd26ne-trf==0.0.1) (1.13.1+cu116)\n",
            "Requirement already satisfied: spacy-alignments<1.0.0,>=0.7.2 in /usr/local/lib/python3.8/dist-packages (from spacy-transformers<1.2.0,>=1.1.9->ja-udjagsd26ne-trf==0.0.1) (0.9.0)\n",
            "Requirement already satisfied: transformers<4.26.0,>=3.4.0 in /usr/local/lib/python3.8/dist-packages (from spacy-transformers<1.2.0,>=1.1.9->ja-udjagsd26ne-trf==0.0.1) (4.25.1)\n",
            "Requirement already satisfied: typing-extensions>=4.2.0 in /usr/local/lib/python3.8/dist-packages (from pydantic!=1.8,!=1.8.1,<1.11.0,>=1.7.4->spacy<3.5.0,>=3.4.4->ja-udjagsd26ne-trf==0.0.1) (4.5.0)\n",
            "Requirement already satisfied: urllib3<1.27,>=1.21.1 in /usr/local/lib/python3.8/dist-packages (from requests<3.0.0,>=2.13.0->spacy<3.5.0,>=3.4.4->ja-udjagsd26ne-trf==0.0.1) (1.24.3)\n",
            "Requirement already satisfied: certifi>=2017.4.17 in /usr/local/lib/python3.8/dist-packages (from requests<3.0.0,>=2.13.0->spacy<3.5.0,>=3.4.4->ja-udjagsd26ne-trf==0.0.1) (2022.12.7)\n",
            "Requirement already satisfied: idna<3,>=2.5 in /usr/local/lib/python3.8/dist-packages (from requests<3.0.0,>=2.13.0->spacy<3.5.0,>=3.4.4->ja-udjagsd26ne-trf==0.0.1) (2.10)\n",
            "Requirement already satisfied: chardet<5,>=3.0.2 in /usr/local/lib/python3.8/dist-packages (from requests<3.0.0,>=2.13.0->spacy<3.5.0,>=3.4.4->ja-udjagsd26ne-trf==0.0.1) (4.0.0)\n",
            "Requirement already satisfied: blis<0.8.0,>=0.7.8 in /usr/local/lib/python3.8/dist-packages (from thinc<8.2.0,>=8.1.0->spacy<3.5.0,>=3.4.4->ja-udjagsd26ne-trf==0.0.1) (0.7.9)\n",
            "Requirement already satisfied: confection<1.0.0,>=0.0.1 in /usr/local/lib/python3.8/dist-packages (from thinc<8.2.0,>=8.1.0->spacy<3.5.0,>=3.4.4->ja-udjagsd26ne-trf==0.0.1) (0.0.4)\n",
            "Requirement already satisfied: huggingface-hub<1.0,>=0.10.0 in /usr/local/lib/python3.8/dist-packages (from transformers<4.26.0,>=3.4.0->spacy-transformers<1.2.0,>=1.1.9->ja-udjagsd26ne-trf==0.0.1) (0.12.1)\n",
            "Requirement already satisfied: pyyaml>=5.1 in /usr/local/lib/python3.8/dist-packages (from transformers<4.26.0,>=3.4.0->spacy-transformers<1.2.0,>=1.1.9->ja-udjagsd26ne-trf==0.0.1) (6.0)\n",
            "Requirement already satisfied: regex!=2019.12.17 in /usr/local/lib/python3.8/dist-packages (from transformers<4.26.0,>=3.4.0->spacy-transformers<1.2.0,>=1.1.9->ja-udjagsd26ne-trf==0.0.1) (2022.6.2)\n",
            "Requirement already satisfied: tokenizers!=0.11.3,<0.14,>=0.11.1 in /usr/local/lib/python3.8/dist-packages (from transformers<4.26.0,>=3.4.0->spacy-transformers<1.2.0,>=1.1.9->ja-udjagsd26ne-trf==0.0.1) (0.13.2)\n",
            "Requirement already satisfied: filelock in /usr/local/lib/python3.8/dist-packages (from transformers<4.26.0,>=3.4.0->spacy-transformers<1.2.0,>=1.1.9->ja-udjagsd26ne-trf==0.0.1) (3.9.0)\n",
            "Requirement already satisfied: click<9.0.0,>=7.1.1 in /usr/local/lib/python3.8/dist-packages (from typer<0.8.0,>=0.3.0->spacy<3.5.0,>=3.4.4->ja-udjagsd26ne-trf==0.0.1) (7.1.2)\n",
            "Requirement already satisfied: MarkupSafe>=0.23 in /usr/local/lib/python3.8/dist-packages (from jinja2->spacy<3.5.0,>=3.4.4->ja-udjagsd26ne-trf==0.0.1) (2.0.1)\n",
            "Building wheels for collected packages: ja-udjagsd26ne-trf\n",
            "  Building wheel for ja-udjagsd26ne-trf (setup.py) ... \u001b[?25l\u001b[?25hdone\n",
            "  Created wheel for ja-udjagsd26ne-trf: filename=ja_udjagsd26ne_trf-0.0.1-py3-none-any.whl size=622981448 sha256=7415e00c95242f18c6ec09fe9df04e0bcce09de17307501ba9d7fcd0df0b033b\n",
            "  Stored in directory: /root/.cache/pip/wheels/00/ef/4e/fbc3528a5562dc8ebe84c64910f655f726849a6b005ca0bf5d\n",
            "Successfully built ja-udjagsd26ne-trf\n",
            "Installing collected packages: ja-udjagsd26ne-trf\n",
            "Successfully installed ja-udjagsd26ne-trf-0.0.1\n",
            "ja-udjagsd26ne-trf            0.0.1\n"
          ]
        },
        {
          "output_type": "execute_result",
          "data": {
            "text/plain": [
              "[('transformer',\n",
              "  <spacy_transformers.pipeline_component.Transformer at 0x7f2a2009b280>),\n",
              " ('ner', <spacy.pipeline.ner.EntityRecognizer at 0x7f2a28039e40>)]"
            ]
          },
          "metadata": {},
          "execution_count": 17
        }
      ]
    },
    {
      "cell_type": "code",
      "source": [
        "%%time\n",
        "nlp2 = spacy.load(\"./ja_ud_japanese_gsd_2.6_ne_trf/model-best\")"
      ],
      "metadata": {
        "id": "DtwPRMlO1FjV",
        "colab": {
          "base_uri": "https://localhost:8080/"
        },
        "outputId": "a3c21006-ded4-4e19-b52b-6eb2c108631d"
      },
      "execution_count": 18,
      "outputs": [
        {
          "output_type": "stream",
          "name": "stdout",
          "text": [
            "CPU times: user 2.8 s, sys: 1.79 s, total: 4.59 s\n",
            "Wall time: 4.7 s\n"
          ]
        }
      ]
    },
    {
      "cell_type": "code",
      "source": [
        "%%time\n",
        "doc = nlp2(\"\"\"\n",
        "闇金業者に借金をしてしまうと、元金の返済はおろか、借金が増えていく一方で、心苦しい思いをしてしまうものです。\n",
        "そして、そのような状態になってしまうと、知りつつ借金したから誰にも頼れない心情となり、一人で悩みを抱え込み、解決策に気づけなくなってしまうことも多々あるのです。\n",
        "そのような際の解決方法を見つけたいなら、まず他人に相談するのが大切ではないでしょうか。\n",
        "一人で悩みを抱え込むと、周りが見えなくなってしまい、余計につらくなってしまうことがあります。\n",
        "そして、そのような時には弁護士や司法書士に相談するのが最良の対処法といえ、無料の相談サービスを利用して悩みを聞いてもらうのがよいのではないでしょうか。\n",
        "こういった法務事務所・法律事務所ではいつも、ヤミ金問題に困っている人たちの相談に乗っていて、弁護士や司法書士からの助言がもらえるので、とても役立ちます。\n",
        "ヤミ金解決に数多くの実績がある、人情派弁護士に、あなたの悩み・苦しみを、まずは無料相談してみては？\n",
        "北海道から沖縄まで、全国対応の事務所だから、東温市に住んでいる方ももちろん相談OKです。\n",
        "解決に伴う手数料も、分割払いOKなので、今は支払うお金が無くても、安心して相談できます。\n",
        "ヤミ金に悩んでいる東温市の女性の方、今スグここで無料相談してみませんか？\n",
        "地元の東温市の近くの法務事務所・法律事務所は下記を参考にどうぞ。\n",
        "一般の司法書士・弁護士事務所は、通常の債務整理についての相談は受け付けているのですが、闇金の問題に関しては、相談を受け付けていないケースも多くあります。\n",
        "東温市近辺の弁護士事務所や司法書士事務所でも、そういうところが多いかもしれません。\n",
        "闇金業者から借金をしてしまった結果、最初こそ普通の督促の電話があったものの後半には脅迫染みた電話がかかってきたり、家に怒鳴り込まれたりするなどあくどい債権回収を行われる場合があります。\n",
        "このような状況になってしまったら、弁護士や司法書士等に相談することが一番ですが、借金をしていることへの負い目や、闇金業者からの仕返しを恐れて相談や通報をためらってしまう場合もあるようです。\n",
        "また、弁護士や司法書士に依頼するのに歯止めをかけてしまう理由に、報酬を支払う余裕がない、という場合もあります。\n",
        "法律関連に強いのが彼らですから、闇金業者が如何に不法かを分かりやすく説明し、現在の目も当てられない状況を解決する手伝いしてくれます。\n",
        "弁護士や司法書士への依頼費用が高いと悩んでいる方も、無料で相談を受け付けている司法書士事務所や弁護士事務所もあります。\n",
        "ヤミ金業者からお金を借りてしまうと、元金の返済どころか、借金が増えていくばかりで、ドツボにはまっていってしまうものです。\n",
        "しかも、闇金にお金を借りるという状況は、ずいぶんお金に追い詰められた状況だけに、そのような人が、ヤミ金業者から借金をして返済できるわけがありません。\n",
        "そして、そのような状態になってしまうと、知りつつ借りたから人に頼れない心情になり、1人だけで悩みを抱え込んで、打開方法に気づけなくなってしまうこともあります。\n",
        "そのような時の対策というのは、まず人に相談することが一番です。\n",
        "\"\"\")\n"
      ],
      "metadata": {
        "id": "a77sz8vdND45",
        "colab": {
          "base_uri": "https://localhost:8080/"
        },
        "outputId": "d0ee70f8-028a-48cd-dff7-246618907b58"
      },
      "execution_count": 19,
      "outputs": [
        {
          "output_type": "stream",
          "name": "stdout",
          "text": [
            "CPU times: user 4.86 s, sys: 232 ms, total: 5.09 s\n",
            "Wall time: 7.51 s\n"
          ]
        }
      ]
    },
    {
      "cell_type": "code",
      "source": [
        "for ent in doc.ents:\n",
        "    print(ent.text, ent.start_char, ent.end_char, ent.label_)\n"
      ],
      "metadata": {
        "colab": {
          "base_uri": "https://localhost:8080/"
        },
        "id": "MBSGbmBKNH1D",
        "outputId": "87c690f4-7d99-4b67-b5c1-94e25932beb7"
      },
      "execution_count": 20,
      "outputs": [
        {
          "output_type": "stream",
          "name": "stdout",
          "text": [
            "一人 99 101 QUANTITY\n",
            "一人 181 183 QUANTITY\n",
            "北海道 431 434 GPE\n",
            "沖縄 436 438 GPE\n",
            "東温市 453 456 GPE\n",
            "東温市 530 533 GPE\n",
            "東温市 561 564 GPE\n",
            "東温市 668 671 GPE\n",
            "弁護士事務所 674 680 FAC\n",
            "司法書士事務所 681 688 FAC\n",
            "一番 837 839 ORDINAL\n",
            "司法書士事務所 1060 1067 FAC\n",
            "1人 1258 1260 QUANTITY\n",
            "一番 1323 1325 ORDINAL\n"
          ]
        }
      ]
    },
    {
      "cell_type": "code",
      "source": [
        "doc.ents"
      ],
      "metadata": {
        "colab": {
          "base_uri": "https://localhost:8080/"
        },
        "id": "AZuPMdQ6N7LC",
        "outputId": "bc645de9-0634-4a59-b259-cc011f2945b5"
      },
      "execution_count": 21,
      "outputs": [
        {
          "output_type": "execute_result",
          "data": {
            "text/plain": [
              "(一人, 一人, 北海道, 沖縄, 東温市, 東温市, 東温市, 東温市, 弁護士事務所, 司法書士事務所, 一番, 司法書士事務所, 1人, 一番)"
            ]
          },
          "metadata": {},
          "execution_count": 21
        }
      ]
    },
    {
      "cell_type": "code",
      "source": [
        "len(doc._.trf_data.tokens[\"input_texts\"])"
      ],
      "metadata": {
        "colab": {
          "base_uri": "https://localhost:8080/"
        },
        "id": "_-DCpHVPNs7b",
        "outputId": "d0c84389-4743-40b3-edae-ac0eb8297780"
      },
      "execution_count": 22,
      "outputs": [
        {
          "output_type": "execute_result",
          "data": {
            "text/plain": [
              "9"
            ]
          },
          "metadata": {},
          "execution_count": 22
        }
      ]
    },
    {
      "cell_type": "code",
      "source": [
        "doc._.trf_data.width"
      ],
      "metadata": {
        "colab": {
          "base_uri": "https://localhost:8080/"
        },
        "id": "QPLiWkn0NyTd",
        "outputId": "e1dfa49a-7c0b-4deb-c1dc-9a209c443443"
      },
      "execution_count": 23,
      "outputs": [
        {
          "output_type": "execute_result",
          "data": {
            "text/plain": [
              "768"
            ]
          },
          "metadata": {},
          "execution_count": 23
        }
      ]
    }
  ]
}